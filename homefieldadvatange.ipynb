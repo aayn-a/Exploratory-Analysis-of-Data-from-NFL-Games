{
 "cells": [
  {
   "cell_type": "markdown",
   "id": "ecb1ad9e",
   "metadata": {},
   "source": [
    "# NFL Outcome Prediction Analysis\n",
    "\n",
    "## Table of Contents\n",
    "1. [Introduction](#introduction)\n",
    "2. [Data Cleaning & Preparation](#cleaninginitial-analysis)\n",
    "3. [Home Field Advantage](#home-field-advantage)\n",
    "4. [Machine Learning Prediction Models](#comparing-different-models-for-prediction-of-who-won-an-nfl-game)\n",
    "5. [Combine Analysis](#is-there-a-linear-correlation-between-ppr-fantasy-points-in-a-players-rookie-year-and-combinephysical-stats)"
   ]
  },
  {
   "cell_type": "code",
   "execution_count": 1,
   "id": "932227c1",
   "metadata": {},
   "outputs": [],
   "source": [
    "import pandas as pd\n",
    "import numpy as np\n",
    "import statsmodels.api as sm\n",
    "import seaborn as sns\n",
    "import matplotlib.pyplot as plt\n",
    "from scipy import stats"
   ]
  },
  {
   "cell_type": "markdown",
   "id": "b9880eca",
   "metadata": {},
   "source": [
    "# Cleaning/Initial Analysis"
   ]
  },
  {
   "cell_type": "code",
   "execution_count": null,
   "id": "14197de4",
   "metadata": {},
   "outputs": [
    {
     "data": {
      "application/vnd.microsoft.datawrangler.viewer.v0+json": {
       "columns": [
        {
         "name": "index",
         "rawType": "int64",
         "type": "integer"
        },
        {
         "name": "Opp",
         "rawType": "object",
         "type": "string"
        },
        {
         "name": "Tm",
         "rawType": "float64",
         "type": "float"
        },
        {
         "name": "Opp.1",
         "rawType": "float64",
         "type": "float"
        },
        {
         "name": "1stD",
         "rawType": "float64",
         "type": "float"
        },
        {
         "name": "TotYd",
         "rawType": "float64",
         "type": "float"
        },
        {
         "name": "PassY",
         "rawType": "float64",
         "type": "float"
        },
        {
         "name": "RushY",
         "rawType": "float64",
         "type": "float"
        },
        {
         "name": "TO",
         "rawType": "float64",
         "type": "float"
        },
        {
         "name": "1stD.1",
         "rawType": "float64",
         "type": "float"
        },
        {
         "name": "TotYd.1",
         "rawType": "float64",
         "type": "float"
        },
        {
         "name": "PassY.1",
         "rawType": "float64",
         "type": "float"
        },
        {
         "name": "RushY.1",
         "rawType": "float64",
         "type": "float"
        },
        {
         "name": "TO.1",
         "rawType": "float64",
         "type": "float"
        },
        {
         "name": "Offense",
         "rawType": "float64",
         "type": "float"
        },
        {
         "name": "Defense",
         "rawType": "float64",
         "type": "float"
        },
        {
         "name": "Sp. Tms",
         "rawType": "float64",
         "type": "float"
        },
        {
         "name": "Home_team",
         "rawType": "object",
         "type": "string"
        },
        {
         "name": "Year",
         "rawType": "int64",
         "type": "integer"
        },
        {
         "name": "Winner",
         "rawType": "object",
         "type": "string"
        }
       ],
       "ref": "4dccfc08-a770-4320-b81f-2ba8b2e1e5a6",
       "rows": [
        [
         "0",
         "Tampa Bay Buccaneers",
         "31.0",
         "17.0",
         "17.0",
         "256.0",
         "158.0",
         "98.0",
         "2.0",
         "21.0",
         "295.0",
         "174.0",
         "121.0",
         "4.0",
         "-7.51",
         "19.12",
         "1.1",
         "San Francisco 49ers",
         "2019",
         "San Francisco 49ers"
        ],
        [
         "1",
         "Cincinnati Bengals",
         "41.0",
         "17.0",
         "27.0",
         "571.0",
         "312.0",
         "259.0",
         "1.0",
         "14.0",
         "316.0",
         "291.0",
         "25.0",
         "1.0",
         "27.34",
         "1.14",
         "-6.64",
         "San Francisco 49ers",
         "2019",
         "San Francisco 49ers"
        ],
        [
         "2",
         "Pittsburgh Steelers",
         "24.0",
         "20.0",
         "26.0",
         "436.0",
         "268.0",
         "168.0",
         "5.0",
         "11.0",
         "239.0",
         "160.0",
         "79.0",
         "2.0",
         "-3.72",
         "10.2",
         "0.12",
         "San Francisco 49ers",
         "2019",
         "San Francisco 49ers"
        ],
        [
         "3",
         "Los Angeles Rams",
         "20.0",
         "7.0",
         "22.0",
         "331.0",
         "232.0",
         "99.0",
         "2.0",
         "10.0",
         "157.0",
         "48.0",
         "109.0",
         "1.0",
         "-3.54",
         "25.23",
         "-5.01",
         "San Francisco 49ers",
         "2019",
         "San Francisco 49ers"
        ],
        [
         "4",
         "Washington Redskins",
         "9.0",
         "0.0",
         "17.0",
         "283.0",
         "146.0",
         "137.0",
         "1.0",
         "10.0",
         "154.0",
         "50.0",
         "104.0",
         "1.0",
         "-1.99",
         "14.12",
         "-0.61",
         "San Francisco 49ers",
         "2019",
         "San Francisco 49ers"
        ]
       ],
       "shape": {
        "columns": 19,
        "rows": 5
       }
      },
      "text/html": [
       "<div>\n",
       "<style scoped>\n",
       "    .dataframe tbody tr th:only-of-type {\n",
       "        vertical-align: middle;\n",
       "    }\n",
       "\n",
       "    .dataframe tbody tr th {\n",
       "        vertical-align: top;\n",
       "    }\n",
       "\n",
       "    .dataframe thead th {\n",
       "        text-align: right;\n",
       "    }\n",
       "</style>\n",
       "<table border=\"1\" class=\"dataframe\">\n",
       "  <thead>\n",
       "    <tr style=\"text-align: right;\">\n",
       "      <th></th>\n",
       "      <th>Opp</th>\n",
       "      <th>Tm</th>\n",
       "      <th>Opp.1</th>\n",
       "      <th>1stD</th>\n",
       "      <th>TotYd</th>\n",
       "      <th>PassY</th>\n",
       "      <th>RushY</th>\n",
       "      <th>TO</th>\n",
       "      <th>1stD.1</th>\n",
       "      <th>TotYd.1</th>\n",
       "      <th>PassY.1</th>\n",
       "      <th>RushY.1</th>\n",
       "      <th>TO.1</th>\n",
       "      <th>Offense</th>\n",
       "      <th>Defense</th>\n",
       "      <th>Sp. Tms</th>\n",
       "      <th>Home_team</th>\n",
       "      <th>Year</th>\n",
       "      <th>Winner</th>\n",
       "    </tr>\n",
       "  </thead>\n",
       "  <tbody>\n",
       "    <tr>\n",
       "      <th>0</th>\n",
       "      <td>Tampa Bay Buccaneers</td>\n",
       "      <td>31.0</td>\n",
       "      <td>17.0</td>\n",
       "      <td>17.0</td>\n",
       "      <td>256.0</td>\n",
       "      <td>158.0</td>\n",
       "      <td>98.0</td>\n",
       "      <td>2.0</td>\n",
       "      <td>21.0</td>\n",
       "      <td>295.0</td>\n",
       "      <td>174.0</td>\n",
       "      <td>121.0</td>\n",
       "      <td>4.0</td>\n",
       "      <td>-7.51</td>\n",
       "      <td>19.12</td>\n",
       "      <td>1.10</td>\n",
       "      <td>San Francisco 49ers</td>\n",
       "      <td>2019</td>\n",
       "      <td>San Francisco 49ers</td>\n",
       "    </tr>\n",
       "    <tr>\n",
       "      <th>1</th>\n",
       "      <td>Cincinnati Bengals</td>\n",
       "      <td>41.0</td>\n",
       "      <td>17.0</td>\n",
       "      <td>27.0</td>\n",
       "      <td>571.0</td>\n",
       "      <td>312.0</td>\n",
       "      <td>259.0</td>\n",
       "      <td>1.0</td>\n",
       "      <td>14.0</td>\n",
       "      <td>316.0</td>\n",
       "      <td>291.0</td>\n",
       "      <td>25.0</td>\n",
       "      <td>1.0</td>\n",
       "      <td>27.34</td>\n",
       "      <td>1.14</td>\n",
       "      <td>-6.64</td>\n",
       "      <td>San Francisco 49ers</td>\n",
       "      <td>2019</td>\n",
       "      <td>San Francisco 49ers</td>\n",
       "    </tr>\n",
       "    <tr>\n",
       "      <th>2</th>\n",
       "      <td>Pittsburgh Steelers</td>\n",
       "      <td>24.0</td>\n",
       "      <td>20.0</td>\n",
       "      <td>26.0</td>\n",
       "      <td>436.0</td>\n",
       "      <td>268.0</td>\n",
       "      <td>168.0</td>\n",
       "      <td>5.0</td>\n",
       "      <td>11.0</td>\n",
       "      <td>239.0</td>\n",
       "      <td>160.0</td>\n",
       "      <td>79.0</td>\n",
       "      <td>2.0</td>\n",
       "      <td>-3.72</td>\n",
       "      <td>10.20</td>\n",
       "      <td>0.12</td>\n",
       "      <td>San Francisco 49ers</td>\n",
       "      <td>2019</td>\n",
       "      <td>San Francisco 49ers</td>\n",
       "    </tr>\n",
       "    <tr>\n",
       "      <th>3</th>\n",
       "      <td>Los Angeles Rams</td>\n",
       "      <td>20.0</td>\n",
       "      <td>7.0</td>\n",
       "      <td>22.0</td>\n",
       "      <td>331.0</td>\n",
       "      <td>232.0</td>\n",
       "      <td>99.0</td>\n",
       "      <td>2.0</td>\n",
       "      <td>10.0</td>\n",
       "      <td>157.0</td>\n",
       "      <td>48.0</td>\n",
       "      <td>109.0</td>\n",
       "      <td>1.0</td>\n",
       "      <td>-3.54</td>\n",
       "      <td>25.23</td>\n",
       "      <td>-5.01</td>\n",
       "      <td>San Francisco 49ers</td>\n",
       "      <td>2019</td>\n",
       "      <td>San Francisco 49ers</td>\n",
       "    </tr>\n",
       "    <tr>\n",
       "      <th>4</th>\n",
       "      <td>Washington Redskins</td>\n",
       "      <td>9.0</td>\n",
       "      <td>0.0</td>\n",
       "      <td>17.0</td>\n",
       "      <td>283.0</td>\n",
       "      <td>146.0</td>\n",
       "      <td>137.0</td>\n",
       "      <td>1.0</td>\n",
       "      <td>10.0</td>\n",
       "      <td>154.0</td>\n",
       "      <td>50.0</td>\n",
       "      <td>104.0</td>\n",
       "      <td>1.0</td>\n",
       "      <td>-1.99</td>\n",
       "      <td>14.12</td>\n",
       "      <td>-0.61</td>\n",
       "      <td>San Francisco 49ers</td>\n",
       "      <td>2019</td>\n",
       "      <td>San Francisco 49ers</td>\n",
       "    </tr>\n",
       "  </tbody>\n",
       "</table>\n",
       "</div>"
      ],
      "text/plain": [
       "                    Opp    Tm  Opp.1  1stD  TotYd  PassY  RushY   TO  1stD.1  \\\n",
       "0  Tampa Bay Buccaneers  31.0   17.0  17.0  256.0  158.0   98.0  2.0    21.0   \n",
       "1    Cincinnati Bengals  41.0   17.0  27.0  571.0  312.0  259.0  1.0    14.0   \n",
       "2   Pittsburgh Steelers  24.0   20.0  26.0  436.0  268.0  168.0  5.0    11.0   \n",
       "3      Los Angeles Rams  20.0    7.0  22.0  331.0  232.0   99.0  2.0    10.0   \n",
       "4   Washington Redskins   9.0    0.0  17.0  283.0  146.0  137.0  1.0    10.0   \n",
       "\n",
       "   TotYd.1  PassY.1  RushY.1  TO.1  Offense  Defense  Sp. Tms  \\\n",
       "0    295.0    174.0    121.0   4.0    -7.51    19.12     1.10   \n",
       "1    316.0    291.0     25.0   1.0    27.34     1.14    -6.64   \n",
       "2    239.0    160.0     79.0   2.0    -3.72    10.20     0.12   \n",
       "3    157.0     48.0    109.0   1.0    -3.54    25.23    -5.01   \n",
       "4    154.0     50.0    104.0   1.0    -1.99    14.12    -0.61   \n",
       "\n",
       "             Home_team  Year               Winner  \n",
       "0  San Francisco 49ers  2019  San Francisco 49ers  \n",
       "1  San Francisco 49ers  2019  San Francisco 49ers  \n",
       "2  San Francisco 49ers  2019  San Francisco 49ers  \n",
       "3  San Francisco 49ers  2019  San Francisco 49ers  \n",
       "4  San Francisco 49ers  2019  San Francisco 49ers  "
      ]
     },
     "execution_count": 2,
     "metadata": {},
     "output_type": "execute_result"
    }
   ],
   "source": [
    "#nflcombine.csv has game data from 2019-2022.\n",
    "nfl_data = pd.read_csv(\"nflcombine.csv\")\n",
    "nfl_data = nfl_data.drop(columns=['Unnamed: 0'])\n",
    "nfl_data.head()"
   ]
  },
  {
   "cell_type": "code",
   "execution_count": 3,
   "id": "9d6be14d",
   "metadata": {},
   "outputs": [
    {
     "data": {
      "application/vnd.microsoft.datawrangler.viewer.v0+json": {
       "columns": [
        {
         "name": "index",
         "rawType": "object",
         "type": "string"
        },
        {
         "name": "Tm",
         "rawType": "float64",
         "type": "float"
        },
        {
         "name": "Opp.1",
         "rawType": "float64",
         "type": "float"
        },
        {
         "name": "1stD",
         "rawType": "float64",
         "type": "float"
        },
        {
         "name": "TotYd",
         "rawType": "float64",
         "type": "float"
        },
        {
         "name": "PassY",
         "rawType": "float64",
         "type": "float"
        },
        {
         "name": "RushY",
         "rawType": "float64",
         "type": "float"
        },
        {
         "name": "TO",
         "rawType": "float64",
         "type": "float"
        },
        {
         "name": "1stD.1",
         "rawType": "float64",
         "type": "float"
        },
        {
         "name": "TotYd.1",
         "rawType": "float64",
         "type": "float"
        },
        {
         "name": "PassY.1",
         "rawType": "float64",
         "type": "float"
        },
        {
         "name": "RushY.1",
         "rawType": "float64",
         "type": "float"
        },
        {
         "name": "TO.1",
         "rawType": "float64",
         "type": "float"
        },
        {
         "name": "Offense",
         "rawType": "float64",
         "type": "float"
        },
        {
         "name": "Defense",
         "rawType": "float64",
         "type": "float"
        },
        {
         "name": "Sp. Tms",
         "rawType": "float64",
         "type": "float"
        },
        {
         "name": "Year",
         "rawType": "float64",
         "type": "float"
        }
       ],
       "ref": "61abce6c-6d2b-438b-8961-5c36e8beefed",
       "rows": [
        [
         "count",
         "895.0",
         "895.0",
         "895.0",
         "895.0",
         "895.0",
         "895.0",
         "895.0",
         "895.0",
         "895.0",
         "895.0",
         "895.0",
         "895.0",
         "895.0",
         "895.0",
         "895.0",
         "895.0"
        ],
        [
         "mean",
         "23.225698324022346",
         "23.027932960893853",
         "20.50167597765363",
         "348.04804469273745",
         "231.83016759776535",
         "116.21787709497207",
         "1.7731843575418995",
         "20.456983240223465",
         "346.21340782122905",
         "230.55418994413407",
         "115.65921787709497",
         "1.7776536312849163",
         "2.345296089385475",
         "-2.1087597765363126",
         "-0.030871508379888238",
         "2020.167597765363"
        ],
        [
         "std",
         "9.85535256620441",
         "9.891712441688636",
         "4.985857794661151",
         "85.87369721032574",
         "79.2503056506492",
         "51.79693306683602",
         "1.0005347700871021",
         "5.036343735964429",
         "86.1114739728868",
         "79.53616318880422",
         "51.47770592636477",
         "1.0071073338566947",
         "11.939508686269452",
         "12.01352782063877",
         "5.01032010125386",
         "0.9801499310020497"
        ],
        [
         "min",
         "0.0",
         "0.0",
         "6.0",
         "105.0",
         "-6.0",
         "3.0",
         "1.0",
         "6.0",
         "105.0",
         "-6.0",
         "3.0",
         "1.0",
         "-35.65",
         "-40.69",
         "-17.39",
         "2019.0"
        ],
        [
         "25%",
         "17.0",
         "17.0",
         "17.0",
         "285.5",
         "175.0",
         "78.0",
         "1.0",
         "17.0",
         "283.0",
         "174.0",
         "78.0",
         "1.0",
         "-4.8",
         "-9.875",
         "-3.41",
         "2019.0"
        ],
        [
         "50%",
         "23.0",
         "23.0",
         "21.0",
         "354.0",
         "229.0",
         "109.0",
         "1.0",
         "21.0",
         "352.0",
         "228.0",
         "108.0",
         "1.0",
         "3.21",
         "-2.83",
         "-0.06",
         "2020.0"
        ],
        [
         "75%",
         "30.0",
         "30.0",
         "24.0",
         "405.5",
         "282.5",
         "145.0",
         "2.0",
         "24.0",
         "403.5",
         "280.5",
         "144.0",
         "2.0",
         "9.93",
         "5.31",
         "3.355",
         "2021.0"
        ],
        [
         "max",
         "56.0",
         "56.0",
         "36.0",
         "592.0",
         "490.0",
         "404.0",
         "7.0",
         "36.0",
         "592.0",
         "490.0",
         "404.0",
         "7.0",
         "40.69",
         "35.65",
         "17.39",
         "2022.0"
        ]
       ],
       "shape": {
        "columns": 16,
        "rows": 8
       }
      },
      "text/html": [
       "<div>\n",
       "<style scoped>\n",
       "    .dataframe tbody tr th:only-of-type {\n",
       "        vertical-align: middle;\n",
       "    }\n",
       "\n",
       "    .dataframe tbody tr th {\n",
       "        vertical-align: top;\n",
       "    }\n",
       "\n",
       "    .dataframe thead th {\n",
       "        text-align: right;\n",
       "    }\n",
       "</style>\n",
       "<table border=\"1\" class=\"dataframe\">\n",
       "  <thead>\n",
       "    <tr style=\"text-align: right;\">\n",
       "      <th></th>\n",
       "      <th>Tm</th>\n",
       "      <th>Opp.1</th>\n",
       "      <th>1stD</th>\n",
       "      <th>TotYd</th>\n",
       "      <th>PassY</th>\n",
       "      <th>RushY</th>\n",
       "      <th>TO</th>\n",
       "      <th>1stD.1</th>\n",
       "      <th>TotYd.1</th>\n",
       "      <th>PassY.1</th>\n",
       "      <th>RushY.1</th>\n",
       "      <th>TO.1</th>\n",
       "      <th>Offense</th>\n",
       "      <th>Defense</th>\n",
       "      <th>Sp. Tms</th>\n",
       "      <th>Year</th>\n",
       "    </tr>\n",
       "  </thead>\n",
       "  <tbody>\n",
       "    <tr>\n",
       "      <th>count</th>\n",
       "      <td>895.000000</td>\n",
       "      <td>895.000000</td>\n",
       "      <td>895.000000</td>\n",
       "      <td>895.000000</td>\n",
       "      <td>895.000000</td>\n",
       "      <td>895.000000</td>\n",
       "      <td>895.000000</td>\n",
       "      <td>895.000000</td>\n",
       "      <td>895.000000</td>\n",
       "      <td>895.000000</td>\n",
       "      <td>895.000000</td>\n",
       "      <td>895.000000</td>\n",
       "      <td>895.000000</td>\n",
       "      <td>895.000000</td>\n",
       "      <td>895.000000</td>\n",
       "      <td>895.000000</td>\n",
       "    </tr>\n",
       "    <tr>\n",
       "      <th>mean</th>\n",
       "      <td>23.225698</td>\n",
       "      <td>23.027933</td>\n",
       "      <td>20.501676</td>\n",
       "      <td>348.048045</td>\n",
       "      <td>231.830168</td>\n",
       "      <td>116.217877</td>\n",
       "      <td>1.773184</td>\n",
       "      <td>20.456983</td>\n",
       "      <td>346.213408</td>\n",
       "      <td>230.554190</td>\n",
       "      <td>115.659218</td>\n",
       "      <td>1.777654</td>\n",
       "      <td>2.345296</td>\n",
       "      <td>-2.108760</td>\n",
       "      <td>-0.030872</td>\n",
       "      <td>2020.167598</td>\n",
       "    </tr>\n",
       "    <tr>\n",
       "      <th>std</th>\n",
       "      <td>9.855353</td>\n",
       "      <td>9.891712</td>\n",
       "      <td>4.985858</td>\n",
       "      <td>85.873697</td>\n",
       "      <td>79.250306</td>\n",
       "      <td>51.796933</td>\n",
       "      <td>1.000535</td>\n",
       "      <td>5.036344</td>\n",
       "      <td>86.111474</td>\n",
       "      <td>79.536163</td>\n",
       "      <td>51.477706</td>\n",
       "      <td>1.007107</td>\n",
       "      <td>11.939509</td>\n",
       "      <td>12.013528</td>\n",
       "      <td>5.010320</td>\n",
       "      <td>0.980150</td>\n",
       "    </tr>\n",
       "    <tr>\n",
       "      <th>min</th>\n",
       "      <td>0.000000</td>\n",
       "      <td>0.000000</td>\n",
       "      <td>6.000000</td>\n",
       "      <td>105.000000</td>\n",
       "      <td>-6.000000</td>\n",
       "      <td>3.000000</td>\n",
       "      <td>1.000000</td>\n",
       "      <td>6.000000</td>\n",
       "      <td>105.000000</td>\n",
       "      <td>-6.000000</td>\n",
       "      <td>3.000000</td>\n",
       "      <td>1.000000</td>\n",
       "      <td>-35.650000</td>\n",
       "      <td>-40.690000</td>\n",
       "      <td>-17.390000</td>\n",
       "      <td>2019.000000</td>\n",
       "    </tr>\n",
       "    <tr>\n",
       "      <th>25%</th>\n",
       "      <td>17.000000</td>\n",
       "      <td>17.000000</td>\n",
       "      <td>17.000000</td>\n",
       "      <td>285.500000</td>\n",
       "      <td>175.000000</td>\n",
       "      <td>78.000000</td>\n",
       "      <td>1.000000</td>\n",
       "      <td>17.000000</td>\n",
       "      <td>283.000000</td>\n",
       "      <td>174.000000</td>\n",
       "      <td>78.000000</td>\n",
       "      <td>1.000000</td>\n",
       "      <td>-4.800000</td>\n",
       "      <td>-9.875000</td>\n",
       "      <td>-3.410000</td>\n",
       "      <td>2019.000000</td>\n",
       "    </tr>\n",
       "    <tr>\n",
       "      <th>50%</th>\n",
       "      <td>23.000000</td>\n",
       "      <td>23.000000</td>\n",
       "      <td>21.000000</td>\n",
       "      <td>354.000000</td>\n",
       "      <td>229.000000</td>\n",
       "      <td>109.000000</td>\n",
       "      <td>1.000000</td>\n",
       "      <td>21.000000</td>\n",
       "      <td>352.000000</td>\n",
       "      <td>228.000000</td>\n",
       "      <td>108.000000</td>\n",
       "      <td>1.000000</td>\n",
       "      <td>3.210000</td>\n",
       "      <td>-2.830000</td>\n",
       "      <td>-0.060000</td>\n",
       "      <td>2020.000000</td>\n",
       "    </tr>\n",
       "    <tr>\n",
       "      <th>75%</th>\n",
       "      <td>30.000000</td>\n",
       "      <td>30.000000</td>\n",
       "      <td>24.000000</td>\n",
       "      <td>405.500000</td>\n",
       "      <td>282.500000</td>\n",
       "      <td>145.000000</td>\n",
       "      <td>2.000000</td>\n",
       "      <td>24.000000</td>\n",
       "      <td>403.500000</td>\n",
       "      <td>280.500000</td>\n",
       "      <td>144.000000</td>\n",
       "      <td>2.000000</td>\n",
       "      <td>9.930000</td>\n",
       "      <td>5.310000</td>\n",
       "      <td>3.355000</td>\n",
       "      <td>2021.000000</td>\n",
       "    </tr>\n",
       "    <tr>\n",
       "      <th>max</th>\n",
       "      <td>56.000000</td>\n",
       "      <td>56.000000</td>\n",
       "      <td>36.000000</td>\n",
       "      <td>592.000000</td>\n",
       "      <td>490.000000</td>\n",
       "      <td>404.000000</td>\n",
       "      <td>7.000000</td>\n",
       "      <td>36.000000</td>\n",
       "      <td>592.000000</td>\n",
       "      <td>490.000000</td>\n",
       "      <td>404.000000</td>\n",
       "      <td>7.000000</td>\n",
       "      <td>40.690000</td>\n",
       "      <td>35.650000</td>\n",
       "      <td>17.390000</td>\n",
       "      <td>2022.000000</td>\n",
       "    </tr>\n",
       "  </tbody>\n",
       "</table>\n",
       "</div>"
      ],
      "text/plain": [
       "               Tm       Opp.1        1stD       TotYd       PassY       RushY  \\\n",
       "count  895.000000  895.000000  895.000000  895.000000  895.000000  895.000000   \n",
       "mean    23.225698   23.027933   20.501676  348.048045  231.830168  116.217877   \n",
       "std      9.855353    9.891712    4.985858   85.873697   79.250306   51.796933   \n",
       "min      0.000000    0.000000    6.000000  105.000000   -6.000000    3.000000   \n",
       "25%     17.000000   17.000000   17.000000  285.500000  175.000000   78.000000   \n",
       "50%     23.000000   23.000000   21.000000  354.000000  229.000000  109.000000   \n",
       "75%     30.000000   30.000000   24.000000  405.500000  282.500000  145.000000   \n",
       "max     56.000000   56.000000   36.000000  592.000000  490.000000  404.000000   \n",
       "\n",
       "               TO      1stD.1     TotYd.1     PassY.1     RushY.1        TO.1  \\\n",
       "count  895.000000  895.000000  895.000000  895.000000  895.000000  895.000000   \n",
       "mean     1.773184   20.456983  346.213408  230.554190  115.659218    1.777654   \n",
       "std      1.000535    5.036344   86.111474   79.536163   51.477706    1.007107   \n",
       "min      1.000000    6.000000  105.000000   -6.000000    3.000000    1.000000   \n",
       "25%      1.000000   17.000000  283.000000  174.000000   78.000000    1.000000   \n",
       "50%      1.000000   21.000000  352.000000  228.000000  108.000000    1.000000   \n",
       "75%      2.000000   24.000000  403.500000  280.500000  144.000000    2.000000   \n",
       "max      7.000000   36.000000  592.000000  490.000000  404.000000    7.000000   \n",
       "\n",
       "          Offense     Defense     Sp. Tms         Year  \n",
       "count  895.000000  895.000000  895.000000   895.000000  \n",
       "mean     2.345296   -2.108760   -0.030872  2020.167598  \n",
       "std     11.939509   12.013528    5.010320     0.980150  \n",
       "min    -35.650000  -40.690000  -17.390000  2019.000000  \n",
       "25%     -4.800000   -9.875000   -3.410000  2019.000000  \n",
       "50%      3.210000   -2.830000   -0.060000  2020.000000  \n",
       "75%      9.930000    5.310000    3.355000  2021.000000  \n",
       "max     40.690000   35.650000   17.390000  2022.000000  "
      ]
     },
     "execution_count": 3,
     "metadata": {},
     "output_type": "execute_result"
    }
   ],
   "source": [
    "nfl_data.describe()"
   ]
  },
  {
   "cell_type": "code",
   "execution_count": 4,
   "id": "2251c01b",
   "metadata": {},
   "outputs": [
    {
     "name": "stdout",
     "output_type": "stream",
     "text": [
      "<class 'pandas.core.frame.DataFrame'>\n",
      "RangeIndex: 895 entries, 0 to 894\n",
      "Data columns (total 19 columns):\n",
      " #   Column     Non-Null Count  Dtype  \n",
      "---  ------     --------------  -----  \n",
      " 0   Opp        895 non-null    object \n",
      " 1   Tm         895 non-null    float64\n",
      " 2   Opp.1      895 non-null    float64\n",
      " 3   1stD       895 non-null    float64\n",
      " 4   TotYd      895 non-null    float64\n",
      " 5   PassY      895 non-null    float64\n",
      " 6   RushY      895 non-null    float64\n",
      " 7   TO         895 non-null    float64\n",
      " 8   1stD.1     895 non-null    float64\n",
      " 9   TotYd.1    895 non-null    float64\n",
      " 10  PassY.1    895 non-null    float64\n",
      " 11  RushY.1    895 non-null    float64\n",
      " 12  TO.1       895 non-null    float64\n",
      " 13  Offense    895 non-null    float64\n",
      " 14  Defense    895 non-null    float64\n",
      " 15  Sp. Tms    895 non-null    float64\n",
      " 16  Home_team  895 non-null    object \n",
      " 17  Year       895 non-null    int64  \n",
      " 18  Winner     891 non-null    object \n",
      "dtypes: float64(15), int64(1), object(3)\n",
      "memory usage: 133.0+ KB\n"
     ]
    }
   ],
   "source": [
    "nfl_data.info()"
   ]
  },
  {
   "cell_type": "markdown",
   "id": "ee0cbe47",
   "metadata": {},
   "source": [
    "The following aggregates multiple datasets into one about rookie stats and their combine stats"
   ]
  },
  {
   "cell_type": "code",
   "execution_count": 41,
   "id": "205d9e05",
   "metadata": {},
   "outputs": [],
   "source": [
    "\n",
    "def dataFrameCreation(year, pos):\n",
    "    \"\"\"\n",
    "    Creates a merged DataFrame containing rookie player stats and combine results for a given year and position.\n",
    "\n",
    "    Parameters:\n",
    "        year (int): The rookie year to filter players by.\n",
    "        pos (str): The position to filter players by (e.g., \"WR\" for wide receiver).\n",
    "\n",
    "    Returns:\n",
    "        pd.DataFrame: Merged DataFrame of rookies at the specified position and year, including combine stats.\n",
    "                      \n",
    "    \"\"\"\n",
    "        \n",
    "    players = pd.read_csv(\"fullplayersdataset.csv\") #DataFrame with most if not every single NFL Player\n",
    "    combine = pd.read_csv(\"combine.csv\") #Combine Stats of players since 2000s\n",
    "    rookies = players[players[\"rookie_year\"] == year] \n",
    "    rookies.rename(columns={\"display_name\": \"player_name\"}, inplace=True)\n",
    "    playerStats = pd.read_csv(f\"PlayerStatsNFLVerseData/player_stats_season_{year}.csv\")\n",
    "    playerStats = playerStats.drop(columns=['player_name', 'player_id', \"headshot_url\", \"recent_team\", \"season_type\"], axis=1)\n",
    "    playerStats.rename(columns={\"player_display_name\": \"player_name\"}, inplace=True)\n",
    "    merged = pd.merge(rookies, playerStats, on='player_name', how='left')\n",
    "    merged = merged.drop(columns=[\"current_team_id\", \"esb_id\", \"gsis_it_id\", \"uniform_number\", \"headshot\", \"smart_id\"])\n",
    "    merged = merged.dropna(subset=[\"season\"])\n",
    "    posD = merged[merged[\"position_x\"] == pos]\n",
    "    newPos = pd.merge(posD, combine, on=\"player_name\", how = \"left\")\n",
    "    for col in [\"bench\", \"forty\", \"vertical\", \"shuttle\", \"broad_jump\", \"cone\"]:\n",
    "        newPos[f\"{col}_missing\"] = newPos[col].isnull().astype(int)\n",
    "    \n",
    "    return newPos\n",
    "\n",
    "\n"
   ]
  },
  {
   "cell_type": "code",
   "execution_count": 42,
   "id": "86b56e36",
   "metadata": {},
   "outputs": [
    {
     "data": {
      "application/vnd.microsoft.datawrangler.viewer.v0+json": {
       "columns": [
        {
         "name": "index",
         "rawType": "int64",
         "type": "integer"
        },
        {
         "name": "college_conference",
         "rawType": "object",
         "type": "string"
        },
        {
         "name": "college_name",
         "rawType": "object",
         "type": "string"
        },
        {
         "name": "player_name",
         "rawType": "object",
         "type": "string"
        },
        {
         "name": "draft_club",
         "rawType": "object",
         "type": "unknown"
        },
        {
         "name": "draft_number",
         "rawType": "float64",
         "type": "float"
        },
        {
         "name": "draftround",
         "rawType": "float64",
         "type": "float"
        },
        {
         "name": "entry_year",
         "rawType": "float64",
         "type": "float"
        },
        {
         "name": "first_name",
         "rawType": "object",
         "type": "string"
        },
        {
         "name": "football_name",
         "rawType": "object",
         "type": "string"
        },
        {
         "name": "gsis_id",
         "rawType": "object",
         "type": "string"
        },
        {
         "name": "jersey_number",
         "rawType": "float64",
         "type": "float"
        },
        {
         "name": "last_name",
         "rawType": "object",
         "type": "string"
        },
        {
         "name": "position_x",
         "rawType": "object",
         "type": "string"
        },
        {
         "name": "position_group_x",
         "rawType": "object",
         "type": "string"
        },
        {
         "name": "rookie_year",
         "rawType": "float64",
         "type": "float"
        },
        {
         "name": "short_name",
         "rawType": "object",
         "type": "string"
        },
        {
         "name": "status",
         "rawType": "object",
         "type": "string"
        },
        {
         "name": "status_description_abbr",
         "rawType": "object",
         "type": "string"
        },
        {
         "name": "status_short_description",
         "rawType": "object",
         "type": "string"
        },
        {
         "name": "team_abbr",
         "rawType": "object",
         "type": "string"
        },
        {
         "name": "height",
         "rawType": "float64",
         "type": "float"
        },
        {
         "name": "weight",
         "rawType": "float64",
         "type": "float"
        },
        {
         "name": "years_of_experience",
         "rawType": "float64",
         "type": "float"
        },
        {
         "name": "birth_date",
         "rawType": "object",
         "type": "string"
        },
        {
         "name": "team_seq",
         "rawType": "float64",
         "type": "float"
        },
        {
         "name": "suffix",
         "rawType": "object",
         "type": "unknown"
        },
        {
         "name": "season_x",
         "rawType": "float64",
         "type": "float"
        },
        {
         "name": "position_y",
         "rawType": "object",
         "type": "string"
        },
        {
         "name": "position_group_y",
         "rawType": "object",
         "type": "string"
        },
        {
         "name": "games",
         "rawType": "float64",
         "type": "float"
        },
        {
         "name": "completions",
         "rawType": "float64",
         "type": "float"
        },
        {
         "name": "attempts",
         "rawType": "float64",
         "type": "float"
        },
        {
         "name": "passing_yards",
         "rawType": "float64",
         "type": "float"
        },
        {
         "name": "passing_tds",
         "rawType": "float64",
         "type": "float"
        },
        {
         "name": "interceptions",
         "rawType": "float64",
         "type": "float"
        },
        {
         "name": "sacks",
         "rawType": "float64",
         "type": "float"
        },
        {
         "name": "sack_yards",
         "rawType": "float64",
         "type": "float"
        },
        {
         "name": "sack_fumbles",
         "rawType": "float64",
         "type": "float"
        },
        {
         "name": "sack_fumbles_lost",
         "rawType": "float64",
         "type": "float"
        },
        {
         "name": "passing_air_yards",
         "rawType": "float64",
         "type": "float"
        },
        {
         "name": "passing_yards_after_catch",
         "rawType": "float64",
         "type": "float"
        },
        {
         "name": "passing_first_downs",
         "rawType": "float64",
         "type": "float"
        },
        {
         "name": "passing_epa",
         "rawType": "float64",
         "type": "float"
        },
        {
         "name": "passing_2pt_conversions",
         "rawType": "float64",
         "type": "float"
        },
        {
         "name": "pacr",
         "rawType": "float64",
         "type": "float"
        },
        {
         "name": "dakota",
         "rawType": "float64",
         "type": "float"
        },
        {
         "name": "carries",
         "rawType": "float64",
         "type": "float"
        },
        {
         "name": "rushing_yards",
         "rawType": "float64",
         "type": "float"
        },
        {
         "name": "rushing_tds",
         "rawType": "float64",
         "type": "float"
        },
        {
         "name": "rushing_fumbles",
         "rawType": "float64",
         "type": "float"
        },
        {
         "name": "rushing_fumbles_lost",
         "rawType": "float64",
         "type": "float"
        },
        {
         "name": "rushing_first_downs",
         "rawType": "float64",
         "type": "float"
        },
        {
         "name": "rushing_epa",
         "rawType": "float64",
         "type": "float"
        },
        {
         "name": "rushing_2pt_conversions",
         "rawType": "float64",
         "type": "float"
        },
        {
         "name": "receptions",
         "rawType": "float64",
         "type": "float"
        },
        {
         "name": "targets",
         "rawType": "float64",
         "type": "float"
        },
        {
         "name": "receiving_yards",
         "rawType": "float64",
         "type": "float"
        },
        {
         "name": "receiving_tds",
         "rawType": "float64",
         "type": "float"
        },
        {
         "name": "receiving_fumbles",
         "rawType": "float64",
         "type": "float"
        },
        {
         "name": "receiving_fumbles_lost",
         "rawType": "float64",
         "type": "float"
        },
        {
         "name": "receiving_air_yards",
         "rawType": "float64",
         "type": "float"
        },
        {
         "name": "receiving_yards_after_catch",
         "rawType": "float64",
         "type": "float"
        },
        {
         "name": "receiving_first_downs",
         "rawType": "float64",
         "type": "float"
        },
        {
         "name": "receiving_epa",
         "rawType": "float64",
         "type": "float"
        },
        {
         "name": "receiving_2pt_conversions",
         "rawType": "float64",
         "type": "float"
        },
        {
         "name": "racr",
         "rawType": "float64",
         "type": "float"
        },
        {
         "name": "target_share",
         "rawType": "float64",
         "type": "float"
        },
        {
         "name": "air_yards_share",
         "rawType": "float64",
         "type": "float"
        },
        {
         "name": "wopr",
         "rawType": "float64",
         "type": "float"
        },
        {
         "name": "special_teams_tds",
         "rawType": "float64",
         "type": "float"
        },
        {
         "name": "fantasy_points",
         "rawType": "float64",
         "type": "float"
        },
        {
         "name": "fantasy_points_ppr",
         "rawType": "float64",
         "type": "float"
        },
        {
         "name": "season_y",
         "rawType": "float64",
         "type": "float"
        },
        {
         "name": "draft_year",
         "rawType": "float64",
         "type": "float"
        },
        {
         "name": "draft_team",
         "rawType": "object",
         "type": "unknown"
        },
        {
         "name": "draft_round",
         "rawType": "float64",
         "type": "float"
        },
        {
         "name": "draft_ovr",
         "rawType": "float64",
         "type": "float"
        },
        {
         "name": "pfr_id",
         "rawType": "object",
         "type": "unknown"
        },
        {
         "name": "cfb_id",
         "rawType": "object",
         "type": "unknown"
        },
        {
         "name": "pos",
         "rawType": "object",
         "type": "unknown"
        },
        {
         "name": "school",
         "rawType": "object",
         "type": "unknown"
        },
        {
         "name": "ht",
         "rawType": "object",
         "type": "unknown"
        },
        {
         "name": "wt",
         "rawType": "float64",
         "type": "float"
        },
        {
         "name": "forty",
         "rawType": "float64",
         "type": "float"
        },
        {
         "name": "bench",
         "rawType": "float64",
         "type": "float"
        },
        {
         "name": "vertical",
         "rawType": "float64",
         "type": "float"
        },
        {
         "name": "broad_jump",
         "rawType": "float64",
         "type": "float"
        },
        {
         "name": "cone",
         "rawType": "float64",
         "type": "float"
        },
        {
         "name": "shuttle",
         "rawType": "float64",
         "type": "float"
        },
        {
         "name": "bench_missing",
         "rawType": "int64",
         "type": "integer"
        },
        {
         "name": "forty_missing",
         "rawType": "int64",
         "type": "integer"
        },
        {
         "name": "vertical_missing",
         "rawType": "int64",
         "type": "integer"
        },
        {
         "name": "shuttle_missing",
         "rawType": "int64",
         "type": "integer"
        },
        {
         "name": "broad_jump_missing",
         "rawType": "int64",
         "type": "integer"
        },
        {
         "name": "cone_missing",
         "rawType": "int64",
         "type": "integer"
        }
       ],
       "ref": "bb502aa9-e571-4f07-bbc3-8d7cb847f69c",
       "rows": [
        [
         "0",
         "Southeastern Conference",
         "Mississippi",
         "A.J. Brown",
         "TEN",
         "51.0",
         "2.0",
         "2019.0",
         "Arthur",
         "A.J.",
         "00-0035676",
         "11.0",
         "Brown",
         "WR",
         "WR",
         "2019.0",
         "A.Brown",
         "ACT",
         "A01",
         "Active",
         "PHI",
         "72.0",
         "226.0",
         "6.0",
         "1997-06-30",
         "1.0",
         null,
         "2019.0",
         "WR",
         "WR",
         "16.0",
         "0.0",
         "0.0",
         "0.0",
         "0.0",
         "0.0",
         "0.0",
         "0.0",
         "0.0",
         "0.0",
         "0.0",
         "0.0",
         "0.0",
         null,
         "0.0",
         null,
         null,
         "3.0",
         "60.0",
         "1.0",
         "0.0",
         "0.0",
         "2.0",
         "3.38728960650042",
         "0.0",
         "52.0",
         "84.0",
         "1051.0",
         "8.0",
         "1.0",
         "0.0",
         "1107.0",
         "465.0",
         "39.0",
         "49.5578369436113",
         "0.0",
         "0.949412827461608",
         "0.196261682242991",
         "0.290246460409019",
         "0.4975650456508",
         "0.0",
         "165.1",
         "217.1",
         "2019.0",
         "2019.0",
         "Tennessee Titans",
         "2.0",
         "51.0",
         "BrowAJ00",
         "aj-brown-3",
         "WR",
         "Mississippi",
         "6-0",
         "226.0",
         "4.49",
         "19.0",
         "36.5",
         "120.0",
         null,
         null,
         "0",
         "0",
         "0",
         "1",
         "0",
         "1"
        ],
        [
         "1",
         "Southeastern Conference",
         "Mississippi",
         "A.J. Brown",
         "TEN",
         "51.0",
         "2.0",
         "2019.0",
         "Arthur",
         "A.J.",
         "00-0035676",
         "11.0",
         "Brown",
         "WR",
         "WR",
         "2019.0",
         "A.Brown",
         "ACT",
         "A01",
         "Active",
         "PHI",
         "72.0",
         "226.0",
         "6.0",
         "1997-06-30",
         "1.0",
         null,
         "2019.0",
         "WR",
         "WR",
         "3.0",
         "0.0",
         "0.0",
         "0.0",
         "0.0",
         "0.0",
         "0.0",
         "0.0",
         "0.0",
         "0.0",
         "0.0",
         "0.0",
         "0.0",
         null,
         "0.0",
         null,
         null,
         "1.0",
         "9.0",
         "0.0",
         "0.0",
         "0.0",
         "0.0",
         "0.876713443314657",
         "0.0",
         "5.0",
         "10.0",
         "64.0",
         "0.0",
         "0.0",
         "0.0",
         "90.0",
         "38.0",
         "3.0",
         "0.407773490529507",
         "0.0",
         "0.711111111111111",
         "0.161290322580645",
         "0.152801358234295",
         "0.348896434634975",
         "0.0",
         "7.3",
         "12.3",
         "2019.0",
         "2019.0",
         "Tennessee Titans",
         "2.0",
         "51.0",
         "BrowAJ00",
         "aj-brown-3",
         "WR",
         "Mississippi",
         "6-0",
         "226.0",
         "4.49",
         "19.0",
         "36.5",
         "120.0",
         null,
         null,
         "0",
         "0",
         "0",
         "1",
         "0",
         "1"
        ],
        [
         "2",
         "Southeastern Conference",
         "Mississippi",
         "A.J. Brown",
         "TEN",
         "51.0",
         "2.0",
         "2019.0",
         "Arthur",
         "A.J.",
         "00-0035676",
         "11.0",
         "Brown",
         "WR",
         "WR",
         "2019.0",
         "A.Brown",
         "ACT",
         "A01",
         "Active",
         "PHI",
         "72.0",
         "226.0",
         "6.0",
         "1997-06-30",
         "1.0",
         null,
         "2019.0",
         "WR",
         "WR",
         "19.0",
         "0.0",
         "0.0",
         "0.0",
         "0.0",
         "0.0",
         "0.0",
         "0.0",
         "0.0",
         "0.0",
         "0.0",
         "0.0",
         "0.0",
         null,
         "0.0",
         null,
         null,
         "4.0",
         "69.0",
         "1.0",
         "0.0",
         "0.0",
         "2.0",
         "4.26400304981507",
         "0.0",
         "57.0",
         "94.0",
         "1115.0",
         "8.0",
         "1.0",
         "0.0",
         "1197.0",
         "503.0",
         "42.0",
         "49.9656104341409",
         "0.0",
         "0.931495405179616",
         "0.191836734693878",
         "0.271860095389507",
         "0.478057168813471",
         "0.0",
         "172.4",
         "229.4",
         "2019.0",
         "2019.0",
         "Tennessee Titans",
         "2.0",
         "51.0",
         "BrowAJ00",
         "aj-brown-3",
         "WR",
         "Mississippi",
         "6-0",
         "226.0",
         "4.49",
         "19.0",
         "36.5",
         "120.0",
         null,
         null,
         "0",
         "0",
         "0",
         "1",
         "0",
         "1"
        ],
        [
         "3",
         "Ohio Valley Conference",
         "Eastern Illinois",
         "Alexander Hollins",
         null,
         null,
         null,
         "2019.0",
         "Alexander",
         "Alexander",
         "00-0035104",
         "83.0",
         "Hollins",
         "WR",
         "WR",
         "2019.0",
         "A.Hollins",
         "CUT",
         "P01",
         "Practice Squad",
         "CLE",
         "73.0",
         "166.0",
         "1.0",
         "1996-11-24",
         "1.0",
         null,
         "2019.0",
         "WR",
         "WR",
         "2.0",
         "0.0",
         "0.0",
         "0.0",
         "0.0",
         "0.0",
         "0.0",
         "0.0",
         "0.0",
         "0.0",
         "0.0",
         "0.0",
         "0.0",
         null,
         "0.0",
         null,
         null,
         "0.0",
         "0.0",
         "0.0",
         "0.0",
         "0.0",
         "0.0",
         null,
         "0.0",
         "2.0",
         "4.0",
         "46.0",
         "0.0",
         "0.0",
         "0.0",
         "75.0",
         "6.0",
         "2.0",
         "1.09036460127465",
         "0.0",
         "0.613333333333333",
         "0.0816326530612245",
         "0.262237762237762",
         "0.30601541315827",
         "0.0",
         "4.6",
         "6.6",
         null,
         null,
         null,
         null,
         null,
         null,
         null,
         null,
         null,
         null,
         null,
         null,
         null,
         null,
         null,
         null,
         null,
         "1",
         "1",
         "1",
         "1",
         "1",
         "1"
        ],
        [
         "4",
         "Ohio Valley Conference",
         "Eastern Illinois",
         "Alexander Hollins",
         null,
         null,
         null,
         "2019.0",
         "Alexander",
         "Alexander",
         "00-0035104",
         "83.0",
         "Hollins",
         "WR",
         "WR",
         "2019.0",
         "A.Hollins",
         "CUT",
         "P01",
         "Practice Squad",
         "CLE",
         "73.0",
         "166.0",
         "1.0",
         "1996-11-24",
         "1.0",
         null,
         "2019.0",
         "WR",
         "WR",
         "1.0",
         "0.0",
         "0.0",
         "0.0",
         "0.0",
         "0.0",
         "0.0",
         "0.0",
         "0.0",
         "0.0",
         "0.0",
         "0.0",
         "0.0",
         null,
         "0.0",
         null,
         null,
         "0.0",
         "0.0",
         "0.0",
         "0.0",
         "0.0",
         "0.0",
         null,
         "0.0",
         "0.0",
         "1.0",
         "0.0",
         "0.0",
         "0.0",
         "0.0",
         "31.0",
         "0.0",
         "0.0",
         "-1.45034440932795",
         "0.0",
         "0.0",
         "0.032258064516129",
         "0.119230769230769",
         "0.131848635235732",
         "0.0",
         "0.0",
         "0.0",
         null,
         null,
         null,
         null,
         null,
         null,
         null,
         null,
         null,
         null,
         null,
         null,
         null,
         null,
         null,
         null,
         null,
         "1",
         "1",
         "1",
         "1",
         "1",
         "1"
        ]
       ],
       "shape": {
        "columns": 95,
        "rows": 5
       }
      },
      "text/html": [
       "<div>\n",
       "<style scoped>\n",
       "    .dataframe tbody tr th:only-of-type {\n",
       "        vertical-align: middle;\n",
       "    }\n",
       "\n",
       "    .dataframe tbody tr th {\n",
       "        vertical-align: top;\n",
       "    }\n",
       "\n",
       "    .dataframe thead th {\n",
       "        text-align: right;\n",
       "    }\n",
       "</style>\n",
       "<table border=\"1\" class=\"dataframe\">\n",
       "  <thead>\n",
       "    <tr style=\"text-align: right;\">\n",
       "      <th></th>\n",
       "      <th>college_conference</th>\n",
       "      <th>college_name</th>\n",
       "      <th>player_name</th>\n",
       "      <th>draft_club</th>\n",
       "      <th>draft_number</th>\n",
       "      <th>draftround</th>\n",
       "      <th>entry_year</th>\n",
       "      <th>first_name</th>\n",
       "      <th>football_name</th>\n",
       "      <th>gsis_id</th>\n",
       "      <th>...</th>\n",
       "      <th>vertical</th>\n",
       "      <th>broad_jump</th>\n",
       "      <th>cone</th>\n",
       "      <th>shuttle</th>\n",
       "      <th>bench_missing</th>\n",
       "      <th>forty_missing</th>\n",
       "      <th>vertical_missing</th>\n",
       "      <th>shuttle_missing</th>\n",
       "      <th>broad_jump_missing</th>\n",
       "      <th>cone_missing</th>\n",
       "    </tr>\n",
       "  </thead>\n",
       "  <tbody>\n",
       "    <tr>\n",
       "      <th>0</th>\n",
       "      <td>Southeastern Conference</td>\n",
       "      <td>Mississippi</td>\n",
       "      <td>A.J. Brown</td>\n",
       "      <td>TEN</td>\n",
       "      <td>51.0</td>\n",
       "      <td>2.0</td>\n",
       "      <td>2019.0</td>\n",
       "      <td>Arthur</td>\n",
       "      <td>A.J.</td>\n",
       "      <td>00-0035676</td>\n",
       "      <td>...</td>\n",
       "      <td>36.5</td>\n",
       "      <td>120.0</td>\n",
       "      <td>NaN</td>\n",
       "      <td>NaN</td>\n",
       "      <td>0</td>\n",
       "      <td>0</td>\n",
       "      <td>0</td>\n",
       "      <td>1</td>\n",
       "      <td>0</td>\n",
       "      <td>1</td>\n",
       "    </tr>\n",
       "    <tr>\n",
       "      <th>1</th>\n",
       "      <td>Southeastern Conference</td>\n",
       "      <td>Mississippi</td>\n",
       "      <td>A.J. Brown</td>\n",
       "      <td>TEN</td>\n",
       "      <td>51.0</td>\n",
       "      <td>2.0</td>\n",
       "      <td>2019.0</td>\n",
       "      <td>Arthur</td>\n",
       "      <td>A.J.</td>\n",
       "      <td>00-0035676</td>\n",
       "      <td>...</td>\n",
       "      <td>36.5</td>\n",
       "      <td>120.0</td>\n",
       "      <td>NaN</td>\n",
       "      <td>NaN</td>\n",
       "      <td>0</td>\n",
       "      <td>0</td>\n",
       "      <td>0</td>\n",
       "      <td>1</td>\n",
       "      <td>0</td>\n",
       "      <td>1</td>\n",
       "    </tr>\n",
       "    <tr>\n",
       "      <th>2</th>\n",
       "      <td>Southeastern Conference</td>\n",
       "      <td>Mississippi</td>\n",
       "      <td>A.J. Brown</td>\n",
       "      <td>TEN</td>\n",
       "      <td>51.0</td>\n",
       "      <td>2.0</td>\n",
       "      <td>2019.0</td>\n",
       "      <td>Arthur</td>\n",
       "      <td>A.J.</td>\n",
       "      <td>00-0035676</td>\n",
       "      <td>...</td>\n",
       "      <td>36.5</td>\n",
       "      <td>120.0</td>\n",
       "      <td>NaN</td>\n",
       "      <td>NaN</td>\n",
       "      <td>0</td>\n",
       "      <td>0</td>\n",
       "      <td>0</td>\n",
       "      <td>1</td>\n",
       "      <td>0</td>\n",
       "      <td>1</td>\n",
       "    </tr>\n",
       "    <tr>\n",
       "      <th>3</th>\n",
       "      <td>Ohio Valley Conference</td>\n",
       "      <td>Eastern Illinois</td>\n",
       "      <td>Alexander Hollins</td>\n",
       "      <td>NaN</td>\n",
       "      <td>NaN</td>\n",
       "      <td>NaN</td>\n",
       "      <td>2019.0</td>\n",
       "      <td>Alexander</td>\n",
       "      <td>Alexander</td>\n",
       "      <td>00-0035104</td>\n",
       "      <td>...</td>\n",
       "      <td>NaN</td>\n",
       "      <td>NaN</td>\n",
       "      <td>NaN</td>\n",
       "      <td>NaN</td>\n",
       "      <td>1</td>\n",
       "      <td>1</td>\n",
       "      <td>1</td>\n",
       "      <td>1</td>\n",
       "      <td>1</td>\n",
       "      <td>1</td>\n",
       "    </tr>\n",
       "    <tr>\n",
       "      <th>4</th>\n",
       "      <td>Ohio Valley Conference</td>\n",
       "      <td>Eastern Illinois</td>\n",
       "      <td>Alexander Hollins</td>\n",
       "      <td>NaN</td>\n",
       "      <td>NaN</td>\n",
       "      <td>NaN</td>\n",
       "      <td>2019.0</td>\n",
       "      <td>Alexander</td>\n",
       "      <td>Alexander</td>\n",
       "      <td>00-0035104</td>\n",
       "      <td>...</td>\n",
       "      <td>NaN</td>\n",
       "      <td>NaN</td>\n",
       "      <td>NaN</td>\n",
       "      <td>NaN</td>\n",
       "      <td>1</td>\n",
       "      <td>1</td>\n",
       "      <td>1</td>\n",
       "      <td>1</td>\n",
       "      <td>1</td>\n",
       "      <td>1</td>\n",
       "    </tr>\n",
       "  </tbody>\n",
       "</table>\n",
       "<p>5 rows × 95 columns</p>\n",
       "</div>"
      ],
      "text/plain": [
       "        college_conference      college_name        player_name draft_club  \\\n",
       "0  Southeastern Conference       Mississippi         A.J. Brown        TEN   \n",
       "1  Southeastern Conference       Mississippi         A.J. Brown        TEN   \n",
       "2  Southeastern Conference       Mississippi         A.J. Brown        TEN   \n",
       "3   Ohio Valley Conference  Eastern Illinois  Alexander Hollins        NaN   \n",
       "4   Ohio Valley Conference  Eastern Illinois  Alexander Hollins        NaN   \n",
       "\n",
       "   draft_number  draftround  entry_year first_name football_name     gsis_id  \\\n",
       "0          51.0         2.0      2019.0     Arthur          A.J.  00-0035676   \n",
       "1          51.0         2.0      2019.0     Arthur          A.J.  00-0035676   \n",
       "2          51.0         2.0      2019.0     Arthur          A.J.  00-0035676   \n",
       "3           NaN         NaN      2019.0  Alexander     Alexander  00-0035104   \n",
       "4           NaN         NaN      2019.0  Alexander     Alexander  00-0035104   \n",
       "\n",
       "   ...  vertical broad_jump cone shuttle  bench_missing forty_missing  \\\n",
       "0  ...      36.5      120.0  NaN     NaN              0             0   \n",
       "1  ...      36.5      120.0  NaN     NaN              0             0   \n",
       "2  ...      36.5      120.0  NaN     NaN              0             0   \n",
       "3  ...       NaN        NaN  NaN     NaN              1             1   \n",
       "4  ...       NaN        NaN  NaN     NaN              1             1   \n",
       "\n",
       "  vertical_missing shuttle_missing broad_jump_missing cone_missing  \n",
       "0                0               1                  0            1  \n",
       "1                0               1                  0            1  \n",
       "2                0               1                  0            1  \n",
       "3                1               1                  1            1  \n",
       "4                1               1                  1            1  \n",
       "\n",
       "[5 rows x 95 columns]"
      ]
     },
     "execution_count": 42,
     "metadata": {},
     "output_type": "execute_result"
    }
   ],
   "source": [
    "pd.options.mode.chained_assignment = None  \n",
    "\n",
    "\n",
    "rookieWrs2019 = dataFrameCreation(2019, \"WR\")\n",
    "rookieWrs2020 = dataFrameCreation(2020, \"WR\")\n",
    "rookieWrs2021 = dataFrameCreation(2021, \"WR\")\n",
    "rookieWrs2022 = dataFrameCreation(2022, \"WR\")\n",
    "rookieWrs2023 = dataFrameCreation(2023, \"WR\")\n",
    "rookieWrs2024 = dataFrameCreation(2024, \"WR\")\n",
    "\n",
    "\n",
    "allWrs = pd.concat(\n",
    "    [rookieWrs2019, rookieWrs2020, rookieWrs2021, rookieWrs2022, rookieWrs2023, rookieWrs2024],\n",
    "    ignore_index=True\n",
    ")\n",
    "\n",
    "allWrs.head()\n"
   ]
  },
  {
   "cell_type": "code",
   "execution_count": 7,
   "id": "ac9c654e",
   "metadata": {},
   "outputs": [
    {
     "data": {
      "application/vnd.microsoft.datawrangler.viewer.v0+json": {
       "columns": [
        {
         "name": "index",
         "rawType": "object",
         "type": "string"
        },
        {
         "name": "0",
         "rawType": "int64",
         "type": "integer"
        }
       ],
       "ref": "f21ac681-bc07-4302-aad0-b326b9d7260c",
       "rows": [
        [
         "college_conference",
         "0"
        ],
        [
         "college_name",
         "0"
        ],
        [
         "player_name",
         "0"
        ],
        [
         "draft_club",
         "8"
        ],
        [
         "draft_number",
         "8"
        ],
        [
         "draftround",
         "8"
        ],
        [
         "entry_year",
         "0"
        ],
        [
         "first_name",
         "0"
        ],
        [
         "football_name",
         "0"
        ],
        [
         "gsis_id",
         "0"
        ],
        [
         "jersey_number",
         "0"
        ],
        [
         "last_name",
         "0"
        ],
        [
         "position_x",
         "0"
        ],
        [
         "position_group_x",
         "0"
        ],
        [
         "rookie_year",
         "0"
        ],
        [
         "short_name",
         "0"
        ],
        [
         "status",
         "0"
        ],
        [
         "status_description_abbr",
         "0"
        ],
        [
         "status_short_description",
         "0"
        ],
        [
         "team_abbr",
         "0"
        ],
        [
         "height",
         "0"
        ],
        [
         "weight",
         "0"
        ],
        [
         "years_of_experience",
         "0"
        ],
        [
         "birth_date",
         "0"
        ],
        [
         "team_seq",
         "84"
        ],
        [
         "suffix",
         "98"
        ],
        [
         "season_x",
         "0"
        ],
        [
         "position_y",
         "0"
        ],
        [
         "position_group_y",
         "0"
        ],
        [
         "games",
         "0"
        ],
        [
         "completions",
         "0"
        ],
        [
         "attempts",
         "0"
        ],
        [
         "passing_yards",
         "0"
        ],
        [
         "passing_tds",
         "0"
        ],
        [
         "interceptions",
         "0"
        ],
        [
         "sacks",
         "0"
        ],
        [
         "sack_yards",
         "0"
        ],
        [
         "sack_fumbles",
         "0"
        ],
        [
         "sack_fumbles_lost",
         "0"
        ],
        [
         "passing_air_yards",
         "0"
        ],
        [
         "passing_yards_after_catch",
         "0"
        ],
        [
         "passing_first_downs",
         "0"
        ],
        [
         "passing_epa",
         "98"
        ],
        [
         "passing_2pt_conversions",
         "0"
        ],
        [
         "pacr",
         "98"
        ],
        [
         "dakota",
         "102"
        ],
        [
         "carries",
         "0"
        ],
        [
         "rushing_yards",
         "0"
        ],
        [
         "rushing_tds",
         "0"
        ],
        [
         "rushing_fumbles",
         "0"
        ]
       ],
       "shape": {
        "columns": 1,
        "rows": 89
       }
      },
      "text/plain": [
       "college_conference     0\n",
       "college_name           0\n",
       "player_name            0\n",
       "draft_club             8\n",
       "draft_number           8\n",
       "                      ..\n",
       "bench                 56\n",
       "vertical               1\n",
       "broad_jump             6\n",
       "cone                  17\n",
       "shuttle                0\n",
       "Length: 89, dtype: int64"
      ]
     },
     "execution_count": 7,
     "metadata": {},
     "output_type": "execute_result"
    }
   ],
   "source": [
    "allWrs = allWrs.drop_duplicates(keep=\"first\")\n",
    "allWrs.isnull().sum()"
   ]
  },
  {
   "cell_type": "markdown",
   "id": "a6fe4b61",
   "metadata": {},
   "source": [
    "There are null values in this dataframe, however most of the null values make sense. For example, usually most people do not have a suffix in their name. There are a lot of null values for combine stats, however. "
   ]
  },
  {
   "cell_type": "code",
   "execution_count": 8,
   "id": "11e01d49",
   "metadata": {},
   "outputs": [
    {
     "data": {
      "text/plain": [
       "<Axes: xlabel='fantasy_points_ppr', ylabel='Count'>"
      ]
     },
     "execution_count": 8,
     "metadata": {},
     "output_type": "execute_result"
    },
    {
     "data": {
      "image/png": "[encoded data removed]",
      "text/plain": [
       "<Figure size 640x480 with 1 Axes>"
      ]
     },
     "metadata": {},
     "output_type": "display_data"
    }
   ],
   "source": [
    "\n",
    "fig, axes=plt.subplots()\n",
    "sns.histplot(allWrs[\"fantasy_points_ppr\"], kde=True)"
   ]
  },
  {
   "cell_type": "markdown",
   "id": "25738db6",
   "metadata": {},
   "source": [
    "## Correlation Between Variables"
   ]
  },
  {
   "cell_type": "code",
   "execution_count": 9,
   "id": "ac3cc4d3",
   "metadata": {},
   "outputs": [
    {
     "data": {
      "image/png": "[encoded data removed]",
      "text/plain": [
       "<Figure size 600x400 with 2 Axes>"
      ]
     },
     "metadata": {},
     "output_type": "display_data"
    }
   ],
   "source": [
    "nfl_data[\"home_team_win\"] = nfl_data[\"Home_team\"] == nfl_data[\"Winner\"]\n",
    "nfl_data[\"home_team_win\"] = nfl_data[\"home_team_win\"].astype(int)\n",
    "int_columns = nfl_data.select_dtypes(include=['int64', 'int32', 'int', 'double', 'float'])\n",
    "plt.figure(figsize=(6,4))\n",
    "sns.heatmap(int_columns.corr())\n",
    "plt.show()"
   ]
  },
  {
   "cell_type": "markdown",
   "id": "71c7886a",
   "metadata": {},
   "source": [
    "<span style=\"font-size:14px\"> Looking at the heatmap of the correlation, it demonstrates that the ranking of the teams playing in the game matter a lot in determining who will win the game. Additionally, a game time statistic that is negatively correlated is turnovers."
   ]
  },
  {
   "cell_type": "markdown",
   "id": "b9a3381b",
   "metadata": {},
   "source": [
    "# Home Field Advantage\n",
    "\n",
    "The following cells will test attributes related to home field advantage and the impact it has on the teams"
   ]
  },
  {
   "cell_type": "markdown",
   "id": "72d20363",
   "metadata": {},
   "source": [
    "## Does Home Field Advantage Actually Help Win Games?"
   ]
  },
  {
   "cell_type": "markdown",
   "id": "6c2f06de",
   "metadata": {},
   "source": [
    "**I will conduct a 1 Proportion Z-Test to determine whether the chance of the home team winning is greater than 50% or not with a significance level of 0.05**\n",
    "\n",
    "\n",
    "**Ho** = The proportion of home team wins is equal to 50%\n",
    "\n",
    "**Ha** = The proportion of home team wins is greater than 50%"
   ]
  },
  {
   "cell_type": "code",
   "execution_count": 10,
   "id": "25c90fff",
   "metadata": {},
   "outputs": [
    {
     "data": {
      "image/png": "[encoded data removed]",
      "text/plain": [
       "<Figure size 600x400 with 1 Axes>"
      ]
     },
     "metadata": {},
     "output_type": "display_data"
    }
   ],
   "source": [
    "sample_size = 150\n",
    "num_samples = 850\n",
    "\n",
    "sample_proportions = []\n",
    "for i in range(num_samples):\n",
    "    sample = nfl_data.sample(n=sample_size, replace=False)\n",
    "    proportion = (sample[\"Home_team\"] == sample[\"Winner\"]).mean()\n",
    "    sample_proportions.append(proportion)\n",
    "\n",
    "plt.figure(figsize=(6,4))\n",
    "sns.histplot(sample_proportions, bins=35, kde=True)\n",
    "plt.xlabel(\"Sample Proportion\")\n",
    "plt.ylabel(\"Frequency\")\n",
    "plt.show()"
   ]
  },
  {
   "cell_type": "markdown",
   "id": "ff80f487",
   "metadata": {},
   "source": [
    "Since our sample size (150) is big enough for the central limit theorem to apply, we are able to conduct the test"
   ]
  },
  {
   "cell_type": "code",
   "execution_count": 11,
   "id": "181bdede",
   "metadata": {},
   "outputs": [
    {
     "name": "stdout",
     "output_type": "stream",
     "text": [
      "1.1481067942068246 0.1254622398694959\n"
     ]
    }
   ],
   "source": [
    "from statsmodels.stats.proportion import proportions_ztest\n",
    "\n",
    "\n",
    "sample = nfl_data.sample(n=sample_size, replace=False, random_state=42)\n",
    "homeTeamWin = sample[sample[\"Home_team\"] == sample[\"Winner\"]]\n",
    "zStatistic, pValue = proportions_ztest(homeTeamWin.shape[0], sample.shape[0], 0.5, alternative=\"larger\", prop_var=False)\n",
    "\n",
    "print(zStatistic, pValue)"
   ]
  },
  {
   "cell_type": "markdown",
   "id": "b6cd7566",
   "metadata": {},
   "source": [
    "Since the p-value is greater than α (in our example, p = 0.12 > 0.05), we fail to reject the null hypothesis. This means we do not have evidence to conclude that a home field advantage exists.\n",
    "\n",
    "While this test isn't perfect (an injury in one game may affect another game meaning each game isn't independent), it provides an overview of the general trend in home team performance. Despite a potential violation of independence, the 1-proportion z-test offers a useful starting point for assessing whether home field advantage exists in the data. Further analysis will need to be conducted in order to eliminate confounding variables."
   ]
  },
  {
   "cell_type": "markdown",
   "id": "cb055694",
   "metadata": {},
   "source": [
    "## Does Home Field Advantage Affect Turnovers?"
   ]
  },
  {
   "cell_type": "code",
   "execution_count": 12,
   "id": "57faa8e0",
   "metadata": {},
   "outputs": [
    {
     "data": {
      "image/png": "[encoded data removed]",
      "text/plain": [
       "<Figure size 800x300 with 2 Axes>"
      ]
     },
     "metadata": {},
     "output_type": "display_data"
    },
    {
     "name": "stdout",
     "output_type": "stream",
     "text": [
      "Home Team Turnovers Mean: 1.7731843575418995\n",
      "Away Team Turnovers Mean: 1.7776536312849163\n"
     ]
    }
   ],
   "source": [
    "fig, axes = plt.subplots(1, 2, figsize=(8,3))\n",
    "sns.histplot(nfl_data[\"TO\"], ax=axes[0], discrete=True)\n",
    "axes[0].set_title(\"Team Turnovers\")\n",
    "axes[0].set_xlabel(\"Turnovers\")\n",
    "sns.histplot(nfl_data[\"TO.1\"], ax=axes[1], discrete=True)\n",
    "axes[1].set_title(\"Away Team Turnovers\")\n",
    "axes[1].set_xlabel(\"Turnovers\")\n",
    "plt.show()\n",
    "\n",
    "\n",
    "print(f\"Home Team Turnovers Mean: {nfl_data[\"TO\"].mean()}\")\n",
    "print(f\"Away Team Turnovers Mean: {nfl_data[\"TO.1\"].mean()}\")\n",
    "\n"
   ]
  },
  {
   "cell_type": "markdown",
   "id": "eb6caa03",
   "metadata": {},
   "source": [
    "**A Two Sample One Sided T-Test will be used to determine whether there is a significant difference between home team turnovers and away team turnovers**\n",
    "\n",
    "**H₀:** The mean turnovers for home teams is equal to the mean turnovers for away teams (μ₁ = μ₂)\n",
    "\n",
    "**H₁:** The mean turnovers for home teams is less than the mean turnovers for away teams (μ₁ < μ₂)"
   ]
  },
  {
   "cell_type": "code",
   "execution_count": 13,
   "id": "ead676e2",
   "metadata": {},
   "outputs": [
    {
     "name": "stdout",
     "output_type": "stream",
     "text": [
      "1.744\n",
      "1.792\n",
      "T-Statistic: -0.5362257839934658\n",
      "p-Value: 0.29602115758361924\n"
     ]
    }
   ],
   "source": [
    "turnoverSampleHome = nfl_data.sample(250, replace=False, random_state=100)\n",
    "remaining = nfl_data.drop(turnoverSampleHome.index)\n",
    "turnoverSampleAway = remaining.sample(250, replace=False, random_state=50)\n",
    "\n",
    "mean1 = turnoverSampleHome[\"TO\"].mean()\n",
    "mean2 = turnoverSampleAway[\"TO.1\"].mean()\n",
    "print(mean1)\n",
    "print(mean2)\n",
    "tStatistic, pValue = stats.ttest_ind(turnoverSampleHome[\"TO\"], turnoverSampleAway[\"TO.1\"], equal_var=False, alternative=\"less\")\n",
    "\n",
    "print(f\"T-Statistic: {tStatistic}\")\n",
    "print(f\"p-Value: {pValue}\")"
   ]
  },
  {
   "cell_type": "markdown",
   "id": "625e0cf0",
   "metadata": {},
   "source": [
    "The p-value returned by the t-test is 59%, which is much higher than the significance level of 5%. This means that we do not have sufficient evidence to reject the null hypothesis and say that there is a difference between home team and away team turnovers. While this test is not perfect (1 game may affect another game), it is a starting point to identify trends in what playing in a team's home-field affects."
   ]
  },
  {
   "cell_type": "markdown",
   "id": "03e0c89e",
   "metadata": {},
   "source": [
    "## Does being at home versus away shift the strategy from passing to rushing or vice versa?\n",
    "\n",
    "Two new features will be created, passing yards minus rushing yards for the home team, and passing yards minus rushing yards for the away team. "
   ]
  },
  {
   "cell_type": "code",
   "execution_count": 14,
   "id": "dca7b599",
   "metadata": {},
   "outputs": [
    {
     "data": {
      "text/plain": [
       "Text(0.5, 1.0, 'Away Team Passing - Rushing Yards')"
      ]
     },
     "execution_count": 14,
     "metadata": {},
     "output_type": "execute_result"
    },
    {
     "data": {
      "image/png": "[encoded data removed]",
      "text/plain": [
       "<Figure size 800x300 with 2 Axes>"
      ]
     },
     "metadata": {},
     "output_type": "display_data"
    }
   ],
   "source": [
    "nfl_data[\"passingvrushing\"] = nfl_data[\"PassY\"] - nfl_data[\"RushY\"]\n",
    "nfl_data[\"passingvrushing.1\"] = nfl_data[\"PassY.1\"] - nfl_data[\"RushY.1\"]\n",
    "\n",
    "\n",
    "fig, axes = plt.subplots(1, 2, figsize=(8, 3))\n",
    "sns.histplot(nfl_data[\"passingvrushing\"], ax=axes[0], kde = True)\n",
    "axes[0].set_xlabel(\"Passing - Rushing Yards\")\n",
    "axes[0].set_title(\"Home Team Passing - Rushing Yards\")\n",
    "sns.histplot(nfl_data[\"passingvrushing.1\"], ax=axes[1], kde = True)\n",
    "axes[1].set_xlabel(\"Passing - Rushing Yards\")\n",
    "axes[1].set_title(\"Away Team Passing - Rushing Yards\")\n",
    "\n",
    "\n"
   ]
  },
  {
   "cell_type": "markdown",
   "id": "59db532e",
   "metadata": {},
   "source": [
    "**A Two Sample Two Sided T-Test will be used to determine whether there is a significant difference between the tendency to pass versus rush for home teams and away teams**\n",
    "\n",
    "**Ho:** The mean value of passing yards minus rushing yards for home teams is equal to that for away teams (μ₁ = μ₂)\n",
    "\n",
    "**Ha:** The mean value of passing yards minus rushing yards for home teams is different from that for away teams (μ₁ ≠ μ₂)"
   ]
  },
  {
   "cell_type": "code",
   "execution_count": 15,
   "id": "2465352c",
   "metadata": {},
   "outputs": [
    {
     "name": "stdout",
     "output_type": "stream",
     "text": [
      "T-Statistic: -0.09771053268807309\n",
      "p-Value: 0.922201491958681\n"
     ]
    }
   ],
   "source": [
    "homeTeams = nfl_data.sample(250, random_state=48239482)\n",
    "remaining = nfl_data.drop(homeTeams.index)\n",
    "awayTeams = remaining.sample(250, random_state=4239482)\n",
    "\n",
    "tStatistic, pValue = stats.ttest_ind(homeTeams[\"passingvrushing\"], awayTeams[\"passingvrushing.1\"], equal_var=False)\n",
    "\n",
    "\n",
    "\n",
    "print(f\"T-Statistic: {tStatistic}\")\n",
    "print(f\"p-Value: {pValue}\")"
   ]
  },
  {
   "cell_type": "markdown",
   "id": "aef832bc",
   "metadata": {},
   "source": [
    "The p-value returned by the t-test is 92%, which is much higher than the significance level of 5%. This means that we do not have sufficient evidence to reject the null hypothesis and say that there is a difference between the tendency to pass versus rush for home teams and away teams."
   ]
  },
  {
   "cell_type": "markdown",
   "id": "1f9a0dc3",
   "metadata": {},
   "source": [
    "## Comparing different models for prediction of who won an NFL Game"
   ]
  },
  {
   "cell_type": "code",
   "execution_count": 35,
   "id": "bac13cd8",
   "metadata": {},
   "outputs": [
    {
     "data": {
      "text/plain": [
       "Text(0.5, 1.0, 'XGBoost')"
      ]
     },
     "execution_count": 35,
     "metadata": {},
     "output_type": "execute_result"
    },
    {
     "data": {
      "image/png": "[encoded data removed]",
      "text/plain": [
       "<Figure size 2000x600 with 4 Axes>"
      ]
     },
     "metadata": {},
     "output_type": "display_data"
    }
   ],
   "source": [
    "from sklearn.metrics import ConfusionMatrixDisplay, confusion_matrix\n",
    "from sklearn.ensemble import RandomForestClassifier\n",
    "from sklearn.tree import DecisionTreeClassifier\n",
    "from xgboost import XGBClassifier\n",
    "from sklearn.linear_model import LogisticRegression\n",
    "from sklearn.model_selection import train_test_split\n",
    "import warnings\n",
    "\n",
    "warnings.filterwarnings(\"ignore\", category=RuntimeWarning)\n",
    "\n",
    "predictors = [\"1stD\", \"TotYd\", \"PassY\", \"RushY\", \"TO\", \"TotYd.1\", \"TO.1\", \"Offense\", \"Defense\"]\n",
    "X = nfl_data[predictors]\n",
    "y = nfl_data[\"home_team_win\"]\n",
    "\n",
    "X_train, X_test, y_train, y_test = train_test_split(X, y, test_size=0.3, random_state=1)\n",
    "\n",
    "model = LogisticRegression(max_iter=800)\n",
    "\n",
    "model.fit(X_train, y_train)\n",
    "\n",
    "predLR = model.predict(X_test)\n",
    "cm = confusion_matrix(y_test, predLR)\n",
    "dispLR = ConfusionMatrixDisplay(cm, display_labels=model.classes_)\n",
    "\n",
    "\n",
    "rfc = RandomForestClassifier()\n",
    "rfc.fit(X_train, y_train)\n",
    "predRFC = rfc.predict(X_test)\n",
    "cm = confusion_matrix(y_test, predRFC)\n",
    "dispRFC = ConfusionMatrixDisplay(cm, display_labels=rfc.classes_)\n",
    "\n",
    "\n",
    "dtc = DecisionTreeClassifier()\n",
    "dtc.fit(X_train, y_train)\n",
    "predDTC = dtc.predict(X_test)\n",
    "cm = confusion_matrix(y_test, predDTC)\n",
    "dispDTC = ConfusionMatrixDisplay(cm, display_labels=dtc.classes_)\n",
    "\n",
    "\n",
    "xgb = XGBClassifier()\n",
    "xgb.fit(X_train, y_train)\n",
    "predXGB = xgb.predict(X_test)\n",
    "cm = confusion_matrix(y_test, predXGB)\n",
    "dispXGB = ConfusionMatrixDisplay(cm, display_labels=xgb.classes_)\n",
    "\n",
    "fig, axes = plt.subplots(1, 4, figsize=(20, 6))\n",
    "\n",
    "dispLR.plot(ax=axes[0], colorbar=False)\n",
    "axes[0].set_title(\"Logistic Regression\")\n",
    "dispRFC.plot(ax=axes[1], colorbar=False)\n",
    "axes[1].set_title(\"Random Forest Classifier\")\n",
    "dispDTC.plot(ax=axes[2], colorbar=False)\n",
    "axes[2].set_title(\"Decision Tree Classifier\")\n",
    "dispXGB.plot(ax=axes[3], colorbar=False)\n",
    "axes[3].set_title(\"XGBoost\")"
   ]
  },
  {
   "cell_type": "markdown",
   "id": "823b9212",
   "metadata": {},
   "source": [
    "Analyzing the confusion matrices, Logistic Regession performs the best at determining who won a home game."
   ]
  },
  {
   "cell_type": "markdown",
   "id": "da75ee2d",
   "metadata": {},
   "source": [
    "# Has passing become more prevalent since 1990s?\n",
    "\n",
    "Each dataframe contains player passing data from three different years from the 1990s era and the 2020s era, pulled from pfr.com. "
   ]
  },
  {
   "cell_type": "code",
   "execution_count": 19,
   "id": "a12b3be3",
   "metadata": {},
   "outputs": [
    {
     "data": {
      "text/plain": [
       "Text(0, 0.5, 'Frequency')"
      ]
     },
     "execution_count": 19,
     "metadata": {},
     "output_type": "execute_result"
    },
    {
     "data": {
      "image/png": "[encoded data removed]",
      "text/plain": [
       "<Figure size 800x300 with 2 Axes>"
      ]
     },
     "metadata": {},
     "output_type": "display_data"
    }
   ],
   "source": [
    "fig, axes = plt.subplots(1, 2, figsize=(8, 3))\n",
    "\n",
    "passing1990 = pd.read_csv(\"PlayerStatsPFRData/playerstats1990.csv\")\n",
    "passing1991 = pd.read_csv(\"PlayerStatsPFRData/playerstats1991.csv\")\n",
    "passing1992 = pd.read_csv(\"PlayerStatsPFRData/playerstats1992.csv\")\n",
    "\n",
    "passing1990s = pd.concat([passing1990, passing1991, passing1992], ignore_index=True)\n",
    "\n",
    "\n",
    "passing2022 = pd.read_csv(\"PlayerStatsPFRData/playerstats2022.csv\")\n",
    "passing2023 = pd.read_csv(\"PlayerStatsPFRData/playerstats2023.csv\")\n",
    "passing2024 = pd.read_csv(\"PlayerStatsPFRData/playerstats2024.csv\")\n",
    "\n",
    "passing2020s = pd.concat([passing2022, passing2023, passing2024], ignore_index=True)\n",
    "\n",
    "\n",
    "sns.histplot(passing1990s[passing1990s[\"Att\"] > 60][\"Y/G\"], ax=axes[0], kde=True)\n",
    "sns.histplot(passing2020s[passing2020s[\"Att\"] > 60][\"Y/G\"], ax=axes[1], kde=True)\n",
    "axes[0].set_title(\"Passing Y/G of QBs in 1990\")\n",
    "axes[1].set_title(\"Passing Y/G of QBs in 2022\")\n",
    "axes[0].set_ylabel(\"Frequency\")\n",
    "axes[1].set_ylabel(\"Frequency\")\n"
   ]
  },
  {
   "cell_type": "markdown",
   "id": "96394bf7",
   "metadata": {},
   "source": [
    "**A two sample, one-sided t-test will be conducted using passing yards per game (Y/G) to determine if there is evidence showing that passing has evolved between two different eras.**\n",
    "\n",
    "**Ho:** The mean passing yards per game (Y/G) for QBs in the 1990s is equal to the mean passing yards per game for QBs in the 2020s.  μ₁ = μ₂\n",
    "**Ha:** The mean passing yards per game (Y/G) for QBs in the 1990s is less than the mean passing yards per game for QBs in the 2020s.  μ₁ < μ₂\n"
   ]
  },
  {
   "cell_type": "code",
   "execution_count": 20,
   "id": "de516076",
   "metadata": {},
   "outputs": [
    {
     "name": "stdout",
     "output_type": "stream",
     "text": [
      "156.91000000000003\n",
      "196.60250000000002\n",
      "T-Statistic: -3.252398589060368\n",
      "p-Value: 0.0008557119705283694\n"
     ]
    }
   ],
   "source": [
    "sample1 = passing1990s[passing1990s[\"Att\"] > 50].sample(40, random_state=43819048)\n",
    "sample2 = passing2020s[passing2020s[\"Att\"] > 50].sample(40, random_state=5012309)\n",
    "\n",
    "\n",
    "print(sample1[\"Y/G\"].mean())\n",
    "print(sample2[\"Y/G\"].mean())\n",
    "\n",
    "tStatistic, pValue = stats.ttest_ind(sample1[\"Y/G\"], sample2[\"Y/G\"], equal_var=False, alternative=\"less\")\n",
    "\n",
    "\n",
    "print(f\"T-Statistic: {tStatistic}\")\n",
    "print(f\"p-Value: {pValue}\")"
   ]
  },
  {
   "cell_type": "markdown",
   "id": "6a101184",
   "metadata": {},
   "source": [
    "The p-value returned by the test is 0.08%, which is less than our significance level of 5%, demonstrating that there is evidence to show that passing has become more prevalent in today's era compared to the 1990s. "
   ]
  },
  {
   "cell_type": "markdown",
   "id": "de389179",
   "metadata": {},
   "source": [
    "## Is there a linear correlation between PPR Fantasy Points in a Wide Reciever's rookie year and Combine/Physical Stats?"
   ]
  },
  {
   "cell_type": "code",
   "execution_count": 44,
   "id": "d9b20e88",
   "metadata": {},
   "outputs": [
    {
     "name": "stdout",
     "output_type": "stream",
     "text": [
      "-0.06435252052317154\n",
      "-0.2405701951716763\n",
      "0.1819746283200809\n",
      "-0.2218740721490704\n",
      "0.13303026243436744\n"
     ]
    },
    {
     "data": {
      "text/html": [
       "<table class=\"simpletable\">\n",
       "<caption>OLS Regression Results</caption>\n",
       "<tr>\n",
       "  <th>Dep. Variable:</th>    <td>fantasy_points_ppr</td> <th>  R-squared:         </th> <td>   0.134</td>\n",
       "</tr>\n",
       "<tr>\n",
       "  <th>Model:</th>                    <td>OLS</td>        <th>  Adj. R-squared:    </th> <td>   0.054</td>\n",
       "</tr>\n",
       "<tr>\n",
       "  <th>Method:</th>              <td>Least Squares</td>   <th>  F-statistic:       </th> <td>   1.670</td>\n",
       "</tr>\n",
       "<tr>\n",
       "  <th>Date:</th>              <td>Tue, 12 Aug 2025</td>  <th>  Prob (F-statistic):</th>  <td> 0.143</td> \n",
       "</tr>\n",
       "<tr>\n",
       "  <th>Time:</th>                  <td>11:22:55</td>      <th>  Log-Likelihood:    </th> <td> -396.90</td>\n",
       "</tr>\n",
       "<tr>\n",
       "  <th>No. Observations:</th>       <td>    72</td>       <th>  AIC:               </th> <td>   807.8</td>\n",
       "</tr>\n",
       "<tr>\n",
       "  <th>Df Residuals:</th>           <td>    65</td>       <th>  BIC:               </th> <td>   823.7</td>\n",
       "</tr>\n",
       "<tr>\n",
       "  <th>Df Model:</th>               <td>     6</td>       <th>                     </th>     <td> </td>   \n",
       "</tr>\n",
       "<tr>\n",
       "  <th>Covariance Type:</th>       <td>nonrobust</td>     <th>                     </th>     <td> </td>   \n",
       "</tr>\n",
       "</table>\n",
       "<table class=\"simpletable\">\n",
       "<tr>\n",
       "           <td></td>             <th>coef</th>     <th>std err</th>      <th>t</th>      <th>P>|t|</th>  <th>[0.025</th>    <th>0.975]</th>  \n",
       "</tr>\n",
       "<tr>\n",
       "  <th>Intercept</th>          <td>  961.9478</td> <td>  501.554</td> <td>    1.918</td> <td> 0.060</td> <td>  -39.724</td> <td> 1963.620</td>\n",
       "</tr>\n",
       "<tr>\n",
       "  <th>shuttle</th>            <td> -118.9955</td> <td>   88.464</td> <td>   -1.345</td> <td> 0.183</td> <td> -295.670</td> <td>   57.679</td>\n",
       "</tr>\n",
       "<tr>\n",
       "  <th>vertical</th>           <td>    0.8237</td> <td>    4.385</td> <td>    0.188</td> <td> 0.852</td> <td>   -7.934</td> <td>    9.582</td>\n",
       "</tr>\n",
       "<tr>\n",
       "  <th>forty</th>              <td> -103.8433</td> <td>   94.075</td> <td>   -1.104</td> <td> 0.274</td> <td> -291.725</td> <td>   84.038</td>\n",
       "</tr>\n",
       "<tr>\n",
       "  <th>broad_jump</th>         <td>    0.4115</td> <td>    1.895</td> <td>    0.217</td> <td> 0.829</td> <td>   -3.373</td> <td>    4.196</td>\n",
       "</tr>\n",
       "<tr>\n",
       "  <th>cone</th>               <td>   -6.7373</td> <td>   56.862</td> <td>   -0.118</td> <td> 0.906</td> <td> -120.298</td> <td>  106.824</td>\n",
       "</tr>\n",
       "<tr>\n",
       "  <th>shuttle_missing</th>    <td>         0</td> <td>        0</td> <td>      nan</td> <td>   nan</td> <td>        0</td> <td>        0</td>\n",
       "</tr>\n",
       "<tr>\n",
       "  <th>vertical_missing</th>   <td>         0</td> <td>        0</td> <td>      nan</td> <td>   nan</td> <td>        0</td> <td>        0</td>\n",
       "</tr>\n",
       "<tr>\n",
       "  <th>forty_missing</th>      <td>         0</td> <td>        0</td> <td>      nan</td> <td>   nan</td> <td>        0</td> <td>        0</td>\n",
       "</tr>\n",
       "<tr>\n",
       "  <th>broad_jump_missing</th> <td>         0</td> <td>        0</td> <td>      nan</td> <td>   nan</td> <td>        0</td> <td>        0</td>\n",
       "</tr>\n",
       "<tr>\n",
       "  <th>cone_missing</th>       <td>         0</td> <td>        0</td> <td>      nan</td> <td>   nan</td> <td>        0</td> <td>        0</td>\n",
       "</tr>\n",
       "<tr>\n",
       "  <th>bench</th>              <td>    2.5982</td> <td>    2.206</td> <td>    1.178</td> <td> 0.243</td> <td>   -1.807</td> <td>    7.004</td>\n",
       "</tr>\n",
       "<tr>\n",
       "  <th>bench_missing</th>      <td>         0</td> <td>        0</td> <td>      nan</td> <td>   nan</td> <td>        0</td> <td>        0</td>\n",
       "</tr>\n",
       "</table>\n",
       "<table class=\"simpletable\">\n",
       "<tr>\n",
       "  <th>Omnibus:</th>       <td>10.233</td> <th>  Durbin-Watson:     </th> <td>   0.993</td>\n",
       "</tr>\n",
       "<tr>\n",
       "  <th>Prob(Omnibus):</th> <td> 0.006</td> <th>  Jarque-Bera (JB):  </th> <td>  11.198</td>\n",
       "</tr>\n",
       "<tr>\n",
       "  <th>Skew:</th>          <td> 0.966</td> <th>  Prob(JB):          </th> <td> 0.00370</td>\n",
       "</tr>\n",
       "<tr>\n",
       "  <th>Kurtosis:</th>      <td> 2.970</td> <th>  Cond. No.          </th> <td>     inf</td>\n",
       "</tr>\n",
       "</table><br/><br/>Notes:<br/>[1] Standard Errors assume that the covariance matrix of the errors is correctly specified.<br/>[2] The smallest eigenvalue is      0. This might indicate that there are<br/>strong multicollinearity problems or that the design matrix is singular."
      ],
      "text/latex": [
       "\\begin{center}\n",
       "\\begin{tabular}{lclc}\n",
       "\\toprule\n",
       "\\textbf{Dep. Variable:}       & fantasy\\_points\\_ppr & \\textbf{  R-squared:         } &     0.134   \\\\\n",
       "\\textbf{Model:}               &         OLS          & \\textbf{  Adj. R-squared:    } &     0.054   \\\\\n",
       "\\textbf{Method:}              &    Least Squares     & \\textbf{  F-statistic:       } &     1.670   \\\\\n",
       "\\textbf{Date:}                &   Tue, 12 Aug 2025   & \\textbf{  Prob (F-statistic):} &    0.143    \\\\\n",
       "\\textbf{Time:}                &       11:22:55       & \\textbf{  Log-Likelihood:    } &   -396.90   \\\\\n",
       "\\textbf{No. Observations:}    &            72        & \\textbf{  AIC:               } &     807.8   \\\\\n",
       "\\textbf{Df Residuals:}        &            65        & \\textbf{  BIC:               } &     823.7   \\\\\n",
       "\\textbf{Df Model:}            &             6        & \\textbf{                     } &             \\\\\n",
       "\\textbf{Covariance Type:}     &      nonrobust       & \\textbf{                     } &             \\\\\n",
       "\\bottomrule\n",
       "\\end{tabular}\n",
       "\\begin{tabular}{lcccccc}\n",
       "                              & \\textbf{coef} & \\textbf{std err} & \\textbf{t} & \\textbf{P$> |$t$|$} & \\textbf{[0.025} & \\textbf{0.975]}  \\\\\n",
       "\\midrule\n",
       "\\textbf{Intercept}            &     961.9478  &      501.554     &     1.918  &         0.060        &      -39.724    &     1963.620     \\\\\n",
       "\\textbf{shuttle}              &    -118.9955  &       88.464     &    -1.345  &         0.183        &     -295.670    &       57.679     \\\\\n",
       "\\textbf{vertical}             &       0.8237  &        4.385     &     0.188  &         0.852        &       -7.934    &        9.582     \\\\\n",
       "\\textbf{forty}                &    -103.8433  &       94.075     &    -1.104  &         0.274        &     -291.725    &       84.038     \\\\\n",
       "\\textbf{broad\\_jump}          &       0.4115  &        1.895     &     0.217  &         0.829        &       -3.373    &        4.196     \\\\\n",
       "\\textbf{cone}                 &      -6.7373  &       56.862     &    -0.118  &         0.906        &     -120.298    &      106.824     \\\\\n",
       "\\textbf{shuttle\\_missing}     &            0  &            0     &       nan  &           nan        &            0    &            0     \\\\\n",
       "\\textbf{vertical\\_missing}    &            0  &            0     &       nan  &           nan        &            0    &            0     \\\\\n",
       "\\textbf{forty\\_missing}       &            0  &            0     &       nan  &           nan        &            0    &            0     \\\\\n",
       "\\textbf{broad\\_jump\\_missing} &            0  &            0     &       nan  &           nan        &            0    &            0     \\\\\n",
       "\\textbf{cone\\_missing}        &            0  &            0     &       nan  &           nan        &            0    &            0     \\\\\n",
       "\\textbf{bench}                &       2.5982  &        2.206     &     1.178  &         0.243        &       -1.807    &        7.004     \\\\\n",
       "\\textbf{bench\\_missing}       &            0  &            0     &       nan  &           nan        &            0    &            0     \\\\\n",
       "\\bottomrule\n",
       "\\end{tabular}\n",
       "\\begin{tabular}{lclc}\n",
       "\\textbf{Omnibus:}       & 10.233 & \\textbf{  Durbin-Watson:     } &    0.993  \\\\\n",
       "\\textbf{Prob(Omnibus):} &  0.006 & \\textbf{  Jarque-Bera (JB):  } &   11.198  \\\\\n",
       "\\textbf{Skew:}          &  0.966 & \\textbf{  Prob(JB):          } &  0.00370  \\\\\n",
       "\\textbf{Kurtosis:}      &  2.970 & \\textbf{  Cond. No.          } &      inf  \\\\\n",
       "\\bottomrule\n",
       "\\end{tabular}\n",
       "%\\caption{OLS Regression Results}\n",
       "\\end{center}\n",
       "\n",
       "Notes: \\newline\n",
       " [1] Standard Errors assume that the covariance matrix of the errors is correctly specified. \\newline\n",
       " [2] The smallest eigenvalue is      0. This might indicate that there are \\newline\n",
       " strong multicollinearity problems or that the design matrix is singular."
      ],
      "text/plain": [
       "<class 'statsmodels.iolib.summary.Summary'>\n",
       "\"\"\"\n",
       "                            OLS Regression Results                            \n",
       "==============================================================================\n",
       "Dep. Variable:     fantasy_points_ppr   R-squared:                       0.134\n",
       "Model:                            OLS   Adj. R-squared:                  0.054\n",
       "Method:                 Least Squares   F-statistic:                     1.670\n",
       "Date:                Tue, 12 Aug 2025   Prob (F-statistic):              0.143\n",
       "Time:                        11:22:55   Log-Likelihood:                -396.90\n",
       "No. Observations:                  72   AIC:                             807.8\n",
       "Df Residuals:                      65   BIC:                             823.7\n",
       "Df Model:                           6                                         \n",
       "Covariance Type:            nonrobust                                         \n",
       "======================================================================================\n",
       "                         coef    std err          t      P>|t|      [0.025      0.975]\n",
       "--------------------------------------------------------------------------------------\n",
       "Intercept            961.9478    501.554      1.918      0.060     -39.724    1963.620\n",
       "shuttle             -118.9955     88.464     -1.345      0.183    -295.670      57.679\n",
       "vertical               0.8237      4.385      0.188      0.852      -7.934       9.582\n",
       "forty               -103.8433     94.075     -1.104      0.274    -291.725      84.038\n",
       "broad_jump             0.4115      1.895      0.217      0.829      -3.373       4.196\n",
       "cone                  -6.7373     56.862     -0.118      0.906    -120.298     106.824\n",
       "shuttle_missing             0          0        nan        nan           0           0\n",
       "vertical_missing            0          0        nan        nan           0           0\n",
       "forty_missing               0          0        nan        nan           0           0\n",
       "broad_jump_missing          0          0        nan        nan           0           0\n",
       "cone_missing                0          0        nan        nan           0           0\n",
       "bench                  2.5982      2.206      1.178      0.243      -1.807       7.004\n",
       "bench_missing               0          0        nan        nan           0           0\n",
       "==============================================================================\n",
       "Omnibus:                       10.233   Durbin-Watson:                   0.993\n",
       "Prob(Omnibus):                  0.006   Jarque-Bera (JB):               11.198\n",
       "Skew:                           0.966   Prob(JB):                      0.00370\n",
       "Kurtosis:                       2.970   Cond. No.                          inf\n",
       "==============================================================================\n",
       "\n",
       "Notes:\n",
       "[1] Standard Errors assume that the covariance matrix of the errors is correctly specified.\n",
       "[2] The smallest eigenvalue is      0. This might indicate that there are\n",
       "strong multicollinearity problems or that the design matrix is singular.\n",
       "\"\"\""
      ]
     },
     "execution_count": 44,
     "metadata": {},
     "output_type": "execute_result"
    },
    {
     "data": {
      "image/png": "[encoded data removed]",
      "text/plain": [
       "<Figure size 640x480 with 2 Axes>"
      ]
     },
     "metadata": {},
     "output_type": "display_data"
    },
    {
     "data": {
      "image/png": "[encoded data removed]",
      "text/plain": [
       "<Figure size 2000x300 with 4 Axes>"
      ]
     },
     "metadata": {},
     "output_type": "display_data"
    }
   ],
   "source": [
    "from statsmodels.formula.api import ols\n",
    "\n",
    "pd.options.mode.chained_assignment = None  \n",
    "\n",
    "subset = allWrs[[\"fantasy_points_ppr\", \"shuttle\", \"vertical\",\"forty\", \"broad_jump\", \"cone\"]]\n",
    "sns.heatmap(subset.corr(), annot=True)\n",
    "\n",
    "\n",
    "fig, axes = plt.subplots(1, 4, figsize=(20,3))\n",
    "sns.scatterplot(data=allWrs, x=\"shuttle\", y=\"fantasy_points_ppr\", ax=axes[0])\n",
    "sns.scatterplot(data=allWrs, x=\"vertical\", y=\"fantasy_points_ppr\", ax=axes[1])\n",
    "sns.scatterplot(data=allWrs, x=\"forty\", y=\"fantasy_points_ppr\", ax=axes[2])\n",
    "sns.scatterplot(data=allWrs, x=\"bench\", y=\"fantasy_points_ppr\", ax=axes[3])\n",
    "\n",
    "print(allWrs[\"fantasy_points_ppr\"].corr(allWrs[\"bench\"]))\n",
    "print(allWrs[\"fantasy_points_ppr\"].corr(allWrs[\"forty\"]))\n",
    "print(allWrs[\"fantasy_points_ppr\"].corr(allWrs[\"vertical\"]))\n",
    "print(allWrs[\"fantasy_points_ppr\"].corr(allWrs[\"shuttle\"]))\n",
    "print(allWrs[\"fantasy_points_ppr\"].corr(allWrs[\"broad_jump\"]))\n",
    "\n",
    "OLS = ols(\n",
    "    formula=\"fantasy_points_ppr ~ shuttle + vertical + forty + broad_jump + cone + shuttle_missing + vertical_missing + forty_missing + broad_jump_missing + cone_missing + bench + bench_missing\",\n",
    "    data=allWrs\n",
    ")\n",
    "model = OLS.fit()\n",
    "model.summary()"
   ]
  },
  {
   "cell_type": "markdown",
   "id": "3a536afd",
   "metadata": {},
   "source": [
    "Clearly, there is little to no correlation for WRs for combine statistics. However, there is an issue of multicollinearity, since most likely if someone excels at the forty, they will most likely excel at the shuttle."
   ]
  },
  {
   "cell_type": "code",
   "execution_count": null,
   "id": "23d319f7",
   "metadata": {},
   "outputs": [],
   "source": []
  }
 ],
 "metadata": {
  "kernelspec": {
   "display_name": "Python 3",
   "language": "python",
   "name": "python3"
  },
  "language_info": {
   "codemirror_mode": {
    "name": "ipython",
    "version": 3
   },
   "file_extension": ".py",
   "mimetype": "text/x-python",
   "name": "python",
   "nbconvert_exporter": "python",
   "pygments_lexer": "ipython3",
   "version": "3.12.9"
  }
 },
 "nbformat": 4,
 "nbformat_minor": 5
}
