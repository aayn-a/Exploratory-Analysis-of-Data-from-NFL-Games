{
 "cells": [
  {
   "cell_type": "markdown",
   "id": "ecb1ad9e",
   "metadata": {},
   "source": [
    "# Data Analysis of NFL Game/Player Data\n",
    "\n",
    "### What does home field advantage do?\n",
    "### Has strategy changed as eras shift?\n",
    "### How much does combine stats play into rookie success?"
   ]
  },
  {
   "cell_type": "code",
   "execution_count": 1,
   "id": "932227c1",
   "metadata": {},
   "outputs": [],
   "source": [
    "import pandas as pd\n",
    "import numpy as np\n",
    "import statsmodels.api as sm\n",
    "import seaborn as sns\n",
    "import matplotlib.pyplot as plt\n",
    "from scipy import stats"
   ]
  },
  {
   "cell_type": "markdown",
   "id": "b9880eca",
   "metadata": {},
   "source": [
    "## Cleaning/Initial Analysis"
   ]
  },
  {
   "cell_type": "code",
   "execution_count": 2,
   "id": "14197de4",
   "metadata": {},
   "outputs": [
    {
     "data": {
      "application/vnd.microsoft.datawrangler.viewer.v0+json": {
       "columns": [
        {
         "name": "index",
         "rawType": "int64",
         "type": "integer"
        },
        {
         "name": "Opp",
         "rawType": "object",
         "type": "string"
        },
        {
         "name": "Tm",
         "rawType": "float64",
         "type": "float"
        },
        {
         "name": "Opp.1",
         "rawType": "float64",
         "type": "float"
        },
        {
         "name": "1stD",
         "rawType": "float64",
         "type": "float"
        },
        {
         "name": "TotYd",
         "rawType": "float64",
         "type": "float"
        },
        {
         "name": "PassY",
         "rawType": "float64",
         "type": "float"
        },
        {
         "name": "RushY",
         "rawType": "float64",
         "type": "float"
        },
        {
         "name": "TO",
         "rawType": "float64",
         "type": "float"
        },
        {
         "name": "1stD.1",
         "rawType": "float64",
         "type": "float"
        },
        {
         "name": "TotYd.1",
         "rawType": "float64",
         "type": "float"
        },
        {
         "name": "PassY.1",
         "rawType": "float64",
         "type": "float"
        },
        {
         "name": "RushY.1",
         "rawType": "float64",
         "type": "float"
        },
        {
         "name": "TO.1",
         "rawType": "float64",
         "type": "float"
        },
        {
         "name": "Offense",
         "rawType": "float64",
         "type": "float"
        },
        {
         "name": "Defense",
         "rawType": "float64",
         "type": "float"
        },
        {
         "name": "Sp. Tms",
         "rawType": "float64",
         "type": "float"
        },
        {
         "name": "Home_team",
         "rawType": "object",
         "type": "string"
        },
        {
         "name": "Year",
         "rawType": "int64",
         "type": "integer"
        },
        {
         "name": "Winner",
         "rawType": "object",
         "type": "string"
        }
       ],
       "ref": "4dccfc08-a770-4320-b81f-2ba8b2e1e5a6",
       "rows": [
        [
         "0",
         "Tampa Bay Buccaneers",
         "31.0",
         "17.0",
         "17.0",
         "256.0",
         "158.0",
         "98.0",
         "2.0",
         "21.0",
         "295.0",
         "174.0",
         "121.0",
         "4.0",
         "-7.51",
         "19.12",
         "1.1",
         "San Francisco 49ers",
         "2019",
         "San Francisco 49ers"
        ],
        [
         "1",
         "Cincinnati Bengals",
         "41.0",
         "17.0",
         "27.0",
         "571.0",
         "312.0",
         "259.0",
         "1.0",
         "14.0",
         "316.0",
         "291.0",
         "25.0",
         "1.0",
         "27.34",
         "1.14",
         "-6.64",
         "San Francisco 49ers",
         "2019",
         "San Francisco 49ers"
        ],
        [
         "2",
         "Pittsburgh Steelers",
         "24.0",
         "20.0",
         "26.0",
         "436.0",
         "268.0",
         "168.0",
         "5.0",
         "11.0",
         "239.0",
         "160.0",
         "79.0",
         "2.0",
         "-3.72",
         "10.2",
         "0.12",
         "San Francisco 49ers",
         "2019",
         "San Francisco 49ers"
        ],
        [
         "3",
         "Los Angeles Rams",
         "20.0",
         "7.0",
         "22.0",
         "331.0",
         "232.0",
         "99.0",
         "2.0",
         "10.0",
         "157.0",
         "48.0",
         "109.0",
         "1.0",
         "-3.54",
         "25.23",
         "-5.01",
         "San Francisco 49ers",
         "2019",
         "San Francisco 49ers"
        ],
        [
         "4",
         "Washington Redskins",
         "9.0",
         "0.0",
         "17.0",
         "283.0",
         "146.0",
         "137.0",
         "1.0",
         "10.0",
         "154.0",
         "50.0",
         "104.0",
         "1.0",
         "-1.99",
         "14.12",
         "-0.61",
         "San Francisco 49ers",
         "2019",
         "San Francisco 49ers"
        ]
       ],
       "shape": {
        "columns": 19,
        "rows": 5
       }
      },
      "text/html": [
       "<div>\n",
       "<style scoped>\n",
       "    .dataframe tbody tr th:only-of-type {\n",
       "        vertical-align: middle;\n",
       "    }\n",
       "\n",
       "    .dataframe tbody tr th {\n",
       "        vertical-align: top;\n",
       "    }\n",
       "\n",
       "    .dataframe thead th {\n",
       "        text-align: right;\n",
       "    }\n",
       "</style>\n",
       "<table border=\"1\" class=\"dataframe\">\n",
       "  <thead>\n",
       "    <tr style=\"text-align: right;\">\n",
       "      <th></th>\n",
       "      <th>Opp</th>\n",
       "      <th>Tm</th>\n",
       "      <th>Opp.1</th>\n",
       "      <th>1stD</th>\n",
       "      <th>TotYd</th>\n",
       "      <th>PassY</th>\n",
       "      <th>RushY</th>\n",
       "      <th>TO</th>\n",
       "      <th>1stD.1</th>\n",
       "      <th>TotYd.1</th>\n",
       "      <th>PassY.1</th>\n",
       "      <th>RushY.1</th>\n",
       "      <th>TO.1</th>\n",
       "      <th>Offense</th>\n",
       "      <th>Defense</th>\n",
       "      <th>Sp. Tms</th>\n",
       "      <th>Home_team</th>\n",
       "      <th>Year</th>\n",
       "      <th>Winner</th>\n",
       "    </tr>\n",
       "  </thead>\n",
       "  <tbody>\n",
       "    <tr>\n",
       "      <th>0</th>\n",
       "      <td>Tampa Bay Buccaneers</td>\n",
       "      <td>31.0</td>\n",
       "      <td>17.0</td>\n",
       "      <td>17.0</td>\n",
       "      <td>256.0</td>\n",
       "      <td>158.0</td>\n",
       "      <td>98.0</td>\n",
       "      <td>2.0</td>\n",
       "      <td>21.0</td>\n",
       "      <td>295.0</td>\n",
       "      <td>174.0</td>\n",
       "      <td>121.0</td>\n",
       "      <td>4.0</td>\n",
       "      <td>-7.51</td>\n",
       "      <td>19.12</td>\n",
       "      <td>1.10</td>\n",
       "      <td>San Francisco 49ers</td>\n",
       "      <td>2019</td>\n",
       "      <td>San Francisco 49ers</td>\n",
       "    </tr>\n",
       "    <tr>\n",
       "      <th>1</th>\n",
       "      <td>Cincinnati Bengals</td>\n",
       "      <td>41.0</td>\n",
       "      <td>17.0</td>\n",
       "      <td>27.0</td>\n",
       "      <td>571.0</td>\n",
       "      <td>312.0</td>\n",
       "      <td>259.0</td>\n",
       "      <td>1.0</td>\n",
       "      <td>14.0</td>\n",
       "      <td>316.0</td>\n",
       "      <td>291.0</td>\n",
       "      <td>25.0</td>\n",
       "      <td>1.0</td>\n",
       "      <td>27.34</td>\n",
       "      <td>1.14</td>\n",
       "      <td>-6.64</td>\n",
       "      <td>San Francisco 49ers</td>\n",
       "      <td>2019</td>\n",
       "      <td>San Francisco 49ers</td>\n",
       "    </tr>\n",
       "    <tr>\n",
       "      <th>2</th>\n",
       "      <td>Pittsburgh Steelers</td>\n",
       "      <td>24.0</td>\n",
       "      <td>20.0</td>\n",
       "      <td>26.0</td>\n",
       "      <td>436.0</td>\n",
       "      <td>268.0</td>\n",
       "      <td>168.0</td>\n",
       "      <td>5.0</td>\n",
       "      <td>11.0</td>\n",
       "      <td>239.0</td>\n",
       "      <td>160.0</td>\n",
       "      <td>79.0</td>\n",
       "      <td>2.0</td>\n",
       "      <td>-3.72</td>\n",
       "      <td>10.20</td>\n",
       "      <td>0.12</td>\n",
       "      <td>San Francisco 49ers</td>\n",
       "      <td>2019</td>\n",
       "      <td>San Francisco 49ers</td>\n",
       "    </tr>\n",
       "    <tr>\n",
       "      <th>3</th>\n",
       "      <td>Los Angeles Rams</td>\n",
       "      <td>20.0</td>\n",
       "      <td>7.0</td>\n",
       "      <td>22.0</td>\n",
       "      <td>331.0</td>\n",
       "      <td>232.0</td>\n",
       "      <td>99.0</td>\n",
       "      <td>2.0</td>\n",
       "      <td>10.0</td>\n",
       "      <td>157.0</td>\n",
       "      <td>48.0</td>\n",
       "      <td>109.0</td>\n",
       "      <td>1.0</td>\n",
       "      <td>-3.54</td>\n",
       "      <td>25.23</td>\n",
       "      <td>-5.01</td>\n",
       "      <td>San Francisco 49ers</td>\n",
       "      <td>2019</td>\n",
       "      <td>San Francisco 49ers</td>\n",
       "    </tr>\n",
       "    <tr>\n",
       "      <th>4</th>\n",
       "      <td>Washington Redskins</td>\n",
       "      <td>9.0</td>\n",
       "      <td>0.0</td>\n",
       "      <td>17.0</td>\n",
       "      <td>283.0</td>\n",
       "      <td>146.0</td>\n",
       "      <td>137.0</td>\n",
       "      <td>1.0</td>\n",
       "      <td>10.0</td>\n",
       "      <td>154.0</td>\n",
       "      <td>50.0</td>\n",
       "      <td>104.0</td>\n",
       "      <td>1.0</td>\n",
       "      <td>-1.99</td>\n",
       "      <td>14.12</td>\n",
       "      <td>-0.61</td>\n",
       "      <td>San Francisco 49ers</td>\n",
       "      <td>2019</td>\n",
       "      <td>San Francisco 49ers</td>\n",
       "    </tr>\n",
       "  </tbody>\n",
       "</table>\n",
       "</div>"
      ],
      "text/plain": [
       "                    Opp    Tm  Opp.1  1stD  TotYd  PassY  RushY   TO  1stD.1  \\\n",
       "0  Tampa Bay Buccaneers  31.0   17.0  17.0  256.0  158.0   98.0  2.0    21.0   \n",
       "1    Cincinnati Bengals  41.0   17.0  27.0  571.0  312.0  259.0  1.0    14.0   \n",
       "2   Pittsburgh Steelers  24.0   20.0  26.0  436.0  268.0  168.0  5.0    11.0   \n",
       "3      Los Angeles Rams  20.0    7.0  22.0  331.0  232.0   99.0  2.0    10.0   \n",
       "4   Washington Redskins   9.0    0.0  17.0  283.0  146.0  137.0  1.0    10.0   \n",
       "\n",
       "   TotYd.1  PassY.1  RushY.1  TO.1  Offense  Defense  Sp. Tms  \\\n",
       "0    295.0    174.0    121.0   4.0    -7.51    19.12     1.10   \n",
       "1    316.0    291.0     25.0   1.0    27.34     1.14    -6.64   \n",
       "2    239.0    160.0     79.0   2.0    -3.72    10.20     0.12   \n",
       "3    157.0     48.0    109.0   1.0    -3.54    25.23    -5.01   \n",
       "4    154.0     50.0    104.0   1.0    -1.99    14.12    -0.61   \n",
       "\n",
       "             Home_team  Year               Winner  \n",
       "0  San Francisco 49ers  2019  San Francisco 49ers  \n",
       "1  San Francisco 49ers  2019  San Francisco 49ers  \n",
       "2  San Francisco 49ers  2019  San Francisco 49ers  \n",
       "3  San Francisco 49ers  2019  San Francisco 49ers  \n",
       "4  San Francisco 49ers  2019  San Francisco 49ers  "
      ]
     },
     "execution_count": 2,
     "metadata": {},
     "output_type": "execute_result"
    }
   ],
   "source": [
    "nfl_data = pd.read_csv(\"nflcombine.csv\")\n",
    "nfl_data = nfl_data.drop(columns=['Unnamed: 0'])\n",
    "nfl_data.head()"
   ]
  },
  {
   "cell_type": "code",
   "execution_count": 3,
   "id": "9d6be14d",
   "metadata": {},
   "outputs": [
    {
     "data": {
      "application/vnd.microsoft.datawrangler.viewer.v0+json": {
       "columns": [
        {
         "name": "index",
         "rawType": "object",
         "type": "string"
        },
        {
         "name": "Tm",
         "rawType": "float64",
         "type": "float"
        },
        {
         "name": "Opp.1",
         "rawType": "float64",
         "type": "float"
        },
        {
         "name": "1stD",
         "rawType": "float64",
         "type": "float"
        },
        {
         "name": "TotYd",
         "rawType": "float64",
         "type": "float"
        },
        {
         "name": "PassY",
         "rawType": "float64",
         "type": "float"
        },
        {
         "name": "RushY",
         "rawType": "float64",
         "type": "float"
        },
        {
         "name": "TO",
         "rawType": "float64",
         "type": "float"
        },
        {
         "name": "1stD.1",
         "rawType": "float64",
         "type": "float"
        },
        {
         "name": "TotYd.1",
         "rawType": "float64",
         "type": "float"
        },
        {
         "name": "PassY.1",
         "rawType": "float64",
         "type": "float"
        },
        {
         "name": "RushY.1",
         "rawType": "float64",
         "type": "float"
        },
        {
         "name": "TO.1",
         "rawType": "float64",
         "type": "float"
        },
        {
         "name": "Offense",
         "rawType": "float64",
         "type": "float"
        },
        {
         "name": "Defense",
         "rawType": "float64",
         "type": "float"
        },
        {
         "name": "Sp. Tms",
         "rawType": "float64",
         "type": "float"
        },
        {
         "name": "Year",
         "rawType": "float64",
         "type": "float"
        }
       ],
       "ref": "61abce6c-6d2b-438b-8961-5c36e8beefed",
       "rows": [
        [
         "count",
         "895.0",
         "895.0",
         "895.0",
         "895.0",
         "895.0",
         "895.0",
         "895.0",
         "895.0",
         "895.0",
         "895.0",
         "895.0",
         "895.0",
         "895.0",
         "895.0",
         "895.0",
         "895.0"
        ],
        [
         "mean",
         "23.225698324022346",
         "23.027932960893853",
         "20.50167597765363",
         "348.04804469273745",
         "231.83016759776535",
         "116.21787709497207",
         "1.7731843575418995",
         "20.456983240223465",
         "346.21340782122905",
         "230.55418994413407",
         "115.65921787709497",
         "1.7776536312849163",
         "2.345296089385475",
         "-2.1087597765363126",
         "-0.030871508379888238",
         "2020.167597765363"
        ],
        [
         "std",
         "9.85535256620441",
         "9.891712441688636",
         "4.985857794661151",
         "85.87369721032574",
         "79.2503056506492",
         "51.79693306683602",
         "1.0005347700871021",
         "5.036343735964429",
         "86.1114739728868",
         "79.53616318880422",
         "51.47770592636477",
         "1.0071073338566947",
         "11.939508686269452",
         "12.01352782063877",
         "5.01032010125386",
         "0.9801499310020497"
        ],
        [
         "min",
         "0.0",
         "0.0",
         "6.0",
         "105.0",
         "-6.0",
         "3.0",
         "1.0",
         "6.0",
         "105.0",
         "-6.0",
         "3.0",
         "1.0",
         "-35.65",
         "-40.69",
         "-17.39",
         "2019.0"
        ],
        [
         "25%",
         "17.0",
         "17.0",
         "17.0",
         "285.5",
         "175.0",
         "78.0",
         "1.0",
         "17.0",
         "283.0",
         "174.0",
         "78.0",
         "1.0",
         "-4.8",
         "-9.875",
         "-3.41",
         "2019.0"
        ],
        [
         "50%",
         "23.0",
         "23.0",
         "21.0",
         "354.0",
         "229.0",
         "109.0",
         "1.0",
         "21.0",
         "352.0",
         "228.0",
         "108.0",
         "1.0",
         "3.21",
         "-2.83",
         "-0.06",
         "2020.0"
        ],
        [
         "75%",
         "30.0",
         "30.0",
         "24.0",
         "405.5",
         "282.5",
         "145.0",
         "2.0",
         "24.0",
         "403.5",
         "280.5",
         "144.0",
         "2.0",
         "9.93",
         "5.31",
         "3.355",
         "2021.0"
        ],
        [
         "max",
         "56.0",
         "56.0",
         "36.0",
         "592.0",
         "490.0",
         "404.0",
         "7.0",
         "36.0",
         "592.0",
         "490.0",
         "404.0",
         "7.0",
         "40.69",
         "35.65",
         "17.39",
         "2022.0"
        ]
       ],
       "shape": {
        "columns": 16,
        "rows": 8
       }
      },
      "text/html": [
       "<div>\n",
       "<style scoped>\n",
       "    .dataframe tbody tr th:only-of-type {\n",
       "        vertical-align: middle;\n",
       "    }\n",
       "\n",
       "    .dataframe tbody tr th {\n",
       "        vertical-align: top;\n",
       "    }\n",
       "\n",
       "    .dataframe thead th {\n",
       "        text-align: right;\n",
       "    }\n",
       "</style>\n",
       "<table border=\"1\" class=\"dataframe\">\n",
       "  <thead>\n",
       "    <tr style=\"text-align: right;\">\n",
       "      <th></th>\n",
       "      <th>Tm</th>\n",
       "      <th>Opp.1</th>\n",
       "      <th>1stD</th>\n",
       "      <th>TotYd</th>\n",
       "      <th>PassY</th>\n",
       "      <th>RushY</th>\n",
       "      <th>TO</th>\n",
       "      <th>1stD.1</th>\n",
       "      <th>TotYd.1</th>\n",
       "      <th>PassY.1</th>\n",
       "      <th>RushY.1</th>\n",
       "      <th>TO.1</th>\n",
       "      <th>Offense</th>\n",
       "      <th>Defense</th>\n",
       "      <th>Sp. Tms</th>\n",
       "      <th>Year</th>\n",
       "    </tr>\n",
       "  </thead>\n",
       "  <tbody>\n",
       "    <tr>\n",
       "      <th>count</th>\n",
       "      <td>895.000000</td>\n",
       "      <td>895.000000</td>\n",
       "      <td>895.000000</td>\n",
       "      <td>895.000000</td>\n",
       "      <td>895.000000</td>\n",
       "      <td>895.000000</td>\n",
       "      <td>895.000000</td>\n",
       "      <td>895.000000</td>\n",
       "      <td>895.000000</td>\n",
       "      <td>895.000000</td>\n",
       "      <td>895.000000</td>\n",
       "      <td>895.000000</td>\n",
       "      <td>895.000000</td>\n",
       "      <td>895.000000</td>\n",
       "      <td>895.000000</td>\n",
       "      <td>895.000000</td>\n",
       "    </tr>\n",
       "    <tr>\n",
       "      <th>mean</th>\n",
       "      <td>23.225698</td>\n",
       "      <td>23.027933</td>\n",
       "      <td>20.501676</td>\n",
       "      <td>348.048045</td>\n",
       "      <td>231.830168</td>\n",
       "      <td>116.217877</td>\n",
       "      <td>1.773184</td>\n",
       "      <td>20.456983</td>\n",
       "      <td>346.213408</td>\n",
       "      <td>230.554190</td>\n",
       "      <td>115.659218</td>\n",
       "      <td>1.777654</td>\n",
       "      <td>2.345296</td>\n",
       "      <td>-2.108760</td>\n",
       "      <td>-0.030872</td>\n",
       "      <td>2020.167598</td>\n",
       "    </tr>\n",
       "    <tr>\n",
       "      <th>std</th>\n",
       "      <td>9.855353</td>\n",
       "      <td>9.891712</td>\n",
       "      <td>4.985858</td>\n",
       "      <td>85.873697</td>\n",
       "      <td>79.250306</td>\n",
       "      <td>51.796933</td>\n",
       "      <td>1.000535</td>\n",
       "      <td>5.036344</td>\n",
       "      <td>86.111474</td>\n",
       "      <td>79.536163</td>\n",
       "      <td>51.477706</td>\n",
       "      <td>1.007107</td>\n",
       "      <td>11.939509</td>\n",
       "      <td>12.013528</td>\n",
       "      <td>5.010320</td>\n",
       "      <td>0.980150</td>\n",
       "    </tr>\n",
       "    <tr>\n",
       "      <th>min</th>\n",
       "      <td>0.000000</td>\n",
       "      <td>0.000000</td>\n",
       "      <td>6.000000</td>\n",
       "      <td>105.000000</td>\n",
       "      <td>-6.000000</td>\n",
       "      <td>3.000000</td>\n",
       "      <td>1.000000</td>\n",
       "      <td>6.000000</td>\n",
       "      <td>105.000000</td>\n",
       "      <td>-6.000000</td>\n",
       "      <td>3.000000</td>\n",
       "      <td>1.000000</td>\n",
       "      <td>-35.650000</td>\n",
       "      <td>-40.690000</td>\n",
       "      <td>-17.390000</td>\n",
       "      <td>2019.000000</td>\n",
       "    </tr>\n",
       "    <tr>\n",
       "      <th>25%</th>\n",
       "      <td>17.000000</td>\n",
       "      <td>17.000000</td>\n",
       "      <td>17.000000</td>\n",
       "      <td>285.500000</td>\n",
       "      <td>175.000000</td>\n",
       "      <td>78.000000</td>\n",
       "      <td>1.000000</td>\n",
       "      <td>17.000000</td>\n",
       "      <td>283.000000</td>\n",
       "      <td>174.000000</td>\n",
       "      <td>78.000000</td>\n",
       "      <td>1.000000</td>\n",
       "      <td>-4.800000</td>\n",
       "      <td>-9.875000</td>\n",
       "      <td>-3.410000</td>\n",
       "      <td>2019.000000</td>\n",
       "    </tr>\n",
       "    <tr>\n",
       "      <th>50%</th>\n",
       "      <td>23.000000</td>\n",
       "      <td>23.000000</td>\n",
       "      <td>21.000000</td>\n",
       "      <td>354.000000</td>\n",
       "      <td>229.000000</td>\n",
       "      <td>109.000000</td>\n",
       "      <td>1.000000</td>\n",
       "      <td>21.000000</td>\n",
       "      <td>352.000000</td>\n",
       "      <td>228.000000</td>\n",
       "      <td>108.000000</td>\n",
       "      <td>1.000000</td>\n",
       "      <td>3.210000</td>\n",
       "      <td>-2.830000</td>\n",
       "      <td>-0.060000</td>\n",
       "      <td>2020.000000</td>\n",
       "    </tr>\n",
       "    <tr>\n",
       "      <th>75%</th>\n",
       "      <td>30.000000</td>\n",
       "      <td>30.000000</td>\n",
       "      <td>24.000000</td>\n",
       "      <td>405.500000</td>\n",
       "      <td>282.500000</td>\n",
       "      <td>145.000000</td>\n",
       "      <td>2.000000</td>\n",
       "      <td>24.000000</td>\n",
       "      <td>403.500000</td>\n",
       "      <td>280.500000</td>\n",
       "      <td>144.000000</td>\n",
       "      <td>2.000000</td>\n",
       "      <td>9.930000</td>\n",
       "      <td>5.310000</td>\n",
       "      <td>3.355000</td>\n",
       "      <td>2021.000000</td>\n",
       "    </tr>\n",
       "    <tr>\n",
       "      <th>max</th>\n",
       "      <td>56.000000</td>\n",
       "      <td>56.000000</td>\n",
       "      <td>36.000000</td>\n",
       "      <td>592.000000</td>\n",
       "      <td>490.000000</td>\n",
       "      <td>404.000000</td>\n",
       "      <td>7.000000</td>\n",
       "      <td>36.000000</td>\n",
       "      <td>592.000000</td>\n",
       "      <td>490.000000</td>\n",
       "      <td>404.000000</td>\n",
       "      <td>7.000000</td>\n",
       "      <td>40.690000</td>\n",
       "      <td>35.650000</td>\n",
       "      <td>17.390000</td>\n",
       "      <td>2022.000000</td>\n",
       "    </tr>\n",
       "  </tbody>\n",
       "</table>\n",
       "</div>"
      ],
      "text/plain": [
       "               Tm       Opp.1        1stD       TotYd       PassY       RushY  \\\n",
       "count  895.000000  895.000000  895.000000  895.000000  895.000000  895.000000   \n",
       "mean    23.225698   23.027933   20.501676  348.048045  231.830168  116.217877   \n",
       "std      9.855353    9.891712    4.985858   85.873697   79.250306   51.796933   \n",
       "min      0.000000    0.000000    6.000000  105.000000   -6.000000    3.000000   \n",
       "25%     17.000000   17.000000   17.000000  285.500000  175.000000   78.000000   \n",
       "50%     23.000000   23.000000   21.000000  354.000000  229.000000  109.000000   \n",
       "75%     30.000000   30.000000   24.000000  405.500000  282.500000  145.000000   \n",
       "max     56.000000   56.000000   36.000000  592.000000  490.000000  404.000000   \n",
       "\n",
       "               TO      1stD.1     TotYd.1     PassY.1     RushY.1        TO.1  \\\n",
       "count  895.000000  895.000000  895.000000  895.000000  895.000000  895.000000   \n",
       "mean     1.773184   20.456983  346.213408  230.554190  115.659218    1.777654   \n",
       "std      1.000535    5.036344   86.111474   79.536163   51.477706    1.007107   \n",
       "min      1.000000    6.000000  105.000000   -6.000000    3.000000    1.000000   \n",
       "25%      1.000000   17.000000  283.000000  174.000000   78.000000    1.000000   \n",
       "50%      1.000000   21.000000  352.000000  228.000000  108.000000    1.000000   \n",
       "75%      2.000000   24.000000  403.500000  280.500000  144.000000    2.000000   \n",
       "max      7.000000   36.000000  592.000000  490.000000  404.000000    7.000000   \n",
       "\n",
       "          Offense     Defense     Sp. Tms         Year  \n",
       "count  895.000000  895.000000  895.000000   895.000000  \n",
       "mean     2.345296   -2.108760   -0.030872  2020.167598  \n",
       "std     11.939509   12.013528    5.010320     0.980150  \n",
       "min    -35.650000  -40.690000  -17.390000  2019.000000  \n",
       "25%     -4.800000   -9.875000   -3.410000  2019.000000  \n",
       "50%      3.210000   -2.830000   -0.060000  2020.000000  \n",
       "75%      9.930000    5.310000    3.355000  2021.000000  \n",
       "max     40.690000   35.650000   17.390000  2022.000000  "
      ]
     },
     "execution_count": 3,
     "metadata": {},
     "output_type": "execute_result"
    }
   ],
   "source": [
    "nfl_data.describe()"
   ]
  },
  {
   "cell_type": "code",
   "execution_count": 4,
   "id": "2251c01b",
   "metadata": {},
   "outputs": [
    {
     "name": "stdout",
     "output_type": "stream",
     "text": [
      "<class 'pandas.core.frame.DataFrame'>\n",
      "RangeIndex: 895 entries, 0 to 894\n",
      "Data columns (total 19 columns):\n",
      " #   Column     Non-Null Count  Dtype  \n",
      "---  ------     --------------  -----  \n",
      " 0   Opp        895 non-null    object \n",
      " 1   Tm         895 non-null    float64\n",
      " 2   Opp.1      895 non-null    float64\n",
      " 3   1stD       895 non-null    float64\n",
      " 4   TotYd      895 non-null    float64\n",
      " 5   PassY      895 non-null    float64\n",
      " 6   RushY      895 non-null    float64\n",
      " 7   TO         895 non-null    float64\n",
      " 8   1stD.1     895 non-null    float64\n",
      " 9   TotYd.1    895 non-null    float64\n",
      " 10  PassY.1    895 non-null    float64\n",
      " 11  RushY.1    895 non-null    float64\n",
      " 12  TO.1       895 non-null    float64\n",
      " 13  Offense    895 non-null    float64\n",
      " 14  Defense    895 non-null    float64\n",
      " 15  Sp. Tms    895 non-null    float64\n",
      " 16  Home_team  895 non-null    object \n",
      " 17  Year       895 non-null    int64  \n",
      " 18  Winner     891 non-null    object \n",
      "dtypes: float64(15), int64(1), object(3)\n",
      "memory usage: 133.0+ KB\n"
     ]
    }
   ],
   "source": [
    "nfl_data.info()"
   ]
  },
  {
   "cell_type": "markdown",
   "id": "ee0cbe47",
   "metadata": {},
   "source": [
    "The following aggregates multiple datasets into one about rookie stats and their combine stats"
   ]
  },
  {
   "cell_type": "code",
   "execution_count": 5,
   "id": "205d9e05",
   "metadata": {},
   "outputs": [],
   "source": [
    "\n",
    "def dataFrameCreation(year, pos):\n",
    "    players = pd.read_csv(\"fullplayersdataset.csv\")\n",
    "    combine = pd.read_csv(\"combine.csv\")\n",
    "    rookies = players[players[\"rookie_year\"] == year]\n",
    "    rookies.rename(columns={\"display_name\": \"player_name\"}, inplace=True)\n",
    "    playerStats = pd.read_csv(f\"PlayerStatsNFLVerseData/player_stats_season_{year}.csv\")\n",
    "    playerStats = playerStats.drop(columns=['player_name', 'player_id', \"headshot_url\", \"recent_team\", \"season_type\"], axis=1)\n",
    "    playerStats.rename(columns={\"player_display_name\": \"player_name\"}, inplace=True)\n",
    "    merged = pd.merge(rookies, playerStats, on='player_name', how='left')\n",
    "    merged = merged.drop(columns=[\"current_team_id\", \"esb_id\", \"gsis_it_id\", \"uniform_number\", \"headshot\", \"smart_id\"])\n",
    "    merged = merged.dropna(subset=[\"season\"])\n",
    "    posD = merged[merged[\"position_x\"] == pos]\n",
    "    newPos = pd.merge(posD, combine, on=\"player_name\", how = \"left\")\n",
    "    newPos = newPos.dropna(subset=[\"shuttle\"])\n",
    "\n",
    "    return newPos\n"
   ]
  },
  {
   "cell_type": "code",
   "execution_count": 6,
   "id": "86b56e36",
   "metadata": {},
   "outputs": [
    {
     "data": {
      "application/vnd.microsoft.datawrangler.viewer.v0+json": {
       "columns": [
        {
         "name": "index",
         "rawType": "int64",
         "type": "integer"
        },
        {
         "name": "college_conference",
         "rawType": "object",
         "type": "string"
        },
        {
         "name": "college_name",
         "rawType": "object",
         "type": "string"
        },
        {
         "name": "player_name",
         "rawType": "object",
         "type": "string"
        },
        {
         "name": "draft_club",
         "rawType": "object",
         "type": "unknown"
        },
        {
         "name": "draft_number",
         "rawType": "float64",
         "type": "float"
        },
        {
         "name": "draftround",
         "rawType": "float64",
         "type": "float"
        },
        {
         "name": "entry_year",
         "rawType": "float64",
         "type": "float"
        },
        {
         "name": "first_name",
         "rawType": "object",
         "type": "string"
        },
        {
         "name": "football_name",
         "rawType": "object",
         "type": "string"
        },
        {
         "name": "gsis_id",
         "rawType": "object",
         "type": "string"
        },
        {
         "name": "jersey_number",
         "rawType": "float64",
         "type": "float"
        },
        {
         "name": "last_name",
         "rawType": "object",
         "type": "string"
        },
        {
         "name": "position_x",
         "rawType": "object",
         "type": "string"
        },
        {
         "name": "position_group_x",
         "rawType": "object",
         "type": "string"
        },
        {
         "name": "rookie_year",
         "rawType": "float64",
         "type": "float"
        },
        {
         "name": "short_name",
         "rawType": "object",
         "type": "string"
        },
        {
         "name": "status",
         "rawType": "object",
         "type": "string"
        },
        {
         "name": "status_description_abbr",
         "rawType": "object",
         "type": "string"
        },
        {
         "name": "status_short_description",
         "rawType": "object",
         "type": "string"
        },
        {
         "name": "team_abbr",
         "rawType": "object",
         "type": "string"
        },
        {
         "name": "height",
         "rawType": "float64",
         "type": "float"
        },
        {
         "name": "weight",
         "rawType": "float64",
         "type": "float"
        },
        {
         "name": "years_of_experience",
         "rawType": "float64",
         "type": "float"
        },
        {
         "name": "birth_date",
         "rawType": "object",
         "type": "string"
        },
        {
         "name": "team_seq",
         "rawType": "float64",
         "type": "float"
        },
        {
         "name": "suffix",
         "rawType": "object",
         "type": "unknown"
        },
        {
         "name": "season_x",
         "rawType": "float64",
         "type": "float"
        },
        {
         "name": "position_y",
         "rawType": "object",
         "type": "string"
        },
        {
         "name": "position_group_y",
         "rawType": "object",
         "type": "string"
        },
        {
         "name": "games",
         "rawType": "float64",
         "type": "float"
        },
        {
         "name": "completions",
         "rawType": "float64",
         "type": "float"
        },
        {
         "name": "attempts",
         "rawType": "float64",
         "type": "float"
        },
        {
         "name": "passing_yards",
         "rawType": "float64",
         "type": "float"
        },
        {
         "name": "passing_tds",
         "rawType": "float64",
         "type": "float"
        },
        {
         "name": "interceptions",
         "rawType": "float64",
         "type": "float"
        },
        {
         "name": "sacks",
         "rawType": "float64",
         "type": "float"
        },
        {
         "name": "sack_yards",
         "rawType": "float64",
         "type": "float"
        },
        {
         "name": "sack_fumbles",
         "rawType": "float64",
         "type": "float"
        },
        {
         "name": "sack_fumbles_lost",
         "rawType": "float64",
         "type": "float"
        },
        {
         "name": "passing_air_yards",
         "rawType": "float64",
         "type": "float"
        },
        {
         "name": "passing_yards_after_catch",
         "rawType": "float64",
         "type": "float"
        },
        {
         "name": "passing_first_downs",
         "rawType": "float64",
         "type": "float"
        },
        {
         "name": "passing_epa",
         "rawType": "float64",
         "type": "float"
        },
        {
         "name": "passing_2pt_conversions",
         "rawType": "float64",
         "type": "float"
        },
        {
         "name": "pacr",
         "rawType": "float64",
         "type": "float"
        },
        {
         "name": "dakota",
         "rawType": "float64",
         "type": "float"
        },
        {
         "name": "carries",
         "rawType": "float64",
         "type": "float"
        },
        {
         "name": "rushing_yards",
         "rawType": "float64",
         "type": "float"
        },
        {
         "name": "rushing_tds",
         "rawType": "float64",
         "type": "float"
        },
        {
         "name": "rushing_fumbles",
         "rawType": "float64",
         "type": "float"
        },
        {
         "name": "rushing_fumbles_lost",
         "rawType": "float64",
         "type": "float"
        },
        {
         "name": "rushing_first_downs",
         "rawType": "float64",
         "type": "float"
        },
        {
         "name": "rushing_epa",
         "rawType": "float64",
         "type": "float"
        },
        {
         "name": "rushing_2pt_conversions",
         "rawType": "float64",
         "type": "float"
        },
        {
         "name": "receptions",
         "rawType": "float64",
         "type": "float"
        },
        {
         "name": "targets",
         "rawType": "float64",
         "type": "float"
        },
        {
         "name": "receiving_yards",
         "rawType": "float64",
         "type": "float"
        },
        {
         "name": "receiving_tds",
         "rawType": "float64",
         "type": "float"
        },
        {
         "name": "receiving_fumbles",
         "rawType": "float64",
         "type": "float"
        },
        {
         "name": "receiving_fumbles_lost",
         "rawType": "float64",
         "type": "float"
        },
        {
         "name": "receiving_air_yards",
         "rawType": "float64",
         "type": "float"
        },
        {
         "name": "receiving_yards_after_catch",
         "rawType": "float64",
         "type": "float"
        },
        {
         "name": "receiving_first_downs",
         "rawType": "float64",
         "type": "float"
        },
        {
         "name": "receiving_epa",
         "rawType": "float64",
         "type": "float"
        },
        {
         "name": "receiving_2pt_conversions",
         "rawType": "float64",
         "type": "float"
        },
        {
         "name": "racr",
         "rawType": "float64",
         "type": "float"
        },
        {
         "name": "target_share",
         "rawType": "float64",
         "type": "float"
        },
        {
         "name": "air_yards_share",
         "rawType": "float64",
         "type": "float"
        },
        {
         "name": "wopr",
         "rawType": "float64",
         "type": "float"
        },
        {
         "name": "special_teams_tds",
         "rawType": "float64",
         "type": "float"
        },
        {
         "name": "fantasy_points",
         "rawType": "float64",
         "type": "float"
        },
        {
         "name": "fantasy_points_ppr",
         "rawType": "float64",
         "type": "float"
        },
        {
         "name": "season_y",
         "rawType": "float64",
         "type": "float"
        },
        {
         "name": "draft_year",
         "rawType": "float64",
         "type": "float"
        },
        {
         "name": "draft_team",
         "rawType": "object",
         "type": "unknown"
        },
        {
         "name": "draft_round",
         "rawType": "float64",
         "type": "float"
        },
        {
         "name": "draft_ovr",
         "rawType": "float64",
         "type": "float"
        },
        {
         "name": "pfr_id",
         "rawType": "object",
         "type": "string"
        },
        {
         "name": "cfb_id",
         "rawType": "object",
         "type": "unknown"
        },
        {
         "name": "pos",
         "rawType": "object",
         "type": "string"
        },
        {
         "name": "school",
         "rawType": "object",
         "type": "string"
        },
        {
         "name": "ht",
         "rawType": "object",
         "type": "string"
        },
        {
         "name": "wt",
         "rawType": "float64",
         "type": "float"
        },
        {
         "name": "forty",
         "rawType": "float64",
         "type": "float"
        },
        {
         "name": "bench",
         "rawType": "float64",
         "type": "float"
        },
        {
         "name": "vertical",
         "rawType": "float64",
         "type": "float"
        },
        {
         "name": "broad_jump",
         "rawType": "float64",
         "type": "float"
        },
        {
         "name": "cone",
         "rawType": "float64",
         "type": "float"
        },
        {
         "name": "shuttle",
         "rawType": "float64",
         "type": "float"
        }
       ],
       "ref": "27f84fdf-55c5-4f4f-af20-8e110a59f2ea",
       "rows": [
        [
         "0",
         "Mid-American Conference",
         "Massachusetts",
         "Andy Isabella",
         "ARI",
         "62.0",
         "2.0",
         "2019.0",
         "Andrew",
         "Andy",
         "00-0035527",
         "87.0",
         "Isabella",
         "WR",
         "WR",
         "2019.0",
         "A.Isabella",
         "CUT",
         "P07",
         "PS; Vet",
         "PIT",
         "69.0",
         "190.0",
         "5.0",
         "1996-11-18",
         "1.0",
         null,
         "2019.0",
         "WR",
         "WR",
         "9.0",
         "0.0",
         "0.0",
         "0.0",
         "0.0",
         "0.0",
         "0.0",
         "0.0",
         "0.0",
         "0.0",
         "0.0",
         "0.0",
         "0.0",
         null,
         "0.0",
         null,
         null,
         "4.0",
         "15.0",
         "0.0",
         "0.0",
         "0.0",
         "0.0",
         "-1.10129587596748",
         "0.0",
         "9.0",
         "13.0",
         "189.0",
         "1.0",
         "0.0",
         "0.0",
         "82.0",
         "140.0",
         "4.0",
         "11.8239797452629",
         "0.0",
         "2.30487804878049",
         "0.0646766169154229",
         "0.0622154779969651",
         "0.14056575997101",
         "0.0",
         "26.4",
         "35.4",
         "2019.0",
         "2019.0",
         "Arizona Cardinals",
         "2.0",
         "62.0",
         "IsabAn00",
         "andy-isabella-1",
         "WR",
         "Massachusetts",
         "5-9",
         "188.0",
         "4.31",
         "15.0",
         "36.5",
         "121.0",
         "6.95",
         "4.15"
        ],
        [
         "1",
         "Mid-American Conference",
         "Massachusetts",
         "Andy Isabella",
         "ARI",
         "62.0",
         "2.0",
         "2019.0",
         "Andrew",
         "Andy",
         "00-0035527",
         "87.0",
         "Isabella",
         "WR",
         "WR",
         "2019.0",
         "A.Isabella",
         "CUT",
         "P07",
         "PS; Vet",
         "PIT",
         "69.0",
         "190.0",
         "5.0",
         "1996-11-18",
         "1.0",
         null,
         "2019.0",
         "WR",
         "WR",
         "9.0",
         "0.0",
         "0.0",
         "0.0",
         "0.0",
         "0.0",
         "0.0",
         "0.0",
         "0.0",
         "0.0",
         "0.0",
         "0.0",
         "0.0",
         null,
         "0.0",
         null,
         null,
         "4.0",
         "15.0",
         "0.0",
         "0.0",
         "0.0",
         "0.0",
         "-1.10129587596748",
         "0.0",
         "9.0",
         "13.0",
         "189.0",
         "1.0",
         "0.0",
         "0.0",
         "82.0",
         "140.0",
         "4.0",
         "11.8239797452629",
         "0.0",
         "2.30487804878049",
         "0.0646766169154229",
         "0.0622154779969651",
         "0.14056575997101",
         "0.0",
         "26.4",
         "35.4",
         "2019.0",
         "2019.0",
         "Arizona Cardinals",
         "2.0",
         "62.0",
         "IsabAn00",
         "andy-isabella-1",
         "WR",
         "Massachusetts",
         "5-9",
         "188.0",
         "4.31",
         "15.0",
         "36.5",
         "121.0",
         "6.95",
         "4.15"
        ],
        [
         "2",
         "Great Lakes Intercollegiate Athletic Conference",
         "Malone",
         "Ashton Dulin",
         null,
         null,
         null,
         "2019.0",
         "Ashton",
         "Ashton",
         "00-0035021",
         "16.0",
         "Dulin",
         "WR",
         "WR",
         "2019.0",
         "A.Dulin",
         "ACT",
         "A01",
         "Active",
         "IND",
         "73.0",
         "215.0",
         "6.0",
         "1997-05-15",
         "1.0",
         null,
         "2019.0",
         "WR",
         "WR",
         "2.0",
         "0.0",
         "0.0",
         "0.0",
         "0.0",
         "0.0",
         "0.0",
         "0.0",
         "0.0",
         "0.0",
         "0.0",
         "0.0",
         "0.0",
         null,
         "0.0",
         null,
         null,
         "0.0",
         "0.0",
         "0.0",
         "0.0",
         "0.0",
         "0.0",
         null,
         "0.0",
         "2.0",
         "2.0",
         "17.0",
         "0.0",
         "0.0",
         "0.0",
         "-6.0",
         "23.0",
         "0.0",
         "-0.421566183678806",
         "0.0",
         "0.0",
         "0.0285714285714286",
         "-0.0094339622641509",
         "0.0362533692722372",
         "0.0",
         "1.7",
         "3.7",
         "2019.0",
         null,
         null,
         null,
         null,
         "DuliAs00",
         null,
         "WR",
         "Malone University (Ohio)",
         "6-1",
         "215.0",
         "4.43",
         "13.0",
         "38.0",
         "121.0",
         "7.0",
         "4.22"
        ],
        [
         "3",
         "Great Lakes Intercollegiate Athletic Conference",
         "Malone",
         "Ashton Dulin",
         null,
         null,
         null,
         "2019.0",
         "Ashton",
         "Ashton",
         "00-0035021",
         "16.0",
         "Dulin",
         "WR",
         "WR",
         "2019.0",
         "A.Dulin",
         "ACT",
         "A01",
         "Active",
         "IND",
         "73.0",
         "215.0",
         "6.0",
         "1997-05-15",
         "1.0",
         null,
         "2019.0",
         "WR",
         "WR",
         "2.0",
         "0.0",
         "0.0",
         "0.0",
         "0.0",
         "0.0",
         "0.0",
         "0.0",
         "0.0",
         "0.0",
         "0.0",
         "0.0",
         "0.0",
         null,
         "0.0",
         null,
         null,
         "0.0",
         "0.0",
         "0.0",
         "0.0",
         "0.0",
         "0.0",
         null,
         "0.0",
         "2.0",
         "2.0",
         "17.0",
         "0.0",
         "0.0",
         "0.0",
         "-6.0",
         "23.0",
         "0.0",
         "-0.421566183678806",
         "0.0",
         "0.0",
         "0.0285714285714286",
         "-0.0094339622641509",
         "0.0362533692722372",
         "0.0",
         "1.7",
         "3.7",
         "2019.0",
         null,
         null,
         null,
         null,
         "DuliAs00",
         null,
         "WR",
         "Malone University (Ohio)",
         "6-1",
         "215.0",
         "4.43",
         "13.0",
         "38.0",
         "121.0",
         "7.0",
         "4.22"
        ],
        [
         "4",
         "Southeastern Conference",
         "Auburn",
         "Darius Slayton",
         "NYG",
         "171.0",
         "5.0",
         "2019.0",
         "Darius",
         "Darius",
         "00-0035535",
         "18.0",
         "Slayton",
         "WR",
         "WR",
         "2019.0",
         "D.Slayton",
         "ACT",
         "A01",
         "Active",
         "NYG",
         "73.0",
         "190.0",
         "6.0",
         "1997-01-12",
         "1.0",
         null,
         "2019.0",
         "WR",
         "WR",
         "14.0",
         "0.0",
         "0.0",
         "0.0",
         "0.0",
         "0.0",
         "0.0",
         "0.0",
         "0.0",
         "0.0",
         "0.0",
         "0.0",
         "0.0",
         null,
         "0.0",
         null,
         null,
         "0.0",
         "0.0",
         "0.0",
         "0.0",
         "0.0",
         "0.0",
         null,
         "0.0",
         "48.0",
         "84.0",
         "740.0",
         "8.0",
         "0.0",
         "0.0",
         "1178.0",
         "192.0",
         "32.0",
         "33.9302124712878",
         "0.0",
         "0.628183361629881",
         "0.168",
         "0.288089997554414",
         "0.45366299828809",
         "0.0",
         "122.0",
         "170.0",
         "2019.0",
         "2019.0",
         "New York Giants",
         "5.0",
         "171.0",
         "SlayDa01",
         "darius-slayton-1",
         "WR",
         "Auburn",
         "6-1",
         "190.0",
         "4.39",
         "11.0",
         "40.5",
         "135.0",
         "7.0",
         "4.15"
        ]
       ],
       "shape": {
        "columns": 89,
        "rows": 5
       }
      },
      "text/html": [
       "<div>\n",
       "<style scoped>\n",
       "    .dataframe tbody tr th:only-of-type {\n",
       "        vertical-align: middle;\n",
       "    }\n",
       "\n",
       "    .dataframe tbody tr th {\n",
       "        vertical-align: top;\n",
       "    }\n",
       "\n",
       "    .dataframe thead th {\n",
       "        text-align: right;\n",
       "    }\n",
       "</style>\n",
       "<table border=\"1\" class=\"dataframe\">\n",
       "  <thead>\n",
       "    <tr style=\"text-align: right;\">\n",
       "      <th></th>\n",
       "      <th>college_conference</th>\n",
       "      <th>college_name</th>\n",
       "      <th>player_name</th>\n",
       "      <th>draft_club</th>\n",
       "      <th>draft_number</th>\n",
       "      <th>draftround</th>\n",
       "      <th>entry_year</th>\n",
       "      <th>first_name</th>\n",
       "      <th>football_name</th>\n",
       "      <th>gsis_id</th>\n",
       "      <th>...</th>\n",
       "      <th>pos</th>\n",
       "      <th>school</th>\n",
       "      <th>ht</th>\n",
       "      <th>wt</th>\n",
       "      <th>forty</th>\n",
       "      <th>bench</th>\n",
       "      <th>vertical</th>\n",
       "      <th>broad_jump</th>\n",
       "      <th>cone</th>\n",
       "      <th>shuttle</th>\n",
       "    </tr>\n",
       "  </thead>\n",
       "  <tbody>\n",
       "    <tr>\n",
       "      <th>0</th>\n",
       "      <td>Mid-American Conference</td>\n",
       "      <td>Massachusetts</td>\n",
       "      <td>Andy Isabella</td>\n",
       "      <td>ARI</td>\n",
       "      <td>62.0</td>\n",
       "      <td>2.0</td>\n",
       "      <td>2019.0</td>\n",
       "      <td>Andrew</td>\n",
       "      <td>Andy</td>\n",
       "      <td>00-0035527</td>\n",
       "      <td>...</td>\n",
       "      <td>WR</td>\n",
       "      <td>Massachusetts</td>\n",
       "      <td>5-9</td>\n",
       "      <td>188.0</td>\n",
       "      <td>4.31</td>\n",
       "      <td>15.0</td>\n",
       "      <td>36.5</td>\n",
       "      <td>121.0</td>\n",
       "      <td>6.95</td>\n",
       "      <td>4.15</td>\n",
       "    </tr>\n",
       "    <tr>\n",
       "      <th>1</th>\n",
       "      <td>Mid-American Conference</td>\n",
       "      <td>Massachusetts</td>\n",
       "      <td>Andy Isabella</td>\n",
       "      <td>ARI</td>\n",
       "      <td>62.0</td>\n",
       "      <td>2.0</td>\n",
       "      <td>2019.0</td>\n",
       "      <td>Andrew</td>\n",
       "      <td>Andy</td>\n",
       "      <td>00-0035527</td>\n",
       "      <td>...</td>\n",
       "      <td>WR</td>\n",
       "      <td>Massachusetts</td>\n",
       "      <td>5-9</td>\n",
       "      <td>188.0</td>\n",
       "      <td>4.31</td>\n",
       "      <td>15.0</td>\n",
       "      <td>36.5</td>\n",
       "      <td>121.0</td>\n",
       "      <td>6.95</td>\n",
       "      <td>4.15</td>\n",
       "    </tr>\n",
       "    <tr>\n",
       "      <th>2</th>\n",
       "      <td>Great Lakes Intercollegiate Athletic Conference</td>\n",
       "      <td>Malone</td>\n",
       "      <td>Ashton Dulin</td>\n",
       "      <td>NaN</td>\n",
       "      <td>NaN</td>\n",
       "      <td>NaN</td>\n",
       "      <td>2019.0</td>\n",
       "      <td>Ashton</td>\n",
       "      <td>Ashton</td>\n",
       "      <td>00-0035021</td>\n",
       "      <td>...</td>\n",
       "      <td>WR</td>\n",
       "      <td>Malone University (Ohio)</td>\n",
       "      <td>6-1</td>\n",
       "      <td>215.0</td>\n",
       "      <td>4.43</td>\n",
       "      <td>13.0</td>\n",
       "      <td>38.0</td>\n",
       "      <td>121.0</td>\n",
       "      <td>7.00</td>\n",
       "      <td>4.22</td>\n",
       "    </tr>\n",
       "    <tr>\n",
       "      <th>3</th>\n",
       "      <td>Great Lakes Intercollegiate Athletic Conference</td>\n",
       "      <td>Malone</td>\n",
       "      <td>Ashton Dulin</td>\n",
       "      <td>NaN</td>\n",
       "      <td>NaN</td>\n",
       "      <td>NaN</td>\n",
       "      <td>2019.0</td>\n",
       "      <td>Ashton</td>\n",
       "      <td>Ashton</td>\n",
       "      <td>00-0035021</td>\n",
       "      <td>...</td>\n",
       "      <td>WR</td>\n",
       "      <td>Malone University (Ohio)</td>\n",
       "      <td>6-1</td>\n",
       "      <td>215.0</td>\n",
       "      <td>4.43</td>\n",
       "      <td>13.0</td>\n",
       "      <td>38.0</td>\n",
       "      <td>121.0</td>\n",
       "      <td>7.00</td>\n",
       "      <td>4.22</td>\n",
       "    </tr>\n",
       "    <tr>\n",
       "      <th>4</th>\n",
       "      <td>Southeastern Conference</td>\n",
       "      <td>Auburn</td>\n",
       "      <td>Darius Slayton</td>\n",
       "      <td>NYG</td>\n",
       "      <td>171.0</td>\n",
       "      <td>5.0</td>\n",
       "      <td>2019.0</td>\n",
       "      <td>Darius</td>\n",
       "      <td>Darius</td>\n",
       "      <td>00-0035535</td>\n",
       "      <td>...</td>\n",
       "      <td>WR</td>\n",
       "      <td>Auburn</td>\n",
       "      <td>6-1</td>\n",
       "      <td>190.0</td>\n",
       "      <td>4.39</td>\n",
       "      <td>11.0</td>\n",
       "      <td>40.5</td>\n",
       "      <td>135.0</td>\n",
       "      <td>7.00</td>\n",
       "      <td>4.15</td>\n",
       "    </tr>\n",
       "  </tbody>\n",
       "</table>\n",
       "<p>5 rows × 89 columns</p>\n",
       "</div>"
      ],
      "text/plain": [
       "                                college_conference   college_name  \\\n",
       "0                          Mid-American Conference  Massachusetts   \n",
       "1                          Mid-American Conference  Massachusetts   \n",
       "2  Great Lakes Intercollegiate Athletic Conference         Malone   \n",
       "3  Great Lakes Intercollegiate Athletic Conference         Malone   \n",
       "4                          Southeastern Conference         Auburn   \n",
       "\n",
       "      player_name draft_club  draft_number  draftround  entry_year first_name  \\\n",
       "0   Andy Isabella        ARI          62.0         2.0      2019.0     Andrew   \n",
       "1   Andy Isabella        ARI          62.0         2.0      2019.0     Andrew   \n",
       "2    Ashton Dulin        NaN           NaN         NaN      2019.0     Ashton   \n",
       "3    Ashton Dulin        NaN           NaN         NaN      2019.0     Ashton   \n",
       "4  Darius Slayton        NYG         171.0         5.0      2019.0     Darius   \n",
       "\n",
       "  football_name     gsis_id  ...  pos                    school   ht     wt  \\\n",
       "0          Andy  00-0035527  ...   WR             Massachusetts  5-9  188.0   \n",
       "1          Andy  00-0035527  ...   WR             Massachusetts  5-9  188.0   \n",
       "2        Ashton  00-0035021  ...   WR  Malone University (Ohio)  6-1  215.0   \n",
       "3        Ashton  00-0035021  ...   WR  Malone University (Ohio)  6-1  215.0   \n",
       "4        Darius  00-0035535  ...   WR                    Auburn  6-1  190.0   \n",
       "\n",
       "   forty bench vertical broad_jump  cone shuttle  \n",
       "0   4.31  15.0     36.5      121.0  6.95    4.15  \n",
       "1   4.31  15.0     36.5      121.0  6.95    4.15  \n",
       "2   4.43  13.0     38.0      121.0  7.00    4.22  \n",
       "3   4.43  13.0     38.0      121.0  7.00    4.22  \n",
       "4   4.39  11.0     40.5      135.0  7.00    4.15  \n",
       "\n",
       "[5 rows x 89 columns]"
      ]
     },
     "execution_count": 6,
     "metadata": {},
     "output_type": "execute_result"
    }
   ],
   "source": [
    "pd.options.mode.chained_assignment = None  \n",
    "\n",
    "\n",
    "rookieWrs2019 = dataFrameCreation(2019, \"WR\")\n",
    "rookieWrs2020 = dataFrameCreation(2020, \"WR\")\n",
    "rookieWrs2021 = dataFrameCreation(2021, \"WR\")\n",
    "rookieWrs2022 = dataFrameCreation(2022, \"WR\")\n",
    "rookieWrs2023 = dataFrameCreation(2023, \"WR\")\n",
    "rookieWrs2024 = dataFrameCreation(2024, \"WR\")\n",
    "\n",
    "\n",
    "allWrs = pd.concat(\n",
    "    [rookieWrs2019, rookieWrs2020, rookieWrs2021, rookieWrs2022, rookieWrs2023, rookieWrs2024],\n",
    "    ignore_index=True\n",
    ")\n",
    "\n",
    "allWrs.head()\n"
   ]
  },
  {
   "cell_type": "code",
   "execution_count": 7,
   "id": "ac9c654e",
   "metadata": {},
   "outputs": [
    {
     "data": {
      "application/vnd.microsoft.datawrangler.viewer.v0+json": {
       "columns": [
        {
         "name": "index",
         "rawType": "object",
         "type": "string"
        },
        {
         "name": "0",
         "rawType": "int64",
         "type": "integer"
        }
       ],
       "ref": "f21ac681-bc07-4302-aad0-b326b9d7260c",
       "rows": [
        [
         "college_conference",
         "0"
        ],
        [
         "college_name",
         "0"
        ],
        [
         "player_name",
         "0"
        ],
        [
         "draft_club",
         "8"
        ],
        [
         "draft_number",
         "8"
        ],
        [
         "draftround",
         "8"
        ],
        [
         "entry_year",
         "0"
        ],
        [
         "first_name",
         "0"
        ],
        [
         "football_name",
         "0"
        ],
        [
         "gsis_id",
         "0"
        ],
        [
         "jersey_number",
         "0"
        ],
        [
         "last_name",
         "0"
        ],
        [
         "position_x",
         "0"
        ],
        [
         "position_group_x",
         "0"
        ],
        [
         "rookie_year",
         "0"
        ],
        [
         "short_name",
         "0"
        ],
        [
         "status",
         "0"
        ],
        [
         "status_description_abbr",
         "0"
        ],
        [
         "status_short_description",
         "0"
        ],
        [
         "team_abbr",
         "0"
        ],
        [
         "height",
         "0"
        ],
        [
         "weight",
         "0"
        ],
        [
         "years_of_experience",
         "0"
        ],
        [
         "birth_date",
         "0"
        ],
        [
         "team_seq",
         "84"
        ],
        [
         "suffix",
         "98"
        ],
        [
         "season_x",
         "0"
        ],
        [
         "position_y",
         "0"
        ],
        [
         "position_group_y",
         "0"
        ],
        [
         "games",
         "0"
        ],
        [
         "completions",
         "0"
        ],
        [
         "attempts",
         "0"
        ],
        [
         "passing_yards",
         "0"
        ],
        [
         "passing_tds",
         "0"
        ],
        [
         "interceptions",
         "0"
        ],
        [
         "sacks",
         "0"
        ],
        [
         "sack_yards",
         "0"
        ],
        [
         "sack_fumbles",
         "0"
        ],
        [
         "sack_fumbles_lost",
         "0"
        ],
        [
         "passing_air_yards",
         "0"
        ],
        [
         "passing_yards_after_catch",
         "0"
        ],
        [
         "passing_first_downs",
         "0"
        ],
        [
         "passing_epa",
         "98"
        ],
        [
         "passing_2pt_conversions",
         "0"
        ],
        [
         "pacr",
         "98"
        ],
        [
         "dakota",
         "102"
        ],
        [
         "carries",
         "0"
        ],
        [
         "rushing_yards",
         "0"
        ],
        [
         "rushing_tds",
         "0"
        ],
        [
         "rushing_fumbles",
         "0"
        ]
       ],
       "shape": {
        "columns": 1,
        "rows": 89
       }
      },
      "text/plain": [
       "college_conference     0\n",
       "college_name           0\n",
       "player_name            0\n",
       "draft_club             8\n",
       "draft_number           8\n",
       "                      ..\n",
       "bench                 56\n",
       "vertical               1\n",
       "broad_jump             6\n",
       "cone                  17\n",
       "shuttle                0\n",
       "Length: 89, dtype: int64"
      ]
     },
     "execution_count": 7,
     "metadata": {},
     "output_type": "execute_result"
    }
   ],
   "source": [
    "allWrs = allWrs.drop_duplicates(keep=\"first\")\n",
    "allWrs.isnull().sum()"
   ]
  },
  {
   "cell_type": "markdown",
   "id": "a6fe4b61",
   "metadata": {},
   "source": [
    "There are null values in this dataframe, however most of the null values make sense. For example, usually most people do not have a suffix in their name. There are a lot of null values for combine stats, however. "
   ]
  },
  {
   "cell_type": "code",
   "execution_count": 8,
   "id": "11e01d49",
   "metadata": {},
   "outputs": [
    {
     "data": {
      "text/plain": [
       "<Axes: xlabel='fantasy_points_ppr', ylabel='Count'>"
      ]
     },
     "execution_count": 8,
     "metadata": {},
     "output_type": "execute_result"
    },
    {
     "data": {
      "image/png": "[encoded data removed]",
      "text/plain": [
       "<Figure size 640x480 with 1 Axes>"
      ]
     },
     "metadata": {},
     "output_type": "display_data"
    }
   ],
   "source": [
    "\n",
    "fig, axes=plt.subplots()\n",
    "sns.histplot(allWrs[\"fantasy_points_ppr\"], kde=True)"
   ]
  },
  {
   "cell_type": "markdown",
   "id": "25738db6",
   "metadata": {},
   "source": [
    "## Correlation Between Variables"
   ]
  },
  {
   "cell_type": "code",
   "execution_count": 9,
   "id": "ac3cc4d3",
   "metadata": {},
   "outputs": [
    {
     "data": {
      "image/png": "[encoded data removed]",
      "text/plain": [
       "<Figure size 600x400 with 2 Axes>"
      ]
     },
     "metadata": {},
     "output_type": "display_data"
    }
   ],
   "source": [
    "nfl_data[\"home_team_win\"] = nfl_data[\"Home_team\"] == nfl_data[\"Winner\"]\n",
    "nfl_data[\"home_team_win\"] = nfl_data[\"home_team_win\"].astype(int)\n",
    "int_columns = nfl_data.select_dtypes(include=['int64', 'int32', 'int', 'double', 'float'])\n",
    "plt.figure(figsize=(6,4))\n",
    "sns.heatmap(int_columns.corr())\n",
    "plt.show()"
   ]
  },
  {
   "cell_type": "markdown",
   "id": "71c7886a",
   "metadata": {},
   "source": [
    "<span style=\"font-size:14px\"> Looking at the heatmap of the correlation, it demonstrates that the ranking of the teams playing in the game matter a lot in determining who will win the game. Additionally, a game time statistic that is negatively correlated is turnovers."
   ]
  },
  {
   "cell_type": "markdown",
   "id": "b9a3381b",
   "metadata": {},
   "source": [
    "## Does Home Field Advantage Exist?"
   ]
  },
  {
   "cell_type": "markdown",
   "id": "6c2f06de",
   "metadata": {},
   "source": [
    "**I will conduct a 1 Proportion Z-Test to determine whether the chance of the home team winning is greater than 50% or not with a significance level of 0.05**\n",
    "\n",
    "\n",
    "**Ho** = The proportion of home team wins is equal to 50%\n",
    "\n",
    "**Ha** = The proportion of home team wins is greater than 50%"
   ]
  },
  {
   "cell_type": "code",
   "execution_count": 10,
   "id": "25c90fff",
   "metadata": {},
   "outputs": [
    {
     "data": {
      "image/png": "[encoded data removed]",
      "text/plain": [
       "<Figure size 600x400 with 1 Axes>"
      ]
     },
     "metadata": {},
     "output_type": "display_data"
    }
   ],
   "source": [
    "sample_size = 150\n",
    "num_samples = 850\n",
    "\n",
    "sample_proportions = []\n",
    "for i in range(num_samples):\n",
    "    sample = nfl_data.sample(n=sample_size, replace=False)\n",
    "    proportion = (sample[\"Home_team\"] == sample[\"Winner\"]).mean()\n",
    "    sample_proportions.append(proportion)\n",
    "\n",
    "plt.figure(figsize=(6,4))\n",
    "sns.histplot(sample_proportions, bins=35, kde=True)\n",
    "plt.xlabel(\"Sample Proportion\")\n",
    "plt.ylabel(\"Frequency\")\n",
    "plt.show()"
   ]
  },
  {
   "cell_type": "markdown",
   "id": "ff80f487",
   "metadata": {},
   "source": [
    "Since our sample size (150) is big enough for the central limit theorem to apply, we are able to conduct the test"
   ]
  },
  {
   "cell_type": "code",
   "execution_count": 11,
   "id": "181bdede",
   "metadata": {},
   "outputs": [
    {
     "name": "stdout",
     "output_type": "stream",
     "text": [
      "1.1481067942068246 0.1254622398694959\n"
     ]
    }
   ],
   "source": [
    "from statsmodels.stats.proportion import proportions_ztest\n",
    "\n",
    "\n",
    "sample = nfl_data.sample(n=sample_size, replace=False, random_state=42)\n",
    "homeTeamWin = sample[sample[\"Home_team\"] == sample[\"Winner\"]]\n",
    "zStatistic, pValue = proportions_ztest(homeTeamWin.shape[0], sample.shape[0], 0.5, alternative=\"larger\", prop_var=False)\n",
    "\n",
    "print(zStatistic, pValue)"
   ]
  },
  {
   "cell_type": "markdown",
   "id": "b6cd7566",
   "metadata": {},
   "source": [
    "Since the p-value is greater than α (in our example, p = 0.12 > 0.05), we fail to reject the null hypothesis. This means we do not have evidence to conclude that a home field advantage exists.\n",
    "\n",
    "While this test isn't perfect (an injury in one game may affect another game meaning each game isn't independent), it provides an overview of the general trend in home team performance. Despite a potential violation of independence, the 1-proportion z-test offers a useful starting point for assessing whether home field advantage exists in the data. Further analysis will need to be conducted in order to eliminate confounding variables."
   ]
  },
  {
   "cell_type": "markdown",
   "id": "cb055694",
   "metadata": {},
   "source": [
    "## Does Home Field Advantage Affect Turnovers?"
   ]
  },
  {
   "cell_type": "code",
   "execution_count": 12,
   "id": "57faa8e0",
   "metadata": {},
   "outputs": [
    {
     "data": {
      "image/png": "[encoded data removed]",
      "text/plain": [
       "<Figure size 800x300 with 2 Axes>"
      ]
     },
     "metadata": {},
     "output_type": "display_data"
    },
    {
     "name": "stdout",
     "output_type": "stream",
     "text": [
      "Home Team Turnovers Mean: 1.7731843575418995\n",
      "Away Team Turnovers Mean: 1.7776536312849163\n"
     ]
    }
   ],
   "source": [
    "fig, axes = plt.subplots(1, 2, figsize=(8,3))\n",
    "sns.histplot(nfl_data[\"TO\"], ax=axes[0], discrete=True)\n",
    "axes[0].set_title(\"Team Turnovers\")\n",
    "axes[0].set_xlabel(\"Turnovers\")\n",
    "sns.histplot(nfl_data[\"TO.1\"], ax=axes[1], discrete=True)\n",
    "axes[1].set_title(\"Away Team Turnovers\")\n",
    "axes[1].set_xlabel(\"Turnovers\")\n",
    "plt.show()\n",
    "\n",
    "\n",
    "print(f\"Home Team Turnovers Mean: {nfl_data[\"TO\"].mean()}\")\n",
    "print(f\"Away Team Turnovers Mean: {nfl_data[\"TO.1\"].mean()}\")\n",
    "\n"
   ]
  },
  {
   "cell_type": "markdown",
   "id": "eb6caa03",
   "metadata": {},
   "source": [
    "**A Two Sample One Sided T-Test will be used to determine whether there is a significant difference between home team turnovers and away team turnovers**\n",
    "\n",
    "**H₀:** The mean turnovers for home teams is equal to the mean turnovers for away teams (μ₁ = μ₂)\n",
    "\n",
    "**H₁:** The mean turnovers for home teams is less than the mean turnovers for away teams (μ₁ < μ₂)"
   ]
  },
  {
   "cell_type": "code",
   "execution_count": 13,
   "id": "ead676e2",
   "metadata": {},
   "outputs": [
    {
     "name": "stdout",
     "output_type": "stream",
     "text": [
      "1.744\n",
      "1.792\n",
      "T-Statistic: -0.5362257839934658\n",
      "p-Value: 0.29602115758361924\n"
     ]
    }
   ],
   "source": [
    "turnoverSampleHome = nfl_data.sample(250, replace=False, random_state=100)\n",
    "remaining = nfl_data.drop(turnoverSampleHome.index)\n",
    "turnoverSampleAway = remaining.sample(250, replace=False, random_state=50)\n",
    "\n",
    "mean1 = turnoverSampleHome[\"TO\"].mean()\n",
    "mean2 = turnoverSampleAway[\"TO.1\"].mean()\n",
    "print(mean1)\n",
    "print(mean2)\n",
    "tStatistic, pValue = stats.ttest_ind(turnoverSampleHome[\"TO\"], turnoverSampleAway[\"TO.1\"], equal_var=False, alternative=\"less\")\n",
    "\n",
    "print(f\"T-Statistic: {tStatistic}\")\n",
    "print(f\"p-Value: {pValue}\")"
   ]
  },
  {
   "cell_type": "code",
   "execution_count": null,
   "id": "6a2a195e",
   "metadata": {},
   "outputs": [],
   "source": []
  },
  {
   "cell_type": "markdown",
   "id": "625e0cf0",
   "metadata": {},
   "source": [
    "The p-value returned by the t-test is 59%, which is much higher than the significance level of 5%. This means that we do not have sufficient evidence to reject the null hypothesis and say that there is a difference between home team and away team turnovers. While this test is not perfect (1 game may affect another game), it is a starting point to identify trends in what playing in a team's home-field affects."
   ]
  },
  {
   "cell_type": "markdown",
   "id": "03e0c89e",
   "metadata": {},
   "source": [
    "## Does being at home versus away shift the strategy from passing to rushing or vice versa?\n",
    "\n",
    "Two new features will be created, passing yards minus rushing yards for the home team, and passing yards minus rushing yards for the away team. "
   ]
  },
  {
   "cell_type": "code",
   "execution_count": 14,
   "id": "dca7b599",
   "metadata": {},
   "outputs": [
    {
     "data": {
      "text/plain": [
       "Text(0.5, 1.0, 'Away Team Passing - Rushing Yards')"
      ]
     },
     "execution_count": 14,
     "metadata": {},
     "output_type": "execute_result"
    },
    {
     "data": {
      "image/png": "[encoded data removed]",
      "text/plain": [
       "<Figure size 800x300 with 2 Axes>"
      ]
     },
     "metadata": {},
     "output_type": "display_data"
    }
   ],
   "source": [
    "nfl_data[\"passingvrushing\"] = nfl_data[\"PassY\"] - nfl_data[\"RushY\"]\n",
    "nfl_data[\"passingvrushing.1\"] = nfl_data[\"PassY.1\"] - nfl_data[\"RushY.1\"]\n",
    "\n",
    "\n",
    "fig, axes = plt.subplots(1, 2, figsize=(8, 3))\n",
    "sns.histplot(nfl_data[\"passingvrushing\"], ax=axes[0], kde = True)\n",
    "axes[0].set_xlabel(\"Passing - Rushing Yards\")\n",
    "axes[0].set_title(\"Home Team Passing - Rushing Yards\")\n",
    "sns.histplot(nfl_data[\"passingvrushing.1\"], ax=axes[1], kde = True)\n",
    "axes[1].set_xlabel(\"Passing - Rushing Yards\")\n",
    "axes[1].set_title(\"Away Team Passing - Rushing Yards\")\n",
    "\n",
    "\n"
   ]
  },
  {
   "cell_type": "markdown",
   "id": "59db532e",
   "metadata": {},
   "source": [
    "**A Two Sample Two Sided T-Test will be used to determine whether there is a significant difference between the tendency to pass versus rush for home teams and away teams**\n",
    "\n",
    "**Ho:** The mean value of passing yards minus rushing yards for home teams is equal to that for away teams (μ₁ = μ₂)\n",
    "\n",
    "**Ha:** The mean value of passing yards minus rushing yards for home teams is different from that for away teams (μ₁ ≠ μ₂)"
   ]
  },
  {
   "cell_type": "code",
   "execution_count": 15,
   "id": "2465352c",
   "metadata": {},
   "outputs": [
    {
     "name": "stdout",
     "output_type": "stream",
     "text": [
      "T-Statistic: -0.09771053268807309\n",
      "p-Value: 0.922201491958681\n"
     ]
    }
   ],
   "source": [
    "homeTeams = nfl_data.sample(250, random_state=48239482)\n",
    "remaining = nfl_data.drop(homeTeams.index)\n",
    "awayTeams = remaining.sample(250, random_state=4239482)\n",
    "\n",
    "tStatistic, pValue = stats.ttest_ind(homeTeams[\"passingvrushing\"], awayTeams[\"passingvrushing.1\"], equal_var=False)\n",
    "\n",
    "\n",
    "\n",
    "print(f\"T-Statistic: {tStatistic}\")\n",
    "print(f\"p-Value: {pValue}\")"
   ]
  },
  {
   "cell_type": "markdown",
   "id": "aef832bc",
   "metadata": {},
   "source": [
    "The p-value returned by the t-test is 92%, which is much higher than the significance level of 5%. This means that we do not have sufficient evidence to reject the null hypothesis and say that there is a difference between the tendency to pass versus rush for home teams and away teams."
   ]
  },
  {
   "cell_type": "markdown",
   "id": "f54689d9",
   "metadata": {},
   "source": [
    "## Logistic Regression Predicting if the Home Team Won"
   ]
  },
  {
   "cell_type": "code",
   "execution_count": null,
   "id": "fe5cb7d5",
   "metadata": {},
   "outputs": [
    {
     "data": {
      "text/html": [
       "<style>#sk-container-id-2 {\n",
       "  /* Definition of color scheme common for light and dark mode */\n",
       "  --sklearn-color-text: #000;\n",
       "  --sklearn-color-text-muted: #666;\n",
       "  --sklearn-color-line: gray;\n",
       "  /* Definition of color scheme for unfitted estimators */\n",
       "  --sklearn-color-unfitted-level-0: #fff5e6;\n",
       "  --sklearn-color-unfitted-level-1: #f6e4d2;\n",
       "  --sklearn-color-unfitted-level-2: #ffe0b3;\n",
       "  --sklearn-color-unfitted-level-3: chocolate;\n",
       "  /* Definition of color scheme for fitted estimators */\n",
       "  --sklearn-color-fitted-level-0: #f0f8ff;\n",
       "  --sklearn-color-fitted-level-1: #d4ebff;\n",
       "  --sklearn-color-fitted-level-2: #b3dbfd;\n",
       "  --sklearn-color-fitted-level-3: cornflowerblue;\n",
       "\n",
       "  /* Specific color for light theme */\n",
       "  --sklearn-color-text-on-default-background: var(--sg-text-color, var(--theme-code-foreground, var(--jp-content-font-color1, black)));\n",
       "  --sklearn-color-background: var(--sg-background-color, var(--theme-background, var(--jp-layout-color0, white)));\n",
       "  --sklearn-color-border-box: var(--sg-text-color, var(--theme-code-foreground, var(--jp-content-font-color1, black)));\n",
       "  --sklearn-color-icon: #696969;\n",
       "\n",
       "  @media (prefers-color-scheme: dark) {\n",
       "    /* Redefinition of color scheme for dark theme */\n",
       "    --sklearn-color-text-on-default-background: var(--sg-text-color, var(--theme-code-foreground, var(--jp-content-font-color1, white)));\n",
       "    --sklearn-color-background: var(--sg-background-color, var(--theme-background, var(--jp-layout-color0, #111)));\n",
       "    --sklearn-color-border-box: var(--sg-text-color, var(--theme-code-foreground, var(--jp-content-font-color1, white)));\n",
       "    --sklearn-color-icon: #878787;\n",
       "  }\n",
       "}\n",
       "\n",
       "#sk-container-id-2 {\n",
       "  color: var(--sklearn-color-text);\n",
       "}\n",
       "\n",
       "#sk-container-id-2 pre {\n",
       "  padding: 0;\n",
       "}\n",
       "\n",
       "#sk-container-id-2 input.sk-hidden--visually {\n",
       "  border: 0;\n",
       "  clip: rect(1px 1px 1px 1px);\n",
       "  clip: rect(1px, 1px, 1px, 1px);\n",
       "  height: 1px;\n",
       "  margin: -1px;\n",
       "  overflow: hidden;\n",
       "  padding: 0;\n",
       "  position: absolute;\n",
       "  width: 1px;\n",
       "}\n",
       "\n",
       "#sk-container-id-2 div.sk-dashed-wrapped {\n",
       "  border: 1px dashed var(--sklearn-color-line);\n",
       "  margin: 0 0.4em 0.5em 0.4em;\n",
       "  box-sizing: border-box;\n",
       "  padding-bottom: 0.4em;\n",
       "  background-color: var(--sklearn-color-background);\n",
       "}\n",
       "\n",
       "#sk-container-id-2 div.sk-container {\n",
       "  /* jupyter's `normalize.less` sets `[hidden] { display: none; }`\n",
       "     but bootstrap.min.css set `[hidden] { display: none !important; }`\n",
       "     so we also need the `!important` here to be able to override the\n",
       "     default hidden behavior on the sphinx rendered scikit-learn.org.\n",
       "     See: https://github.com/scikit-learn/scikit-learn/issues/21755 */\n",
       "  display: inline-block !important;\n",
       "  position: relative;\n",
       "}\n",
       "\n",
       "#sk-container-id-2 div.sk-text-repr-fallback {\n",
       "  display: none;\n",
       "}\n",
       "\n",
       "div.sk-parallel-item,\n",
       "div.sk-serial,\n",
       "div.sk-item {\n",
       "  /* draw centered vertical line to link estimators */\n",
       "  background-image: linear-gradient(var(--sklearn-color-text-on-default-background), var(--sklearn-color-text-on-default-background));\n",
       "  background-size: 2px 100%;\n",
       "  background-repeat: no-repeat;\n",
       "  background-position: center center;\n",
       "}\n",
       "\n",
       "/* Parallel-specific style estimator block */\n",
       "\n",
       "#sk-container-id-2 div.sk-parallel-item::after {\n",
       "  content: \"\";\n",
       "  width: 100%;\n",
       "  border-bottom: 2px solid var(--sklearn-color-text-on-default-background);\n",
       "  flex-grow: 1;\n",
       "}\n",
       "\n",
       "#sk-container-id-2 div.sk-parallel {\n",
       "  display: flex;\n",
       "  align-items: stretch;\n",
       "  justify-content: center;\n",
       "  background-color: var(--sklearn-color-background);\n",
       "  position: relative;\n",
       "}\n",
       "\n",
       "#sk-container-id-2 div.sk-parallel-item {\n",
       "  display: flex;\n",
       "  flex-direction: column;\n",
       "}\n",
       "\n",
       "#sk-container-id-2 div.sk-parallel-item:first-child::after {\n",
       "  align-self: flex-end;\n",
       "  width: 50%;\n",
       "}\n",
       "\n",
       "#sk-container-id-2 div.sk-parallel-item:last-child::after {\n",
       "  align-self: flex-start;\n",
       "  width: 50%;\n",
       "}\n",
       "\n",
       "#sk-container-id-2 div.sk-parallel-item:only-child::after {\n",
       "  width: 0;\n",
       "}\n",
       "\n",
       "/* Serial-specific style estimator block */\n",
       "\n",
       "#sk-container-id-2 div.sk-serial {\n",
       "  display: flex;\n",
       "  flex-direction: column;\n",
       "  align-items: center;\n",
       "  background-color: var(--sklearn-color-background);\n",
       "  padding-right: 1em;\n",
       "  padding-left: 1em;\n",
       "}\n",
       "\n",
       "\n",
       "/* Toggleable style: style used for estimator/Pipeline/ColumnTransformer box that is\n",
       "clickable and can be expanded/collapsed.\n",
       "- Pipeline and ColumnTransformer use this feature and define the default style\n",
       "- Estimators will overwrite some part of the style using the `sk-estimator` class\n",
       "*/\n",
       "\n",
       "/* Pipeline and ColumnTransformer style (default) */\n",
       "\n",
       "#sk-container-id-2 div.sk-toggleable {\n",
       "  /* Default theme specific background. It is overwritten whether we have a\n",
       "  specific estimator or a Pipeline/ColumnTransformer */\n",
       "  background-color: var(--sklearn-color-background);\n",
       "}\n",
       "\n",
       "/* Toggleable label */\n",
       "#sk-container-id-2 label.sk-toggleable__label {\n",
       "  cursor: pointer;\n",
       "  display: flex;\n",
       "  width: 100%;\n",
       "  margin-bottom: 0;\n",
       "  padding: 0.5em;\n",
       "  box-sizing: border-box;\n",
       "  text-align: center;\n",
       "  align-items: start;\n",
       "  justify-content: space-between;\n",
       "  gap: 0.5em;\n",
       "}\n",
       "\n",
       "#sk-container-id-2 label.sk-toggleable__label .caption {\n",
       "  font-size: 0.6rem;\n",
       "  font-weight: lighter;\n",
       "  color: var(--sklearn-color-text-muted);\n",
       "}\n",
       "\n",
       "#sk-container-id-2 label.sk-toggleable__label-arrow:before {\n",
       "  /* Arrow on the left of the label */\n",
       "  content: \"▸\";\n",
       "  float: left;\n",
       "  margin-right: 0.25em;\n",
       "  color: var(--sklearn-color-icon);\n",
       "}\n",
       "\n",
       "#sk-container-id-2 label.sk-toggleable__label-arrow:hover:before {\n",
       "  color: var(--sklearn-color-text);\n",
       "}\n",
       "\n",
       "/* Toggleable content - dropdown */\n",
       "\n",
       "#sk-container-id-2 div.sk-toggleable__content {\n",
       "  max-height: 0;\n",
       "  max-width: 0;\n",
       "  overflow: hidden;\n",
       "  text-align: left;\n",
       "  /* unfitted */\n",
       "  background-color: var(--sklearn-color-unfitted-level-0);\n",
       "}\n",
       "\n",
       "#sk-container-id-2 div.sk-toggleable__content.fitted {\n",
       "  /* fitted */\n",
       "  background-color: var(--sklearn-color-fitted-level-0);\n",
       "}\n",
       "\n",
       "#sk-container-id-2 div.sk-toggleable__content pre {\n",
       "  margin: 0.2em;\n",
       "  border-radius: 0.25em;\n",
       "  color: var(--sklearn-color-text);\n",
       "  /* unfitted */\n",
       "  background-color: var(--sklearn-color-unfitted-level-0);\n",
       "}\n",
       "\n",
       "#sk-container-id-2 div.sk-toggleable__content.fitted pre {\n",
       "  /* unfitted */\n",
       "  background-color: var(--sklearn-color-fitted-level-0);\n",
       "}\n",
       "\n",
       "#sk-container-id-2 input.sk-toggleable__control:checked~div.sk-toggleable__content {\n",
       "  /* Expand drop-down */\n",
       "  max-height: 200px;\n",
       "  max-width: 100%;\n",
       "  overflow: auto;\n",
       "}\n",
       "\n",
       "#sk-container-id-2 input.sk-toggleable__control:checked~label.sk-toggleable__label-arrow:before {\n",
       "  content: \"▾\";\n",
       "}\n",
       "\n",
       "/* Pipeline/ColumnTransformer-specific style */\n",
       "\n",
       "#sk-container-id-2 div.sk-label input.sk-toggleable__control:checked~label.sk-toggleable__label {\n",
       "  color: var(--sklearn-color-text);\n",
       "  background-color: var(--sklearn-color-unfitted-level-2);\n",
       "}\n",
       "\n",
       "#sk-container-id-2 div.sk-label.fitted input.sk-toggleable__control:checked~label.sk-toggleable__label {\n",
       "  background-color: var(--sklearn-color-fitted-level-2);\n",
       "}\n",
       "\n",
       "/* Estimator-specific style */\n",
       "\n",
       "/* Colorize estimator box */\n",
       "#sk-container-id-2 div.sk-estimator input.sk-toggleable__control:checked~label.sk-toggleable__label {\n",
       "  /* unfitted */\n",
       "  background-color: var(--sklearn-color-unfitted-level-2);\n",
       "}\n",
       "\n",
       "#sk-container-id-2 div.sk-estimator.fitted input.sk-toggleable__control:checked~label.sk-toggleable__label {\n",
       "  /* fitted */\n",
       "  background-color: var(--sklearn-color-fitted-level-2);\n",
       "}\n",
       "\n",
       "#sk-container-id-2 div.sk-label label.sk-toggleable__label,\n",
       "#sk-container-id-2 div.sk-label label {\n",
       "  /* The background is the default theme color */\n",
       "  color: var(--sklearn-color-text-on-default-background);\n",
       "}\n",
       "\n",
       "/* On hover, darken the color of the background */\n",
       "#sk-container-id-2 div.sk-label:hover label.sk-toggleable__label {\n",
       "  color: var(--sklearn-color-text);\n",
       "  background-color: var(--sklearn-color-unfitted-level-2);\n",
       "}\n",
       "\n",
       "/* Label box, darken color on hover, fitted */\n",
       "#sk-container-id-2 div.sk-label.fitted:hover label.sk-toggleable__label.fitted {\n",
       "  color: var(--sklearn-color-text);\n",
       "  background-color: var(--sklearn-color-fitted-level-2);\n",
       "}\n",
       "\n",
       "/* Estimator label */\n",
       "\n",
       "#sk-container-id-2 div.sk-label label {\n",
       "  font-family: monospace;\n",
       "  font-weight: bold;\n",
       "  display: inline-block;\n",
       "  line-height: 1.2em;\n",
       "}\n",
       "\n",
       "#sk-container-id-2 div.sk-label-container {\n",
       "  text-align: center;\n",
       "}\n",
       "\n",
       "/* Estimator-specific */\n",
       "#sk-container-id-2 div.sk-estimator {\n",
       "  font-family: monospace;\n",
       "  border: 1px dotted var(--sklearn-color-border-box);\n",
       "  border-radius: 0.25em;\n",
       "  box-sizing: border-box;\n",
       "  margin-bottom: 0.5em;\n",
       "  /* unfitted */\n",
       "  background-color: var(--sklearn-color-unfitted-level-0);\n",
       "}\n",
       "\n",
       "#sk-container-id-2 div.sk-estimator.fitted {\n",
       "  /* fitted */\n",
       "  background-color: var(--sklearn-color-fitted-level-0);\n",
       "}\n",
       "\n",
       "/* on hover */\n",
       "#sk-container-id-2 div.sk-estimator:hover {\n",
       "  /* unfitted */\n",
       "  background-color: var(--sklearn-color-unfitted-level-2);\n",
       "}\n",
       "\n",
       "#sk-container-id-2 div.sk-estimator.fitted:hover {\n",
       "  /* fitted */\n",
       "  background-color: var(--sklearn-color-fitted-level-2);\n",
       "}\n",
       "\n",
       "/* Specification for estimator info (e.g. \"i\" and \"?\") */\n",
       "\n",
       "/* Common style for \"i\" and \"?\" */\n",
       "\n",
       ".sk-estimator-doc-link,\n",
       "a:link.sk-estimator-doc-link,\n",
       "a:visited.sk-estimator-doc-link {\n",
       "  float: right;\n",
       "  font-size: smaller;\n",
       "  line-height: 1em;\n",
       "  font-family: monospace;\n",
       "  background-color: var(--sklearn-color-background);\n",
       "  border-radius: 1em;\n",
       "  height: 1em;\n",
       "  width: 1em;\n",
       "  text-decoration: none !important;\n",
       "  margin-left: 0.5em;\n",
       "  text-align: center;\n",
       "  /* unfitted */\n",
       "  border: var(--sklearn-color-unfitted-level-1) 1pt solid;\n",
       "  color: var(--sklearn-color-unfitted-level-1);\n",
       "}\n",
       "\n",
       ".sk-estimator-doc-link.fitted,\n",
       "a:link.sk-estimator-doc-link.fitted,\n",
       "a:visited.sk-estimator-doc-link.fitted {\n",
       "  /* fitted */\n",
       "  border: var(--sklearn-color-fitted-level-1) 1pt solid;\n",
       "  color: var(--sklearn-color-fitted-level-1);\n",
       "}\n",
       "\n",
       "/* On hover */\n",
       "div.sk-estimator:hover .sk-estimator-doc-link:hover,\n",
       ".sk-estimator-doc-link:hover,\n",
       "div.sk-label-container:hover .sk-estimator-doc-link:hover,\n",
       ".sk-estimator-doc-link:hover {\n",
       "  /* unfitted */\n",
       "  background-color: var(--sklearn-color-unfitted-level-3);\n",
       "  color: var(--sklearn-color-background);\n",
       "  text-decoration: none;\n",
       "}\n",
       "\n",
       "div.sk-estimator.fitted:hover .sk-estimator-doc-link.fitted:hover,\n",
       ".sk-estimator-doc-link.fitted:hover,\n",
       "div.sk-label-container:hover .sk-estimator-doc-link.fitted:hover,\n",
       ".sk-estimator-doc-link.fitted:hover {\n",
       "  /* fitted */\n",
       "  background-color: var(--sklearn-color-fitted-level-3);\n",
       "  color: var(--sklearn-color-background);\n",
       "  text-decoration: none;\n",
       "}\n",
       "\n",
       "/* Span, style for the box shown on hovering the info icon */\n",
       ".sk-estimator-doc-link span {\n",
       "  display: none;\n",
       "  z-index: 9999;\n",
       "  position: relative;\n",
       "  font-weight: normal;\n",
       "  right: .2ex;\n",
       "  padding: .5ex;\n",
       "  margin: .5ex;\n",
       "  width: min-content;\n",
       "  min-width: 20ex;\n",
       "  max-width: 50ex;\n",
       "  color: var(--sklearn-color-text);\n",
       "  box-shadow: 2pt 2pt 4pt #999;\n",
       "  /* unfitted */\n",
       "  background: var(--sklearn-color-unfitted-level-0);\n",
       "  border: .5pt solid var(--sklearn-color-unfitted-level-3);\n",
       "}\n",
       "\n",
       ".sk-estimator-doc-link.fitted span {\n",
       "  /* fitted */\n",
       "  background: var(--sklearn-color-fitted-level-0);\n",
       "  border: var(--sklearn-color-fitted-level-3);\n",
       "}\n",
       "\n",
       ".sk-estimator-doc-link:hover span {\n",
       "  display: block;\n",
       "}\n",
       "\n",
       "/* \"?\"-specific style due to the `<a>` HTML tag */\n",
       "\n",
       "#sk-container-id-2 a.estimator_doc_link {\n",
       "  float: right;\n",
       "  font-size: 1rem;\n",
       "  line-height: 1em;\n",
       "  font-family: monospace;\n",
       "  background-color: var(--sklearn-color-background);\n",
       "  border-radius: 1rem;\n",
       "  height: 1rem;\n",
       "  width: 1rem;\n",
       "  text-decoration: none;\n",
       "  /* unfitted */\n",
       "  color: var(--sklearn-color-unfitted-level-1);\n",
       "  border: var(--sklearn-color-unfitted-level-1) 1pt solid;\n",
       "}\n",
       "\n",
       "#sk-container-id-2 a.estimator_doc_link.fitted {\n",
       "  /* fitted */\n",
       "  border: var(--sklearn-color-fitted-level-1) 1pt solid;\n",
       "  color: var(--sklearn-color-fitted-level-1);\n",
       "}\n",
       "\n",
       "/* On hover */\n",
       "#sk-container-id-2 a.estimator_doc_link:hover {\n",
       "  /* unfitted */\n",
       "  background-color: var(--sklearn-color-unfitted-level-3);\n",
       "  color: var(--sklearn-color-background);\n",
       "  text-decoration: none;\n",
       "}\n",
       "\n",
       "#sk-container-id-2 a.estimator_doc_link.fitted:hover {\n",
       "  /* fitted */\n",
       "  background-color: var(--sklearn-color-fitted-level-3);\n",
       "}\n",
       "</style><div id=\"sk-container-id-2\" class=\"sk-top-container\"><div class=\"sk-text-repr-fallback\"><pre>LogisticRegression(max_iter=1000)</pre><b>In a Jupyter environment, please rerun this cell to show the HTML representation or trust the notebook. <br />On GitHub, the HTML representation is unable to render, please try loading this page with nbviewer.org.</b></div><div class=\"sk-container\" hidden><div class=\"sk-item\"><div class=\"sk-estimator fitted sk-toggleable\"><input class=\"sk-toggleable__control sk-hidden--visually\" id=\"sk-estimator-id-2\" type=\"checkbox\" checked><label for=\"sk-estimator-id-2\" class=\"sk-toggleable__label fitted sk-toggleable__label-arrow\"><div><div>LogisticRegression</div></div><div><a class=\"sk-estimator-doc-link fitted\" rel=\"noreferrer\" target=\"_blank\" href=\"https://scikit-learn.org/1.6/modules/generated/sklearn.linear_model.LogisticRegression.html\">?<span>Documentation for LogisticRegression</span></a><span class=\"sk-estimator-doc-link fitted\">i<span>Fitted</span></span></div></label><div class=\"sk-toggleable__content fitted\"><pre>LogisticRegression(max_iter=1000)</pre></div> </div></div></div></div>"
      ],
      "text/plain": [
       "LogisticRegression(max_iter=1000)"
      ]
     },
     "execution_count": 28,
     "metadata": {},
     "output_type": "execute_result"
    }
   ],
   "source": [
    "from sklearn.linear_model import LogisticRegression\n",
    "from sklearn.feature_selection import RFECV\n",
    "from sklearn.model_selection import train_test_split\n",
    "import warnings\n",
    "\n",
    "warnings.filterwarnings(\"ignore\", category=RuntimeWarning)\n",
    "\n",
    "predictors = [\"1stD\", \"TotYd\", \"PassY\", \"RushY\", \"TO\", \"TotYd.1\", \"TO.1\", \"Offense\", \"Defense\"]\n",
    "X = nfl_data[predictors]\n",
    "y = nfl_data[\"home_team_win\"]\n",
    "\n",
    "X_train, X_test, y_train, y_test = train_test_split(X, y, test_size=0.3, random_state=1)\n",
    "\n",
    "model = LogisticRegression(max_iter=1000)\n",
    "\n",
    "\n",
    "model.fit(X_train, y_train)"
   ]
  },
  {
   "cell_type": "markdown",
   "id": "1f9a0dc3",
   "metadata": {},
   "source": [
    "## Predicting Using the Test Data and Comparing to Machine Learning Models"
   ]
  },
  {
   "cell_type": "code",
   "execution_count": null,
   "id": "bac13cd8",
   "metadata": {},
   "outputs": [
    {
     "data": {
      "text/plain": [
       "Text(0.5, 1.0, 'XGBoost')"
      ]
     },
     "execution_count": 32,
     "metadata": {},
     "output_type": "execute_result"
    },
    {
     "data": {
      "image/png": "[encoded data removed]",
      "text/plain": [
       "<Figure size 2000x600 with 4 Axes>"
      ]
     },
     "metadata": {},
     "output_type": "display_data"
    }
   ],
   "source": [
    "from sklearn.metrics import ConfusionMatrixDisplay, confusion_matrix\n",
    "from sklearn.ensemble import RandomForestClassifier\n",
    "from sklearn.tree import DecisionTreeClassifier\n",
    "from xgboost import XGBClassifier\n",
    "\n",
    "predLR = model.predict(X_test)\n",
    "cm = confusion_matrix(y_test, predLR)\n",
    "dispLR = ConfusionMatrixDisplay(cm, display_labels=model.classes_)\n",
    "\n",
    "\n",
    "rfc = RandomForestClassifier()\n",
    "rfc.fit(X_train, y_train)\n",
    "predRFC = rfc.predict(X_test)\n",
    "cm = confusion_matrix(y_test, predRFC)\n",
    "dispRFC = ConfusionMatrixDisplay(cm, display_labels=rfc.classes_)\n",
    "\n",
    "\n",
    "dtc = DecisionTreeClassifier()\n",
    "dtc.fit(X_train, y_train)\n",
    "predDTC = dtc.predict(X_test)\n",
    "cm = confusion_matrix(y_test, predDTC)\n",
    "dispDTC = ConfusionMatrixDisplay(cm, display_labels=dtc.classes_)\n",
    "\n",
    "\n",
    "xgb = XGBClassifier()\n",
    "xgb.fit(X_train, y_train)\n",
    "predXGB = xgb.predict(X_test)\n",
    "cm = confusion_matrix(y_test, predXGB)\n",
    "dispXGB = ConfusionMatrixDisplay(cm, display_labels=xgb.classes_)\n",
    "\n",
    "fig, axes = plt.subplots(1, 4, figsize=(20, 6))\n",
    "\n",
    "dispLR.plot(ax=axes[0], colorbar=False)\n",
    "axes[0].set_title(\"Logistic Regression\")\n",
    "dispRFC.plot(ax=axes[1], colorbar=False)\n",
    "axes[1].set_title(\"Random Forest Classifier\")\n",
    "dispDTC.plot(ax=axes[2], colorbar=False)\n",
    "axes[2].set_title(\"Decision Tree Classifier\")\n",
    "dispXGB.plot(ax=axes[3], colorbar=False)\n",
    "axes[3].set_title(\"XGBoost\")"
   ]
  },
  {
   "cell_type": "markdown",
   "id": "823b9212",
   "metadata": {},
   "source": [
    "Analyzing the confusion matrices, Logistic Regession performs the best at determining who won a home game."
   ]
  },
  {
   "cell_type": "markdown",
   "id": "da75ee2d",
   "metadata": {},
   "source": [
    "## Has passing become more prevalent since 1990s?\n",
    "\n",
    "Each dataframe contains player passing data from three different years from the 1990s era and the 2020s era, pulled from pfr.com. "
   ]
  },
  {
   "cell_type": "code",
   "execution_count": 19,
   "id": "a12b3be3",
   "metadata": {},
   "outputs": [
    {
     "data": {
      "text/plain": [
       "Text(0, 0.5, 'Frequency')"
      ]
     },
     "execution_count": 19,
     "metadata": {},
     "output_type": "execute_result"
    },
    {
     "data": {
      "image/png": "[encoded data removed]",
      "text/plain": [
       "<Figure size 800x300 with 2 Axes>"
      ]
     },
     "metadata": {},
     "output_type": "display_data"
    }
   ],
   "source": [
    "fig, axes = plt.subplots(1, 2, figsize=(8, 3))\n",
    "\n",
    "passing1990 = pd.read_csv(\"PlayerStatsPFRData/playerstats1990.csv\")\n",
    "passing1991 = pd.read_csv(\"PlayerStatsPFRData/playerstats1991.csv\")\n",
    "passing1992 = pd.read_csv(\"PlayerStatsPFRData/playerstats1992.csv\")\n",
    "\n",
    "passing1990s = pd.concat([passing1990, passing1991, passing1992], ignore_index=True)\n",
    "\n",
    "\n",
    "passing2022 = pd.read_csv(\"PlayerStatsPFRData/playerstats2022.csv\")\n",
    "passing2023 = pd.read_csv(\"PlayerStatsPFRData/playerstats2023.csv\")\n",
    "passing2024 = pd.read_csv(\"PlayerStatsPFRData/playerstats2024.csv\")\n",
    "\n",
    "passing2020s = pd.concat([passing2022, passing2023, passing2024], ignore_index=True)\n",
    "\n",
    "\n",
    "sns.histplot(passing1990s[passing1990s[\"Att\"] > 60][\"Y/G\"], ax=axes[0], kde=True)\n",
    "sns.histplot(passing2020s[passing2020s[\"Att\"] > 60][\"Y/G\"], ax=axes[1], kde=True)\n",
    "axes[0].set_title(\"Passing Y/G of QBs in 1990\")\n",
    "axes[1].set_title(\"Passing Y/G of QBs in 2022\")\n",
    "axes[0].set_ylabel(\"Frequency\")\n",
    "axes[1].set_ylabel(\"Frequency\")\n"
   ]
  },
  {
   "cell_type": "markdown",
   "id": "96394bf7",
   "metadata": {},
   "source": [
    "**A two sample, one-sided t-test will be conducted using passing yards per game (Y/G) to determine if there is evidence showing that passing has evolved between two different eras.**\n",
    "\n",
    "**Ho:** The mean passing yards per game (Y/G) for QBs in the 1990s is equal to the mean passing yards per game for QBs in the 2020s.  μ₁ = μ₂\n",
    "**Ha:** The mean passing yards per game (Y/G) for QBs in the 1990s is less than the mean passing yards per game for QBs in the 2020s.  μ₁ < μ₂\n"
   ]
  },
  {
   "cell_type": "code",
   "execution_count": 20,
   "id": "de516076",
   "metadata": {},
   "outputs": [
    {
     "name": "stdout",
     "output_type": "stream",
     "text": [
      "156.91000000000003\n",
      "196.60250000000002\n",
      "T-Statistic: -3.252398589060368\n",
      "p-Value: 0.0008557119705283694\n"
     ]
    }
   ],
   "source": [
    "sample1 = passing1990s[passing1990s[\"Att\"] > 50].sample(40, random_state=43819048)\n",
    "sample2 = passing2020s[passing2020s[\"Att\"] > 50].sample(40, random_state=5012309)\n",
    "\n",
    "\n",
    "print(sample1[\"Y/G\"].mean())\n",
    "print(sample2[\"Y/G\"].mean())\n",
    "\n",
    "tStatistic, pValue = stats.ttest_ind(sample1[\"Y/G\"], sample2[\"Y/G\"], equal_var=False, alternative=\"less\")\n",
    "\n",
    "\n",
    "print(f\"T-Statistic: {tStatistic}\")\n",
    "print(f\"p-Value: {pValue}\")"
   ]
  },
  {
   "cell_type": "markdown",
   "id": "6a101184",
   "metadata": {},
   "source": [
    "The p-value returned by the test is 0.08%, which is less than our significance level of 5%, demonstrating that there is evidence to show that passing has become more prevalent in today's era compared to the 1990s. "
   ]
  },
  {
   "cell_type": "markdown",
   "id": "de389179",
   "metadata": {},
   "source": [
    "## Is there a linear correlation between PPR Fantasy Points in a player's rookie year and Combine/Physical Stats?"
   ]
  },
  {
   "cell_type": "code",
   "execution_count": 21,
   "id": "d9b20e88",
   "metadata": {},
   "outputs": [
    {
     "name": "stdout",
     "output_type": "stream",
     "text": [
      "0.08536993086169083\n",
      "-0.2247055548925927\n",
      "0.26304293476002666\n",
      "-0.23467462023850189\n",
      "0.1736412494791466\n"
     ]
    },
    {
     "data": {
      "text/html": [
       "<table class=\"simpletable\">\n",
       "<caption>OLS Regression Results</caption>\n",
       "<tr>\n",
       "  <th>Dep. Variable:</th>    <td>fantasy_points_ppr</td> <th>  R-squared:         </th> <td>   0.203</td>\n",
       "</tr>\n",
       "<tr>\n",
       "  <th>Model:</th>                    <td>OLS</td>        <th>  Adj. R-squared:    </th> <td>   0.148</td>\n",
       "</tr>\n",
       "<tr>\n",
       "  <th>Method:</th>              <td>Least Squares</td>   <th>  F-statistic:       </th> <td>   3.712</td>\n",
       "</tr>\n",
       "<tr>\n",
       "  <th>Date:</th>              <td>Mon, 11 Aug 2025</td>  <th>  Prob (F-statistic):</th>  <td>0.00476</td>\n",
       "</tr>\n",
       "<tr>\n",
       "  <th>Time:</th>                  <td>15:37:41</td>      <th>  Log-Likelihood:    </th> <td> -440.23</td>\n",
       "</tr>\n",
       "<tr>\n",
       "  <th>No. Observations:</th>       <td>    79</td>       <th>  AIC:               </th> <td>   892.5</td>\n",
       "</tr>\n",
       "<tr>\n",
       "  <th>Df Residuals:</th>           <td>    73</td>       <th>  BIC:               </th> <td>   906.7</td>\n",
       "</tr>\n",
       "<tr>\n",
       "  <th>Df Model:</th>               <td>     5</td>       <th>                     </th>     <td> </td>   \n",
       "</tr>\n",
       "<tr>\n",
       "  <th>Covariance Type:</th>       <td>nonrobust</td>     <th>                     </th>     <td> </td>   \n",
       "</tr>\n",
       "</table>\n",
       "<table class=\"simpletable\">\n",
       "<tr>\n",
       "       <td></td>         <th>coef</th>     <th>std err</th>      <th>t</th>      <th>P>|t|</th>  <th>[0.025</th>    <th>0.975]</th>  \n",
       "</tr>\n",
       "<tr>\n",
       "  <th>Intercept</th>  <td>  315.2322</td> <td>  558.581</td> <td>    0.564</td> <td> 0.574</td> <td> -798.019</td> <td> 1428.483</td>\n",
       "</tr>\n",
       "<tr>\n",
       "  <th>shuttle</th>    <td> -161.0525</td> <td>   74.923</td> <td>   -2.150</td> <td> 0.035</td> <td> -310.374</td> <td>  -11.730</td>\n",
       "</tr>\n",
       "<tr>\n",
       "  <th>vertical</th>   <td>    7.3339</td> <td>    4.242</td> <td>    1.729</td> <td> 0.088</td> <td>   -1.121</td> <td>   15.789</td>\n",
       "</tr>\n",
       "<tr>\n",
       "  <th>forty</th>      <td>  -52.1865</td> <td>   90.395</td> <td>   -0.577</td> <td> 0.566</td> <td> -232.344</td> <td>  127.971</td>\n",
       "</tr>\n",
       "<tr>\n",
       "  <th>broad_jump</th> <td>   -0.0693</td> <td>    1.903</td> <td>   -0.036</td> <td> 0.971</td> <td>   -3.861</td> <td>    3.723</td>\n",
       "</tr>\n",
       "<tr>\n",
       "  <th>cone</th>       <td>   57.0224</td> <td>   53.366</td> <td>    1.069</td> <td> 0.289</td> <td>  -49.336</td> <td>  163.381</td>\n",
       "</tr>\n",
       "</table>\n",
       "<table class=\"simpletable\">\n",
       "<tr>\n",
       "  <th>Omnibus:</th>       <td>25.688</td> <th>  Durbin-Watson:     </th> <td>   2.196</td>\n",
       "</tr>\n",
       "<tr>\n",
       "  <th>Prob(Omnibus):</th> <td> 0.000</td> <th>  Jarque-Bera (JB):  </th> <td>  38.871</td>\n",
       "</tr>\n",
       "<tr>\n",
       "  <th>Skew:</th>          <td> 1.356</td> <th>  Prob(JB):          </th> <td>3.63e-09</td>\n",
       "</tr>\n",
       "<tr>\n",
       "  <th>Kurtosis:</th>      <td> 5.112</td> <th>  Cond. No.          </th> <td>9.83e+03</td>\n",
       "</tr>\n",
       "</table><br/><br/>Notes:<br/>[1] Standard Errors assume that the covariance matrix of the errors is correctly specified.<br/>[2] The condition number is large, 9.83e+03. This might indicate that there are<br/>strong multicollinearity or other numerical problems."
      ],
      "text/latex": [
       "\\begin{center}\n",
       "\\begin{tabular}{lclc}\n",
       "\\toprule\n",
       "\\textbf{Dep. Variable:}    & fantasy\\_points\\_ppr & \\textbf{  R-squared:         } &     0.203   \\\\\n",
       "\\textbf{Model:}            &         OLS          & \\textbf{  Adj. R-squared:    } &     0.148   \\\\\n",
       "\\textbf{Method:}           &    Least Squares     & \\textbf{  F-statistic:       } &     3.712   \\\\\n",
       "\\textbf{Date:}             &   Mon, 11 Aug 2025   & \\textbf{  Prob (F-statistic):} &  0.00476    \\\\\n",
       "\\textbf{Time:}             &       15:37:41       & \\textbf{  Log-Likelihood:    } &   -440.23   \\\\\n",
       "\\textbf{No. Observations:} &            79        & \\textbf{  AIC:               } &     892.5   \\\\\n",
       "\\textbf{Df Residuals:}     &            73        & \\textbf{  BIC:               } &     906.7   \\\\\n",
       "\\textbf{Df Model:}         &             5        & \\textbf{                     } &             \\\\\n",
       "\\textbf{Covariance Type:}  &      nonrobust       & \\textbf{                     } &             \\\\\n",
       "\\bottomrule\n",
       "\\end{tabular}\n",
       "\\begin{tabular}{lcccccc}\n",
       "                     & \\textbf{coef} & \\textbf{std err} & \\textbf{t} & \\textbf{P$> |$t$|$} & \\textbf{[0.025} & \\textbf{0.975]}  \\\\\n",
       "\\midrule\n",
       "\\textbf{Intercept}   &     315.2322  &      558.581     &     0.564  &         0.574        &     -798.019    &     1428.483     \\\\\n",
       "\\textbf{shuttle}     &    -161.0525  &       74.923     &    -2.150  &         0.035        &     -310.374    &      -11.730     \\\\\n",
       "\\textbf{vertical}    &       7.3339  &        4.242     &     1.729  &         0.088        &       -1.121    &       15.789     \\\\\n",
       "\\textbf{forty}       &     -52.1865  &       90.395     &    -0.577  &         0.566        &     -232.344    &      127.971     \\\\\n",
       "\\textbf{broad\\_jump} &      -0.0693  &        1.903     &    -0.036  &         0.971        &       -3.861    &        3.723     \\\\\n",
       "\\textbf{cone}        &      57.0224  &       53.366     &     1.069  &         0.289        &      -49.336    &      163.381     \\\\\n",
       "\\bottomrule\n",
       "\\end{tabular}\n",
       "\\begin{tabular}{lclc}\n",
       "\\textbf{Omnibus:}       & 25.688 & \\textbf{  Durbin-Watson:     } &    2.196  \\\\\n",
       "\\textbf{Prob(Omnibus):} &  0.000 & \\textbf{  Jarque-Bera (JB):  } &   38.871  \\\\\n",
       "\\textbf{Skew:}          &  1.356 & \\textbf{  Prob(JB):          } & 3.63e-09  \\\\\n",
       "\\textbf{Kurtosis:}      &  5.112 & \\textbf{  Cond. No.          } & 9.83e+03  \\\\\n",
       "\\bottomrule\n",
       "\\end{tabular}\n",
       "%\\caption{OLS Regression Results}\n",
       "\\end{center}\n",
       "\n",
       "Notes: \\newline\n",
       " [1] Standard Errors assume that the covariance matrix of the errors is correctly specified. \\newline\n",
       " [2] The condition number is large, 9.83e+03. This might indicate that there are \\newline\n",
       " strong multicollinearity or other numerical problems."
      ],
      "text/plain": [
       "<class 'statsmodels.iolib.summary.Summary'>\n",
       "\"\"\"\n",
       "                            OLS Regression Results                            \n",
       "==============================================================================\n",
       "Dep. Variable:     fantasy_points_ppr   R-squared:                       0.203\n",
       "Model:                            OLS   Adj. R-squared:                  0.148\n",
       "Method:                 Least Squares   F-statistic:                     3.712\n",
       "Date:                Mon, 11 Aug 2025   Prob (F-statistic):            0.00476\n",
       "Time:                        15:37:41   Log-Likelihood:                -440.23\n",
       "No. Observations:                  79   AIC:                             892.5\n",
       "Df Residuals:                      73   BIC:                             906.7\n",
       "Df Model:                           5                                         \n",
       "Covariance Type:            nonrobust                                         \n",
       "==============================================================================\n",
       "                 coef    std err          t      P>|t|      [0.025      0.975]\n",
       "------------------------------------------------------------------------------\n",
       "Intercept    315.2322    558.581      0.564      0.574    -798.019    1428.483\n",
       "shuttle     -161.0525     74.923     -2.150      0.035    -310.374     -11.730\n",
       "vertical       7.3339      4.242      1.729      0.088      -1.121      15.789\n",
       "forty        -52.1865     90.395     -0.577      0.566    -232.344     127.971\n",
       "broad_jump    -0.0693      1.903     -0.036      0.971      -3.861       3.723\n",
       "cone          57.0224     53.366      1.069      0.289     -49.336     163.381\n",
       "==============================================================================\n",
       "Omnibus:                       25.688   Durbin-Watson:                   2.196\n",
       "Prob(Omnibus):                  0.000   Jarque-Bera (JB):               38.871\n",
       "Skew:                           1.356   Prob(JB):                     3.63e-09\n",
       "Kurtosis:                       5.112   Cond. No.                     9.83e+03\n",
       "==============================================================================\n",
       "\n",
       "Notes:\n",
       "[1] Standard Errors assume that the covariance matrix of the errors is correctly specified.\n",
       "[2] The condition number is large, 9.83e+03. This might indicate that there are\n",
       "strong multicollinearity or other numerical problems.\n",
       "\"\"\""
      ]
     },
     "execution_count": 21,
     "metadata": {},
     "output_type": "execute_result"
    },
    {
     "data": {
      "image/png": "[encoded data removed]",
      "text/plain": [
       "<Figure size 640x480 with 2 Axes>"
      ]
     },
     "metadata": {},
     "output_type": "display_data"
    },
    {
     "data": {
      "image/png": "[encoded data removed]",
      "text/plain": [
       "<Figure size 1200x300 with 4 Axes>"
      ]
     },
     "metadata": {},
     "output_type": "display_data"
    }
   ],
   "source": [
    "from statsmodels.formula.api import ols\n",
    "\n",
    "pd.options.mode.chained_assignment = None  \n",
    "\n",
    "subset = allWrs[[\"fantasy_points_ppr\", \"shuttle\", \"vertical\",\"forty\", \"broad_jump\", \"cone\"]]\n",
    "sns.heatmap(subset.corr(), annot=True)\n",
    "\n",
    "\n",
    "fig, axes = plt.subplots(1, 4, figsize=(12,3))\n",
    "sns.scatterplot(data=allWrs, x=\"shuttle\", y=\"fantasy_points_ppr\", ax=axes[0])\n",
    "sns.scatterplot(data=allWrs, x=\"vertical\", y=\"fantasy_points_ppr\", ax=axes[1])\n",
    "sns.scatterplot(data=allWrs, x=\"forty\", y=\"fantasy_points_ppr\", ax=axes[2])\n",
    "sns.scatterplot(data=allWrs, x=\"bench\", y=\"fantasy_points_ppr\", ax=axes[3])\n",
    "\n",
    "print(allWrs[\"fantasy_points_ppr\"].corr(allWrs[\"bench\"]))\n",
    "print(allWrs[\"fantasy_points_ppr\"].corr(allWrs[\"forty\"]))\n",
    "print(allWrs[\"fantasy_points_ppr\"].corr(allWrs[\"vertical\"]))\n",
    "print(allWrs[\"fantasy_points_ppr\"].corr(allWrs[\"shuttle\"]))\n",
    "print(allWrs[\"fantasy_points_ppr\"].corr(allWrs[\"broad_jump\"]))\n",
    "\n",
    "OLS = ols(formula=\"fantasy_points_ppr ~ shuttle + vertical + forty + broad_jump + cone\", data=allWrs)\n",
    "model = OLS.fit()\n",
    "model.summary()"
   ]
  }
 ],
 "metadata": {
  "kernelspec": {
   "display_name": "Python 3",
   "language": "python",
   "name": "python3"
  },
  "language_info": {
   "codemirror_mode": {
    "name": "ipython",
    "version": 3
   },
   "file_extension": ".py",
   "mimetype": "text/x-python",
   "name": "python",
   "nbconvert_exporter": "python",
   "pygments_lexer": "ipython3",
   "version": "3.12.9"
  }
 },
 "nbformat": 4,
 "nbformat_minor": 5
}
