{
 "cells": [
  {
   "cell_type": "markdown",
   "id": "ecb1ad9e",
   "metadata": {},
   "source": [
    "# Analysis of the data from NFL Games played in the last decade"
   ]
  },
  {
   "cell_type": "code",
   "execution_count": 54,
   "id": "932227c1",
   "metadata": {},
   "outputs": [],
   "source": [
    "import pandas as pd\n",
    "import numpy as np\n",
    "import statsmodels.api as sm\n",
    "import seaborn as sns\n",
    "import matplotlib.pyplot as plt\n",
    "import scipy.stats"
   ]
  },
  {
   "cell_type": "markdown",
   "id": "b9880eca",
   "metadata": {},
   "source": [
    "## Cleaning/Initial Analaysis"
   ]
  },
  {
   "cell_type": "code",
   "execution_count": 150,
   "id": "14197de4",
   "metadata": {},
   "outputs": [
    {
     "data": {
      "application/vnd.microsoft.datawrangler.viewer.v0+json": {
       "columns": [
        {
         "name": "index",
         "rawType": "int64",
         "type": "integer"
        },
        {
         "name": "Opp",
         "rawType": "object",
         "type": "string"
        },
        {
         "name": "Tm",
         "rawType": "float64",
         "type": "float"
        },
        {
         "name": "Opp.1",
         "rawType": "float64",
         "type": "float"
        },
        {
         "name": "1stD",
         "rawType": "float64",
         "type": "float"
        },
        {
         "name": "TotYd",
         "rawType": "float64",
         "type": "float"
        },
        {
         "name": "PassY",
         "rawType": "float64",
         "type": "float"
        },
        {
         "name": "RushY",
         "rawType": "float64",
         "type": "float"
        },
        {
         "name": "TO",
         "rawType": "float64",
         "type": "float"
        },
        {
         "name": "1stD.1",
         "rawType": "float64",
         "type": "float"
        },
        {
         "name": "TotYd.1",
         "rawType": "float64",
         "type": "float"
        },
        {
         "name": "PassY.1",
         "rawType": "float64",
         "type": "float"
        },
        {
         "name": "RushY.1",
         "rawType": "float64",
         "type": "float"
        },
        {
         "name": "TO.1",
         "rawType": "float64",
         "type": "float"
        },
        {
         "name": "Offense",
         "rawType": "float64",
         "type": "float"
        },
        {
         "name": "Defense",
         "rawType": "float64",
         "type": "float"
        },
        {
         "name": "Sp. Tms",
         "rawType": "float64",
         "type": "float"
        },
        {
         "name": "Home_team",
         "rawType": "object",
         "type": "string"
        },
        {
         "name": "Year",
         "rawType": "int64",
         "type": "integer"
        },
        {
         "name": "Winner",
         "rawType": "object",
         "type": "string"
        }
       ],
       "ref": "8c9ccbc6-51bb-4cd2-a8b3-00b7074f5b5c",
       "rows": [
        [
         "0",
         "Tampa Bay Buccaneers",
         "31.0",
         "17.0",
         "17.0",
         "256.0",
         "158.0",
         "98.0",
         "2.0",
         "21.0",
         "295.0",
         "174.0",
         "121.0",
         "4.0",
         "-7.51",
         "19.12",
         "1.1",
         "San Francisco 49ers",
         "2019",
         "San Francisco 49ers"
        ],
        [
         "1",
         "Cincinnati Bengals",
         "41.0",
         "17.0",
         "27.0",
         "571.0",
         "312.0",
         "259.0",
         "1.0",
         "14.0",
         "316.0",
         "291.0",
         "25.0",
         "1.0",
         "27.34",
         "1.14",
         "-6.64",
         "San Francisco 49ers",
         "2019",
         "San Francisco 49ers"
        ],
        [
         "2",
         "Pittsburgh Steelers",
         "24.0",
         "20.0",
         "26.0",
         "436.0",
         "268.0",
         "168.0",
         "5.0",
         "11.0",
         "239.0",
         "160.0",
         "79.0",
         "2.0",
         "-3.72",
         "10.2",
         "0.12",
         "San Francisco 49ers",
         "2019",
         "San Francisco 49ers"
        ],
        [
         "3",
         "Los Angeles Rams",
         "20.0",
         "7.0",
         "22.0",
         "331.0",
         "232.0",
         "99.0",
         "2.0",
         "10.0",
         "157.0",
         "48.0",
         "109.0",
         "1.0",
         "-3.54",
         "25.23",
         "-5.01",
         "San Francisco 49ers",
         "2019",
         "San Francisco 49ers"
        ],
        [
         "4",
         "Washington Redskins",
         "9.0",
         "0.0",
         "17.0",
         "283.0",
         "146.0",
         "137.0",
         "1.0",
         "10.0",
         "154.0",
         "50.0",
         "104.0",
         "1.0",
         "-1.99",
         "14.12",
         "-0.61",
         "San Francisco 49ers",
         "2019",
         "San Francisco 49ers"
        ]
       ],
       "shape": {
        "columns": 19,
        "rows": 5
       }
      },
      "text/html": [
       "<div>\n",
       "<style scoped>\n",
       "    .dataframe tbody tr th:only-of-type {\n",
       "        vertical-align: middle;\n",
       "    }\n",
       "\n",
       "    .dataframe tbody tr th {\n",
       "        vertical-align: top;\n",
       "    }\n",
       "\n",
       "    .dataframe thead th {\n",
       "        text-align: right;\n",
       "    }\n",
       "</style>\n",
       "<table border=\"1\" class=\"dataframe\">\n",
       "  <thead>\n",
       "    <tr style=\"text-align: right;\">\n",
       "      <th></th>\n",
       "      <th>Opp</th>\n",
       "      <th>Tm</th>\n",
       "      <th>Opp.1</th>\n",
       "      <th>1stD</th>\n",
       "      <th>TotYd</th>\n",
       "      <th>PassY</th>\n",
       "      <th>RushY</th>\n",
       "      <th>TO</th>\n",
       "      <th>1stD.1</th>\n",
       "      <th>TotYd.1</th>\n",
       "      <th>PassY.1</th>\n",
       "      <th>RushY.1</th>\n",
       "      <th>TO.1</th>\n",
       "      <th>Offense</th>\n",
       "      <th>Defense</th>\n",
       "      <th>Sp. Tms</th>\n",
       "      <th>Home_team</th>\n",
       "      <th>Year</th>\n",
       "      <th>Winner</th>\n",
       "    </tr>\n",
       "  </thead>\n",
       "  <tbody>\n",
       "    <tr>\n",
       "      <th>0</th>\n",
       "      <td>Tampa Bay Buccaneers</td>\n",
       "      <td>31.0</td>\n",
       "      <td>17.0</td>\n",
       "      <td>17.0</td>\n",
       "      <td>256.0</td>\n",
       "      <td>158.0</td>\n",
       "      <td>98.0</td>\n",
       "      <td>2.0</td>\n",
       "      <td>21.0</td>\n",
       "      <td>295.0</td>\n",
       "      <td>174.0</td>\n",
       "      <td>121.0</td>\n",
       "      <td>4.0</td>\n",
       "      <td>-7.51</td>\n",
       "      <td>19.12</td>\n",
       "      <td>1.10</td>\n",
       "      <td>San Francisco 49ers</td>\n",
       "      <td>2019</td>\n",
       "      <td>San Francisco 49ers</td>\n",
       "    </tr>\n",
       "    <tr>\n",
       "      <th>1</th>\n",
       "      <td>Cincinnati Bengals</td>\n",
       "      <td>41.0</td>\n",
       "      <td>17.0</td>\n",
       "      <td>27.0</td>\n",
       "      <td>571.0</td>\n",
       "      <td>312.0</td>\n",
       "      <td>259.0</td>\n",
       "      <td>1.0</td>\n",
       "      <td>14.0</td>\n",
       "      <td>316.0</td>\n",
       "      <td>291.0</td>\n",
       "      <td>25.0</td>\n",
       "      <td>1.0</td>\n",
       "      <td>27.34</td>\n",
       "      <td>1.14</td>\n",
       "      <td>-6.64</td>\n",
       "      <td>San Francisco 49ers</td>\n",
       "      <td>2019</td>\n",
       "      <td>San Francisco 49ers</td>\n",
       "    </tr>\n",
       "    <tr>\n",
       "      <th>2</th>\n",
       "      <td>Pittsburgh Steelers</td>\n",
       "      <td>24.0</td>\n",
       "      <td>20.0</td>\n",
       "      <td>26.0</td>\n",
       "      <td>436.0</td>\n",
       "      <td>268.0</td>\n",
       "      <td>168.0</td>\n",
       "      <td>5.0</td>\n",
       "      <td>11.0</td>\n",
       "      <td>239.0</td>\n",
       "      <td>160.0</td>\n",
       "      <td>79.0</td>\n",
       "      <td>2.0</td>\n",
       "      <td>-3.72</td>\n",
       "      <td>10.20</td>\n",
       "      <td>0.12</td>\n",
       "      <td>San Francisco 49ers</td>\n",
       "      <td>2019</td>\n",
       "      <td>San Francisco 49ers</td>\n",
       "    </tr>\n",
       "    <tr>\n",
       "      <th>3</th>\n",
       "      <td>Los Angeles Rams</td>\n",
       "      <td>20.0</td>\n",
       "      <td>7.0</td>\n",
       "      <td>22.0</td>\n",
       "      <td>331.0</td>\n",
       "      <td>232.0</td>\n",
       "      <td>99.0</td>\n",
       "      <td>2.0</td>\n",
       "      <td>10.0</td>\n",
       "      <td>157.0</td>\n",
       "      <td>48.0</td>\n",
       "      <td>109.0</td>\n",
       "      <td>1.0</td>\n",
       "      <td>-3.54</td>\n",
       "      <td>25.23</td>\n",
       "      <td>-5.01</td>\n",
       "      <td>San Francisco 49ers</td>\n",
       "      <td>2019</td>\n",
       "      <td>San Francisco 49ers</td>\n",
       "    </tr>\n",
       "    <tr>\n",
       "      <th>4</th>\n",
       "      <td>Washington Redskins</td>\n",
       "      <td>9.0</td>\n",
       "      <td>0.0</td>\n",
       "      <td>17.0</td>\n",
       "      <td>283.0</td>\n",
       "      <td>146.0</td>\n",
       "      <td>137.0</td>\n",
       "      <td>1.0</td>\n",
       "      <td>10.0</td>\n",
       "      <td>154.0</td>\n",
       "      <td>50.0</td>\n",
       "      <td>104.0</td>\n",
       "      <td>1.0</td>\n",
       "      <td>-1.99</td>\n",
       "      <td>14.12</td>\n",
       "      <td>-0.61</td>\n",
       "      <td>San Francisco 49ers</td>\n",
       "      <td>2019</td>\n",
       "      <td>San Francisco 49ers</td>\n",
       "    </tr>\n",
       "  </tbody>\n",
       "</table>\n",
       "</div>"
      ],
      "text/plain": [
       "                    Opp    Tm  Opp.1  1stD  TotYd  PassY  RushY   TO  1stD.1  \\\n",
       "0  Tampa Bay Buccaneers  31.0   17.0  17.0  256.0  158.0   98.0  2.0    21.0   \n",
       "1    Cincinnati Bengals  41.0   17.0  27.0  571.0  312.0  259.0  1.0    14.0   \n",
       "2   Pittsburgh Steelers  24.0   20.0  26.0  436.0  268.0  168.0  5.0    11.0   \n",
       "3      Los Angeles Rams  20.0    7.0  22.0  331.0  232.0   99.0  2.0    10.0   \n",
       "4   Washington Redskins   9.0    0.0  17.0  283.0  146.0  137.0  1.0    10.0   \n",
       "\n",
       "   TotYd.1  PassY.1  RushY.1  TO.1  Offense  Defense  Sp. Tms  \\\n",
       "0    295.0    174.0    121.0   4.0    -7.51    19.12     1.10   \n",
       "1    316.0    291.0     25.0   1.0    27.34     1.14    -6.64   \n",
       "2    239.0    160.0     79.0   2.0    -3.72    10.20     0.12   \n",
       "3    157.0     48.0    109.0   1.0    -3.54    25.23    -5.01   \n",
       "4    154.0     50.0    104.0   1.0    -1.99    14.12    -0.61   \n",
       "\n",
       "             Home_team  Year               Winner  \n",
       "0  San Francisco 49ers  2019  San Francisco 49ers  \n",
       "1  San Francisco 49ers  2019  San Francisco 49ers  \n",
       "2  San Francisco 49ers  2019  San Francisco 49ers  \n",
       "3  San Francisco 49ers  2019  San Francisco 49ers  \n",
       "4  San Francisco 49ers  2019  San Francisco 49ers  "
      ]
     },
     "execution_count": 150,
     "metadata": {},
     "output_type": "execute_result"
    }
   ],
   "source": [
    "nfl_data = pd.read_csv(\"nflcombine.csv\")\n",
    "nfl_data = nfl_data.drop(columns=['Unnamed: 0'])\n",
    "nfl_data.head()"
   ]
  },
  {
   "cell_type": "code",
   "execution_count": 56,
   "id": "9d6be14d",
   "metadata": {},
   "outputs": [
    {
     "data": {
      "application/vnd.microsoft.datawrangler.viewer.v0+json": {
       "columns": [
        {
         "name": "index",
         "rawType": "object",
         "type": "string"
        },
        {
         "name": "Tm",
         "rawType": "float64",
         "type": "float"
        },
        {
         "name": "Opp.1",
         "rawType": "float64",
         "type": "float"
        },
        {
         "name": "1stD",
         "rawType": "float64",
         "type": "float"
        },
        {
         "name": "TotYd",
         "rawType": "float64",
         "type": "float"
        },
        {
         "name": "PassY",
         "rawType": "float64",
         "type": "float"
        },
        {
         "name": "RushY",
         "rawType": "float64",
         "type": "float"
        },
        {
         "name": "TO",
         "rawType": "float64",
         "type": "float"
        },
        {
         "name": "1stD.1",
         "rawType": "float64",
         "type": "float"
        },
        {
         "name": "TotYd.1",
         "rawType": "float64",
         "type": "float"
        },
        {
         "name": "PassY.1",
         "rawType": "float64",
         "type": "float"
        },
        {
         "name": "RushY.1",
         "rawType": "float64",
         "type": "float"
        },
        {
         "name": "TO.1",
         "rawType": "float64",
         "type": "float"
        },
        {
         "name": "Offense",
         "rawType": "float64",
         "type": "float"
        },
        {
         "name": "Defense",
         "rawType": "float64",
         "type": "float"
        },
        {
         "name": "Sp. Tms",
         "rawType": "float64",
         "type": "float"
        },
        {
         "name": "Year",
         "rawType": "float64",
         "type": "float"
        }
       ],
       "ref": "b9eb088a-1cbb-4490-a242-00fc1cf6a671",
       "rows": [
        [
         "count",
         "895.0",
         "895.0",
         "895.0",
         "895.0",
         "895.0",
         "895.0",
         "895.0",
         "895.0",
         "895.0",
         "895.0",
         "895.0",
         "895.0",
         "895.0",
         "895.0",
         "895.0",
         "895.0"
        ],
        [
         "mean",
         "23.225698324022346",
         "23.027932960893853",
         "20.50167597765363",
         "348.04804469273745",
         "231.83016759776535",
         "116.21787709497207",
         "1.7731843575418995",
         "20.456983240223465",
         "346.21340782122905",
         "230.55418994413407",
         "115.65921787709497",
         "1.7776536312849163",
         "2.345296089385475",
         "-2.1087597765363126",
         "-0.030871508379888238",
         "2020.167597765363"
        ],
        [
         "std",
         "9.85535256620441",
         "9.891712441688636",
         "4.985857794661151",
         "85.87369721032574",
         "79.2503056506492",
         "51.79693306683602",
         "1.0005347700871021",
         "5.036343735964429",
         "86.1114739728868",
         "79.53616318880422",
         "51.47770592636477",
         "1.0071073338566947",
         "11.939508686269452",
         "12.01352782063877",
         "5.01032010125386",
         "0.9801499310020497"
        ],
        [
         "min",
         "0.0",
         "0.0",
         "6.0",
         "105.0",
         "-6.0",
         "3.0",
         "1.0",
         "6.0",
         "105.0",
         "-6.0",
         "3.0",
         "1.0",
         "-35.65",
         "-40.69",
         "-17.39",
         "2019.0"
        ],
        [
         "25%",
         "17.0",
         "17.0",
         "17.0",
         "285.5",
         "175.0",
         "78.0",
         "1.0",
         "17.0",
         "283.0",
         "174.0",
         "78.0",
         "1.0",
         "-4.8",
         "-9.875",
         "-3.41",
         "2019.0"
        ],
        [
         "50%",
         "23.0",
         "23.0",
         "21.0",
         "354.0",
         "229.0",
         "109.0",
         "1.0",
         "21.0",
         "352.0",
         "228.0",
         "108.0",
         "1.0",
         "3.21",
         "-2.83",
         "-0.06",
         "2020.0"
        ],
        [
         "75%",
         "30.0",
         "30.0",
         "24.0",
         "405.5",
         "282.5",
         "145.0",
         "2.0",
         "24.0",
         "403.5",
         "280.5",
         "144.0",
         "2.0",
         "9.93",
         "5.31",
         "3.355",
         "2021.0"
        ],
        [
         "max",
         "56.0",
         "56.0",
         "36.0",
         "592.0",
         "490.0",
         "404.0",
         "7.0",
         "36.0",
         "592.0",
         "490.0",
         "404.0",
         "7.0",
         "40.69",
         "35.65",
         "17.39",
         "2022.0"
        ]
       ],
       "shape": {
        "columns": 16,
        "rows": 8
       }
      },
      "text/html": [
       "<div>\n",
       "<style scoped>\n",
       "    .dataframe tbody tr th:only-of-type {\n",
       "        vertical-align: middle;\n",
       "    }\n",
       "\n",
       "    .dataframe tbody tr th {\n",
       "        vertical-align: top;\n",
       "    }\n",
       "\n",
       "    .dataframe thead th {\n",
       "        text-align: right;\n",
       "    }\n",
       "</style>\n",
       "<table border=\"1\" class=\"dataframe\">\n",
       "  <thead>\n",
       "    <tr style=\"text-align: right;\">\n",
       "      <th></th>\n",
       "      <th>Tm</th>\n",
       "      <th>Opp.1</th>\n",
       "      <th>1stD</th>\n",
       "      <th>TotYd</th>\n",
       "      <th>PassY</th>\n",
       "      <th>RushY</th>\n",
       "      <th>TO</th>\n",
       "      <th>1stD.1</th>\n",
       "      <th>TotYd.1</th>\n",
       "      <th>PassY.1</th>\n",
       "      <th>RushY.1</th>\n",
       "      <th>TO.1</th>\n",
       "      <th>Offense</th>\n",
       "      <th>Defense</th>\n",
       "      <th>Sp. Tms</th>\n",
       "      <th>Year</th>\n",
       "    </tr>\n",
       "  </thead>\n",
       "  <tbody>\n",
       "    <tr>\n",
       "      <th>count</th>\n",
       "      <td>895.000000</td>\n",
       "      <td>895.000000</td>\n",
       "      <td>895.000000</td>\n",
       "      <td>895.000000</td>\n",
       "      <td>895.000000</td>\n",
       "      <td>895.000000</td>\n",
       "      <td>895.000000</td>\n",
       "      <td>895.000000</td>\n",
       "      <td>895.000000</td>\n",
       "      <td>895.000000</td>\n",
       "      <td>895.000000</td>\n",
       "      <td>895.000000</td>\n",
       "      <td>895.000000</td>\n",
       "      <td>895.000000</td>\n",
       "      <td>895.000000</td>\n",
       "      <td>895.000000</td>\n",
       "    </tr>\n",
       "    <tr>\n",
       "      <th>mean</th>\n",
       "      <td>23.225698</td>\n",
       "      <td>23.027933</td>\n",
       "      <td>20.501676</td>\n",
       "      <td>348.048045</td>\n",
       "      <td>231.830168</td>\n",
       "      <td>116.217877</td>\n",
       "      <td>1.773184</td>\n",
       "      <td>20.456983</td>\n",
       "      <td>346.213408</td>\n",
       "      <td>230.554190</td>\n",
       "      <td>115.659218</td>\n",
       "      <td>1.777654</td>\n",
       "      <td>2.345296</td>\n",
       "      <td>-2.108760</td>\n",
       "      <td>-0.030872</td>\n",
       "      <td>2020.167598</td>\n",
       "    </tr>\n",
       "    <tr>\n",
       "      <th>std</th>\n",
       "      <td>9.855353</td>\n",
       "      <td>9.891712</td>\n",
       "      <td>4.985858</td>\n",
       "      <td>85.873697</td>\n",
       "      <td>79.250306</td>\n",
       "      <td>51.796933</td>\n",
       "      <td>1.000535</td>\n",
       "      <td>5.036344</td>\n",
       "      <td>86.111474</td>\n",
       "      <td>79.536163</td>\n",
       "      <td>51.477706</td>\n",
       "      <td>1.007107</td>\n",
       "      <td>11.939509</td>\n",
       "      <td>12.013528</td>\n",
       "      <td>5.010320</td>\n",
       "      <td>0.980150</td>\n",
       "    </tr>\n",
       "    <tr>\n",
       "      <th>min</th>\n",
       "      <td>0.000000</td>\n",
       "      <td>0.000000</td>\n",
       "      <td>6.000000</td>\n",
       "      <td>105.000000</td>\n",
       "      <td>-6.000000</td>\n",
       "      <td>3.000000</td>\n",
       "      <td>1.000000</td>\n",
       "      <td>6.000000</td>\n",
       "      <td>105.000000</td>\n",
       "      <td>-6.000000</td>\n",
       "      <td>3.000000</td>\n",
       "      <td>1.000000</td>\n",
       "      <td>-35.650000</td>\n",
       "      <td>-40.690000</td>\n",
       "      <td>-17.390000</td>\n",
       "      <td>2019.000000</td>\n",
       "    </tr>\n",
       "    <tr>\n",
       "      <th>25%</th>\n",
       "      <td>17.000000</td>\n",
       "      <td>17.000000</td>\n",
       "      <td>17.000000</td>\n",
       "      <td>285.500000</td>\n",
       "      <td>175.000000</td>\n",
       "      <td>78.000000</td>\n",
       "      <td>1.000000</td>\n",
       "      <td>17.000000</td>\n",
       "      <td>283.000000</td>\n",
       "      <td>174.000000</td>\n",
       "      <td>78.000000</td>\n",
       "      <td>1.000000</td>\n",
       "      <td>-4.800000</td>\n",
       "      <td>-9.875000</td>\n",
       "      <td>-3.410000</td>\n",
       "      <td>2019.000000</td>\n",
       "    </tr>\n",
       "    <tr>\n",
       "      <th>50%</th>\n",
       "      <td>23.000000</td>\n",
       "      <td>23.000000</td>\n",
       "      <td>21.000000</td>\n",
       "      <td>354.000000</td>\n",
       "      <td>229.000000</td>\n",
       "      <td>109.000000</td>\n",
       "      <td>1.000000</td>\n",
       "      <td>21.000000</td>\n",
       "      <td>352.000000</td>\n",
       "      <td>228.000000</td>\n",
       "      <td>108.000000</td>\n",
       "      <td>1.000000</td>\n",
       "      <td>3.210000</td>\n",
       "      <td>-2.830000</td>\n",
       "      <td>-0.060000</td>\n",
       "      <td>2020.000000</td>\n",
       "    </tr>\n",
       "    <tr>\n",
       "      <th>75%</th>\n",
       "      <td>30.000000</td>\n",
       "      <td>30.000000</td>\n",
       "      <td>24.000000</td>\n",
       "      <td>405.500000</td>\n",
       "      <td>282.500000</td>\n",
       "      <td>145.000000</td>\n",
       "      <td>2.000000</td>\n",
       "      <td>24.000000</td>\n",
       "      <td>403.500000</td>\n",
       "      <td>280.500000</td>\n",
       "      <td>144.000000</td>\n",
       "      <td>2.000000</td>\n",
       "      <td>9.930000</td>\n",
       "      <td>5.310000</td>\n",
       "      <td>3.355000</td>\n",
       "      <td>2021.000000</td>\n",
       "    </tr>\n",
       "    <tr>\n",
       "      <th>max</th>\n",
       "      <td>56.000000</td>\n",
       "      <td>56.000000</td>\n",
       "      <td>36.000000</td>\n",
       "      <td>592.000000</td>\n",
       "      <td>490.000000</td>\n",
       "      <td>404.000000</td>\n",
       "      <td>7.000000</td>\n",
       "      <td>36.000000</td>\n",
       "      <td>592.000000</td>\n",
       "      <td>490.000000</td>\n",
       "      <td>404.000000</td>\n",
       "      <td>7.000000</td>\n",
       "      <td>40.690000</td>\n",
       "      <td>35.650000</td>\n",
       "      <td>17.390000</td>\n",
       "      <td>2022.000000</td>\n",
       "    </tr>\n",
       "  </tbody>\n",
       "</table>\n",
       "</div>"
      ],
      "text/plain": [
       "               Tm       Opp.1        1stD       TotYd       PassY       RushY  \\\n",
       "count  895.000000  895.000000  895.000000  895.000000  895.000000  895.000000   \n",
       "mean    23.225698   23.027933   20.501676  348.048045  231.830168  116.217877   \n",
       "std      9.855353    9.891712    4.985858   85.873697   79.250306   51.796933   \n",
       "min      0.000000    0.000000    6.000000  105.000000   -6.000000    3.000000   \n",
       "25%     17.000000   17.000000   17.000000  285.500000  175.000000   78.000000   \n",
       "50%     23.000000   23.000000   21.000000  354.000000  229.000000  109.000000   \n",
       "75%     30.000000   30.000000   24.000000  405.500000  282.500000  145.000000   \n",
       "max     56.000000   56.000000   36.000000  592.000000  490.000000  404.000000   \n",
       "\n",
       "               TO      1stD.1     TotYd.1     PassY.1     RushY.1        TO.1  \\\n",
       "count  895.000000  895.000000  895.000000  895.000000  895.000000  895.000000   \n",
       "mean     1.773184   20.456983  346.213408  230.554190  115.659218    1.777654   \n",
       "std      1.000535    5.036344   86.111474   79.536163   51.477706    1.007107   \n",
       "min      1.000000    6.000000  105.000000   -6.000000    3.000000    1.000000   \n",
       "25%      1.000000   17.000000  283.000000  174.000000   78.000000    1.000000   \n",
       "50%      1.000000   21.000000  352.000000  228.000000  108.000000    1.000000   \n",
       "75%      2.000000   24.000000  403.500000  280.500000  144.000000    2.000000   \n",
       "max      7.000000   36.000000  592.000000  490.000000  404.000000    7.000000   \n",
       "\n",
       "          Offense     Defense     Sp. Tms         Year  \n",
       "count  895.000000  895.000000  895.000000   895.000000  \n",
       "mean     2.345296   -2.108760   -0.030872  2020.167598  \n",
       "std     11.939509   12.013528    5.010320     0.980150  \n",
       "min    -35.650000  -40.690000  -17.390000  2019.000000  \n",
       "25%     -4.800000   -9.875000   -3.410000  2019.000000  \n",
       "50%      3.210000   -2.830000   -0.060000  2020.000000  \n",
       "75%      9.930000    5.310000    3.355000  2021.000000  \n",
       "max     40.690000   35.650000   17.390000  2022.000000  "
      ]
     },
     "execution_count": 56,
     "metadata": {},
     "output_type": "execute_result"
    }
   ],
   "source": [
    "nfl_data.describe()"
   ]
  },
  {
   "cell_type": "code",
   "execution_count": 57,
   "id": "2251c01b",
   "metadata": {},
   "outputs": [
    {
     "name": "stdout",
     "output_type": "stream",
     "text": [
      "<class 'pandas.core.frame.DataFrame'>\n",
      "RangeIndex: 895 entries, 0 to 894\n",
      "Data columns (total 19 columns):\n",
      " #   Column     Non-Null Count  Dtype  \n",
      "---  ------     --------------  -----  \n",
      " 0   Opp        895 non-null    object \n",
      " 1   Tm         895 non-null    float64\n",
      " 2   Opp.1      895 non-null    float64\n",
      " 3   1stD       895 non-null    float64\n",
      " 4   TotYd      895 non-null    float64\n",
      " 5   PassY      895 non-null    float64\n",
      " 6   RushY      895 non-null    float64\n",
      " 7   TO         895 non-null    float64\n",
      " 8   1stD.1     895 non-null    float64\n",
      " 9   TotYd.1    895 non-null    float64\n",
      " 10  PassY.1    895 non-null    float64\n",
      " 11  RushY.1    895 non-null    float64\n",
      " 12  TO.1       895 non-null    float64\n",
      " 13  Offense    895 non-null    float64\n",
      " 14  Defense    895 non-null    float64\n",
      " 15  Sp. Tms    895 non-null    float64\n",
      " 16  Home_team  895 non-null    object \n",
      " 17  Year       895 non-null    int64  \n",
      " 18  Winner     891 non-null    object \n",
      "dtypes: float64(15), int64(1), object(3)\n",
      "memory usage: 133.0+ KB\n"
     ]
    }
   ],
   "source": [
    "nfl_data.info()"
   ]
  },
  {
   "cell_type": "markdown",
   "id": "25738db6",
   "metadata": {},
   "source": [
    "## Correlation Between Variables"
   ]
  },
  {
   "cell_type": "code",
   "execution_count": 95,
   "id": "ac3cc4d3",
   "metadata": {},
   "outputs": [
    {
     "data": {
      "image/png": "[encoded data removed]",
      "text/plain": [
       "<Figure size 600x400 with 2 Axes>"
      ]
     },
     "metadata": {},
     "output_type": "display_data"
    }
   ],
   "source": [
    "nfl_data[\"home_team_win\"] = nfl_data[\"Home_team\"] == nfl_data[\"Winner\"]\n",
    "nfl_data[\"home_team_win\"] = nfl_data[\"home_team_win\"].astype(int)\n",
    "int_columns = nfl_data.select_dtypes(include=['int64', 'int32', 'int', 'double', 'float'])\n",
    "plt.figure(figsize=(6,4))\n",
    "sns.heatmap(int_columns.corr())\n",
    "plt.show()"
   ]
  },
  {
   "cell_type": "markdown",
   "id": "71c7886a",
   "metadata": {},
   "source": [
    "<span style=\"font-size:14px\"> Looking at the heatmap of the correlation, it demonstrates that the ranking of the teams playing in the game matter a lot in determining who will win the game. However, most of the time, rankings are subjective, so a key variable that determines who will win is turnovers, both opponent turnovers and team turnovers.\n"
   ]
  },
  {
   "cell_type": "markdown",
   "id": "b9a3381b",
   "metadata": {},
   "source": [
    "## Does Home Field Advantage Exist?"
   ]
  },
  {
   "cell_type": "markdown",
   "id": "6c2f06de",
   "metadata": {},
   "source": [
    "**I will conduct a 1 Proportion Z-Test to determine whether the chance of the home team winning is greater than 50% or not with a significance level of 0.05**\n",
    "\n",
    "\n",
    "**Ho** = The proportion of home team wins is equal to 50%\n",
    "\n",
    "**Ha** = The proportion of home team wins is greater than 50%"
   ]
  },
  {
   "cell_type": "code",
   "execution_count": 58,
   "id": "25c90fff",
   "metadata": {},
   "outputs": [
    {
     "data": {
      "image/png": "[encoded data removed]",
      "text/plain": [
       "<Figure size 600x400 with 1 Axes>"
      ]
     },
     "metadata": {},
     "output_type": "display_data"
    }
   ],
   "source": [
    "sample_size = 150\n",
    "num_samples = 850\n",
    "\n",
    "sample_proportions = []\n",
    "for i in range(num_samples):\n",
    "    sample = nfl_data.sample(n=sample_size, replace=False)\n",
    "    proportion = (sample[\"Home_team\"] == sample[\"Winner\"]).mean()\n",
    "    sample_proportions.append(proportion)\n",
    "\n",
    "plt.figure(figsize=(6,4))\n",
    "sns.histplot(sample_proportions, bins=35)\n",
    "plt.xlabel(\"Sample Proportion\")\n",
    "plt.ylabel(\"Frequency\")\n",
    "plt.show()"
   ]
  },
  {
   "cell_type": "markdown",
   "id": "ff80f487",
   "metadata": {},
   "source": [
    "Since our sample size (150) is big enough for the central limit theorem to apply, we are able to conduct the test"
   ]
  },
  {
   "cell_type": "code",
   "execution_count": 59,
   "id": "181bdede",
   "metadata": {},
   "outputs": [
    {
     "name": "stdout",
     "output_type": "stream",
     "text": [
      "1.1481067942068246 0.1254622398694959\n"
     ]
    }
   ],
   "source": [
    "from statsmodels.stats.proportion import proportions_ztest\n",
    "\n",
    "\n",
    "sample = nfl_data.sample(n=sample_size, replace=False, random_state=42)\n",
    "homeTeamWin = sample[sample[\"Home_team\"] == sample[\"Winner\"]]\n",
    "zStatistic, pValue = proportions_ztest(homeTeamWin.shape[0], sample.shape[0], 0.5, alternative=\"larger\", prop_var=False)\n",
    "\n",
    "print(zStatistic, pValue)"
   ]
  },
  {
   "cell_type": "markdown",
   "id": "b6cd7566",
   "metadata": {},
   "source": [
    "Since the p-value is greater than α (in our example, p = 0.12 > 0.05), we fail to reject the null hypothesis. This means we do not have evidence to conclude that a home field advantage exists.\n",
    "\n",
    "While this test isn't perfect (an injury in one game may affect another game meaning each game isn't independent), it provides an overview of the general trend in home team performance. Despite a potential violation of independence, the 1-proportion z-test offers a useful starting point for assessing whether home field advantage exists in the data. Further analysis will need to be conducted in order to eliminate confounding variables."
   ]
  },
  {
   "cell_type": "markdown",
   "id": "cb055694",
   "metadata": {},
   "source": [
    "## Does Home Field Advantage Affect Turnovers?"
   ]
  },
  {
   "cell_type": "code",
   "execution_count": 157,
   "id": "57faa8e0",
   "metadata": {},
   "outputs": [
    {
     "data": {
      "image/png": "[encoded data removed]",
      "text/plain": [
       "<Figure size 800x300 with 2 Axes>"
      ]
     },
     "metadata": {},
     "output_type": "display_data"
    },
    {
     "name": "stdout",
     "output_type": "stream",
     "text": [
      "Home Team Turnovers Mean: 1.7731843575418995\n",
      "Away Team Turnovers Mean: 1.7776536312849163\n"
     ]
    }
   ],
   "source": [
    "fig, axes = plt.subplots(1, 2, figsize=(8,3))\n",
    "sns.histplot(nfl_data[\"TO\"], ax=axes[0], discrete=True)\n",
    "axes[0].set_title(\"Team Turnovers\")\n",
    "axes[0].set_xlabel(\"Turnovers\")\n",
    "sns.histplot(nfl_data[\"TO.1\"], ax=axes[1], discrete=True)\n",
    "axes[1].set_title(\"Away Team Turnovers\")\n",
    "axes[1].set_xlabel(\"Turnovers\")\n",
    "plt.show()\n",
    "\n",
    "\n",
    "print(f\"Home Team Turnovers Mean: {nfl_data[\"TO\"].mean()}\")\n",
    "print(f\"Away Team Turnovers Mean: {nfl_data[\"TO.1\"].mean()}\")\n",
    "\n"
   ]
  },
  {
   "cell_type": "markdown",
   "id": "eb6caa03",
   "metadata": {},
   "source": [
    "**A Two Sample One Sided T-Test will be used to determine whether there is a significant difference between home team turnovers and away team turnovers**\n",
    "\n",
    "**H₀:** The mean turnovers for home teams is equal to the mean turnovers for away teams (μ₁ = μ₂)\n",
    "\n",
    "**H₁:** The mean turnovers for home teams is less than the mean turnovers for away teams (μ₁ < μ₂)"
   ]
  },
  {
   "cell_type": "code",
   "execution_count": 154,
   "id": "ead676e2",
   "metadata": {},
   "outputs": [
    {
     "name": "stdout",
     "output_type": "stream",
     "text": [
      "1.744\n",
      "1.792\n",
      "T-Statistic: -0.5362257839934658\n",
      "p-Value: 0.29602115758361924\n"
     ]
    }
   ],
   "source": [
    "import scipy.stats as stats\n",
    "\n",
    "turnoverSampleHome = nfl_data.sample(250, replace=False, random_state=100)\n",
    "remaining = nfl_data.drop(turnoverSampleHome.index)\n",
    "turnoverSampleAway = remaining.sample(250, replace=False, random_state=50)\n",
    "\n",
    "mean1 = turnoverSampleHome[\"TO\"].mean()\n",
    "mean2 = turnoverSampleAway[\"TO.1\"].mean()\n",
    "print(mean1)\n",
    "print(mean2)\n",
    "tStatistic, pValue = stats.ttest_ind(turnoverSampleHome[\"TO\"], turnoverSampleAway[\"TO.1\"], equal_var=False, alternative=\"less\")\n",
    "\n",
    "print(f\"T-Statistic: {tStatistic}\")\n",
    "print(f\"p-Value: {pValue}\")"
   ]
  },
  {
   "cell_type": "markdown",
   "id": "625e0cf0",
   "metadata": {},
   "source": [
    "The p-value returned by the t-test is 59%, which is much higher than the significance level of 5%. This means that we do not have sufficient evidence to reject the null hypothesis and say that there is a difference between home team and away team turnovers. While this test is not perfect (1 game may affect another game), it is a starting point to identify trends in what playing in a team's home-field affects."
   ]
  },
  {
   "cell_type": "markdown",
   "id": "f54689d9",
   "metadata": {},
   "source": [
    "## Logistic Regression Predicting if the Home Team Won\n",
    "\n",
    "Backwards Elimination was used so the strongest features in predicting a win were kept in the model"
   ]
  },
  {
   "cell_type": "code",
   "execution_count": null,
   "id": "fe5cb7d5",
   "metadata": {},
   "outputs": [
    {
     "name": "stdout",
     "output_type": "stream",
     "text": [
      "Warning: Maximum number of iterations has been exceeded.\n",
      "         Current function value: 0.244445\n",
      "         Iterations: 35\n",
      "Removing 1stD with p-value 0.9330465829580432\n",
      "Warning: Maximum number of iterations has been exceeded.\n",
      "         Current function value: 0.244449\n",
      "         Iterations: 35\n",
      "Removing TO with p-value 0.0827247944148699\n",
      "Warning: Maximum number of iterations has been exceeded.\n",
      "         Current function value: 0.246142\n",
      "         Iterations: 35\n",
      "Removing RushY with p-value 0.9999999799673248\n",
      "Optimization terminated successfully.\n",
      "         Current function value: 0.246142\n",
      "         Iterations 8\n",
      "Removing TotYd with p-value 0.22649191205794517\n",
      "Optimization terminated successfully.\n",
      "         Current function value: 0.246966\n",
      "         Iterations 8\n",
      "                           Logit Regression Results                           \n",
      "==============================================================================\n",
      "Dep. Variable:          home_team_win   No. Observations:                  895\n",
      "Model:                          Logit   Df Residuals:                      889\n",
      "Method:                           MLE   Df Model:                            5\n",
      "Date:                Tue, 08 Jul 2025   Pseudo R-squ.:                  0.6437\n",
      "Time:                        10:12:08   Log-Likelihood:                -221.03\n",
      "converged:                       True   LL-Null:                       -620.34\n",
      "Covariance Type:            nonrobust   LLR p-value:                2.313e-170\n",
      "==============================================================================\n",
      "                 coef    std err          z      P>|z|      [0.025      0.975]\n",
      "------------------------------------------------------------------------------\n",
      "const         -0.8687      0.837     -1.037      0.300      -2.510       0.772\n",
      "PassY         -0.0084      0.002     -4.440      0.000      -0.012      -0.005\n",
      "TotYd.1        0.0061      0.002      2.659      0.008       0.002       0.011\n",
      "TO.1           0.3531      0.158      2.233      0.026       0.043       0.663\n",
      "Offense        0.3589      0.028     12.739      0.000       0.304       0.414\n",
      "Defense        0.3367      0.031     10.893      0.000       0.276       0.397\n",
      "==============================================================================\n"
     ]
    }
   ],
   "source": [
    "from statsmodels.tools.sm_exceptions import ConvergenceWarning\n",
    "import warnings\n",
    "\n",
    "\n",
    "warnings.simplefilter('ignore', ConvergenceWarning)\n",
    "\n",
    "\n",
    "\n",
    "predictors = [\"1stD\", \"TotYd\", \"PassY\", \"RushY\", \"TO\", \"TotYd.1\", \"TO.1\", \"Offense\", \"Defense\"]\n",
    "X = nfl_data[predictors]\n",
    "X = sm.add_constant(X)\n",
    "y = nfl_data[\"home_team_win\"]\n",
    "\n",
    "while True:\n",
    "    model = sm.Logit(y, X).fit(disp=True)\n",
    "    pvalues = model.pvalues.drop(\"const\")\n",
    "    max_pval = pvalues.max()\n",
    "    if max_pval > 0.05:\n",
    "        worst_feature = pvalues.idxmax()\n",
    "        print(f\"Removing {worst_feature} with p-value {max_pval}\")\n",
    "        X = X.drop(columns=[worst_feature])\n",
    "    else:\n",
    "        break\n",
    "print(model.summary())\n",
    "\n"
   ]
  },
  {
   "cell_type": "markdown",
   "id": "da75ee2d",
   "metadata": {},
   "source": [
    "## Has passing become more prevalent since 1990s?\n",
    "\n",
    "Each dataframe contains player passing data from three different years from the 1990s era and the 2020s era, pulled from pfr.com. "
   ]
  },
  {
   "cell_type": "code",
   "execution_count": 217,
   "id": "a12b3be3",
   "metadata": {},
   "outputs": [
    {
     "data": {
      "text/plain": [
       "Text(0, 0.5, 'Frequency')"
      ]
     },
     "execution_count": 217,
     "metadata": {},
     "output_type": "execute_result"
    },
    {
     "data": {
      "image/png": "[encoded data removed]",
      "text/plain": [
       "<Figure size 800x300 with 2 Axes>"
      ]
     },
     "metadata": {},
     "output_type": "display_data"
    }
   ],
   "source": [
    "fig, axes = plt.subplots(1, 2, figsize=(8, 3))\n",
    "\n",
    "passing1990 = pd.read_csv(\"playerstats1990.csv\")\n",
    "passing1991 = pd.read_csv(\"playerstats1991.csv\")\n",
    "passing1992 = pd.read_csv(\"playerstats1992.csv\")\n",
    "\n",
    "passing1990s = pd.concat([passing1990, passing1991, passing1992], ignore_index=True)\n",
    "\n",
    "\n",
    "passing2022 = pd.read_csv(\"playerstats2022.csv\")\n",
    "passing2023 = pd.read_csv(\"playerstats2023.csv\")\n",
    "passing2024 = pd.read_csv(\"playerstats2024.csv\")\n",
    "\n",
    "passing2020s = pd.concat([passing2022, passing2023, passing2024], ignore_index=True)\n",
    "\n",
    "\n",
    "sns.histplot(passing1990s[passing1990s[\"Att\"] > 60][\"Y/G\"], ax=axes[0], kde=True)\n",
    "sns.histplot(passing2020s[passing2020s[\"Att\"] > 60][\"Y/G\"], ax=axes[1], kde=True)\n",
    "axes[0].set_title(\"Passing Y/G of QBs in 1990\")\n",
    "axes[1].set_title(\"Passing Y/G of QBs in 2022\")\n",
    "axes[0].set_ylabel(\"Frequency\")\n",
    "axes[1].set_ylabel(\"Frequency\")\n"
   ]
  },
  {
   "cell_type": "markdown",
   "id": "96394bf7",
   "metadata": {},
   "source": [
    "**A two sample, one-sided t-test will be conducted using passing yards per game (Y/G) to determine if there is evidence showing that passing has evolved between two different eras.**\n",
    "\n",
    "**Ho:** The mean passing yards per game (Y/G) for QBs in the 1990s is equal to the mean passing yards per game for QBs in the 2020s.  μ₁ = μ₂\n",
    "**Ha:** The mean passing yards per game (Y/G) for QBs in the 1990s is less than the mean passing yards per game for QBs in the 2020s.  μ₁ < μ₂\n"
   ]
  },
  {
   "cell_type": "code",
   "execution_count": 220,
   "id": "de516076",
   "metadata": {},
   "outputs": [
    {
     "name": "stdout",
     "output_type": "stream",
     "text": [
      "156.91000000000003\n",
      "196.60250000000002\n",
      "T-Statistic: -3.252398589060368\n",
      "p-Value: 0.0008557119705283694\n"
     ]
    }
   ],
   "source": [
    "sample1 = passing1990s[passing1990s[\"Att\"] > 50].sample(40, random_state=43819048)\n",
    "sample2 = passing2020s[passing2020s[\"Att\"] > 50].sample(40, random_state=5012309)\n",
    "\n",
    "\n",
    "print(sample1[\"Y/G\"].mean())\n",
    "print(sample2[\"Y/G\"].mean())\n",
    "\n",
    "tStatistic, pValue = stats.ttest_ind(sample1[\"Y/G\"], sample2[\"Y/G\"], equal_var=False, alternative=\"less\")\n",
    "\n",
    "\n",
    "print(f\"T-Statistic: {tStatistic}\")\n",
    "print(f\"p-Value: {pValue}\")"
   ]
  },
  {
   "cell_type": "markdown",
   "id": "6a101184",
   "metadata": {},
   "source": [
    "The p-value returned by the test is 0.08%, which is less than our significance level of 5%, demonstrating that there is evidence to show that passing has become more prevalent in today's era compared to the 1990s. "
   ]
  }
 ],
 "metadata": {
  "kernelspec": {
   "display_name": "Python 3",
   "language": "python",
   "name": "python3"
  },
  "language_info": {
   "codemirror_mode": {
    "name": "ipython",
    "version": 3
   },
   "file_extension": ".py",
   "mimetype": "text/x-python",
   "name": "python",
   "nbconvert_exporter": "python",
   "pygments_lexer": "ipython3",
   "version": "3.12.9"
  }
 },
 "nbformat": 4,
 "nbformat_minor": 5
}
